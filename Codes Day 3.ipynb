{
 "cells": [
  {
   "cell_type": "code",
   "execution_count": 1,
   "metadata": {
    "collapsed": true
   },
   "outputs": [],
   "source": [
    "data_housing <- read.csv(\"housing.csv\")"
   ]
  },
  {
   "cell_type": "code",
   "execution_count": null,
   "metadata": {
    "collapsed": true
   },
   "outputs": [],
   "source": [
    "plot(data_housing)"
   ]
  },
  {
   "cell_type": "code",
   "execution_count": 2,
   "metadata": {},
   "outputs": [
    {
     "name": "stdout",
     "output_type": "stream",
     "text": [
      "'data.frame':\t1460 obs. of  25 variables:\n",
      " $ MSSubClass   : int  60 20 60 70 60 50 20 60 50 190 ...\n",
      " $ LotFrontage  : int  65 80 68 60 84 85 75 NA 51 50 ...\n",
      " $ LotArea      : int  8450 9600 11250 9550 14260 14115 10084 10382 6120 7420 ...\n",
      " $ OverallQual  : int  7 6 7 7 8 5 8 7 7 5 ...\n",
      " $ OverallCond  : int  5 8 5 5 5 5 5 6 5 6 ...\n",
      " $ YearBuilt    : int  2003 1976 2001 1915 2000 1993 2004 1973 1931 1939 ...\n",
      " $ YearRemodAdd : int  2003 1976 2002 1970 2000 1995 2005 1973 1950 1950 ...\n",
      " $ MasVnrArea   : int  196 0 162 0 350 0 186 240 0 0 ...\n",
      " $ TotalBsmtSF  : int  856 1262 920 756 1145 796 1686 1107 952 991 ...\n",
      " $ X1stFlrSF    : int  856 1262 920 961 1145 796 1694 1107 1022 1077 ...\n",
      " $ X2ndFlrSF    : int  854 0 866 756 1053 566 0 983 752 0 ...\n",
      " $ GrLivArea    : int  1710 1262 1786 1717 2198 1362 1694 2090 1774 1077 ...\n",
      " $ BedroomAbvGr : int  3 3 3 3 4 1 3 3 2 2 ...\n",
      " $ KitchenAbvGr : int  1 1 1 1 1 1 1 1 2 2 ...\n",
      " $ TotRmsAbvGrd : int  8 6 6 7 9 5 7 7 8 5 ...\n",
      " $ GarageArea   : int  548 460 608 642 836 480 636 484 468 205 ...\n",
      " $ WoodDeckSF   : int  0 298 0 0 192 40 255 235 90 0 ...\n",
      " $ OpenPorchSF  : int  61 0 42 35 84 30 57 204 0 4 ...\n",
      " $ EnclosedPorch: int  0 0 0 272 0 0 0 228 205 0 ...\n",
      " $ X3SsnPorch   : int  0 0 0 0 0 320 0 0 0 0 ...\n",
      " $ ScreenPorch  : int  0 0 0 0 0 0 0 0 0 0 ...\n",
      " $ PoolArea     : int  0 0 0 0 0 0 0 0 0 0 ...\n",
      " $ MoSold       : int  2 5 9 2 12 10 8 11 4 1 ...\n",
      " $ YrSold       : int  2008 2007 2008 2006 2008 2009 2007 2009 2008 2008 ...\n",
      " $ SalePrice    : int  208500 181500 223500 140000 250000 143000 307000 200000 129900 118000 ...\n"
     ]
    }
   ],
   "source": [
    "str(data_housing)"
   ]
  },
  {
   "cell_type": "code",
   "execution_count": 3,
   "metadata": {},
   "outputs": [
    {
     "data": {
      "text/plain": [
       "   MSSubClass     LotFrontage        LotArea        OverallQual    \n",
       " Min.   : 20.0   Min.   : 21.00   Min.   :  1300   Min.   : 1.000  \n",
       " 1st Qu.: 20.0   1st Qu.: 59.00   1st Qu.:  7554   1st Qu.: 5.000  \n",
       " Median : 50.0   Median : 69.00   Median :  9478   Median : 6.000  \n",
       " Mean   : 56.9   Mean   : 70.05   Mean   : 10517   Mean   : 6.099  \n",
       " 3rd Qu.: 70.0   3rd Qu.: 80.00   3rd Qu.: 11602   3rd Qu.: 7.000  \n",
       " Max.   :190.0   Max.   :313.00   Max.   :215245   Max.   :10.000  \n",
       "                 NA's   :259                                       \n",
       "  OverallCond      YearBuilt     YearRemodAdd    MasVnrArea    \n",
       " Min.   :1.000   Min.   :1872   Min.   :1950   Min.   :   0.0  \n",
       " 1st Qu.:5.000   1st Qu.:1954   1st Qu.:1967   1st Qu.:   0.0  \n",
       " Median :5.000   Median :1973   Median :1994   Median :   0.0  \n",
       " Mean   :5.575   Mean   :1971   Mean   :1985   Mean   : 103.7  \n",
       " 3rd Qu.:6.000   3rd Qu.:2000   3rd Qu.:2004   3rd Qu.: 166.0  \n",
       " Max.   :9.000   Max.   :2010   Max.   :2010   Max.   :1600.0  \n",
       "                                               NA's   :8       \n",
       "  TotalBsmtSF       X1stFlrSF      X2ndFlrSF      GrLivArea     BedroomAbvGr  \n",
       " Min.   :   0.0   Min.   : 334   Min.   :   0   Min.   : 334   Min.   :0.000  \n",
       " 1st Qu.: 795.8   1st Qu.: 882   1st Qu.:   0   1st Qu.:1130   1st Qu.:2.000  \n",
       " Median : 991.5   Median :1087   Median :   0   Median :1464   Median :3.000  \n",
       " Mean   :1057.4   Mean   :1163   Mean   : 347   Mean   :1515   Mean   :2.866  \n",
       " 3rd Qu.:1298.2   3rd Qu.:1391   3rd Qu.: 728   3rd Qu.:1777   3rd Qu.:3.000  \n",
       " Max.   :6110.0   Max.   :4692   Max.   :2065   Max.   :5642   Max.   :8.000  \n",
       "                                                                              \n",
       "  KitchenAbvGr    TotRmsAbvGrd      GarageArea       WoodDeckSF    \n",
       " Min.   :0.000   Min.   : 2.000   Min.   :   0.0   Min.   :  0.00  \n",
       " 1st Qu.:1.000   1st Qu.: 5.000   1st Qu.: 334.5   1st Qu.:  0.00  \n",
       " Median :1.000   Median : 6.000   Median : 480.0   Median :  0.00  \n",
       " Mean   :1.047   Mean   : 6.518   Mean   : 473.0   Mean   : 94.24  \n",
       " 3rd Qu.:1.000   3rd Qu.: 7.000   3rd Qu.: 576.0   3rd Qu.:168.00  \n",
       " Max.   :3.000   Max.   :14.000   Max.   :1418.0   Max.   :857.00  \n",
       "                                                                   \n",
       "  OpenPorchSF     EnclosedPorch      X3SsnPorch      ScreenPorch    \n",
       " Min.   :  0.00   Min.   :  0.00   Min.   :  0.00   Min.   :  0.00  \n",
       " 1st Qu.:  0.00   1st Qu.:  0.00   1st Qu.:  0.00   1st Qu.:  0.00  \n",
       " Median : 25.00   Median :  0.00   Median :  0.00   Median :  0.00  \n",
       " Mean   : 46.66   Mean   : 21.95   Mean   :  3.41   Mean   : 15.06  \n",
       " 3rd Qu.: 68.00   3rd Qu.:  0.00   3rd Qu.:  0.00   3rd Qu.:  0.00  \n",
       " Max.   :547.00   Max.   :552.00   Max.   :508.00   Max.   :480.00  \n",
       "                                                                    \n",
       "    PoolArea           MoSold           YrSold       SalePrice     \n",
       " Min.   :  0.000   Min.   : 1.000   Min.   :2006   Min.   : 34900  \n",
       " 1st Qu.:  0.000   1st Qu.: 5.000   1st Qu.:2007   1st Qu.:129975  \n",
       " Median :  0.000   Median : 6.000   Median :2008   Median :163000  \n",
       " Mean   :  2.759   Mean   : 6.322   Mean   :2008   Mean   :180921  \n",
       " 3rd Qu.:  0.000   3rd Qu.: 8.000   3rd Qu.:2009   3rd Qu.:214000  \n",
       " Max.   :738.000   Max.   :12.000   Max.   :2010   Max.   :755000  \n",
       "                                                                   "
      ]
     },
     "metadata": {},
     "output_type": "display_data"
    }
   ],
   "source": [
    "summary(data_housing)"
   ]
  },
  {
   "cell_type": "markdown",
   "metadata": {},
   "source": [
    "### Add Missing Value"
   ]
  },
  {
   "cell_type": "code",
   "execution_count": 4,
   "metadata": {},
   "outputs": [
    {
     "data": {
      "text/html": [
       "<dl class=dl-horizontal>\n",
       "\t<dt>MSSubClass</dt>\n",
       "\t\t<dd>0</dd>\n",
       "\t<dt>LotFrontage</dt>\n",
       "\t\t<dd>259</dd>\n",
       "\t<dt>LotArea</dt>\n",
       "\t\t<dd>0</dd>\n",
       "\t<dt>OverallQual</dt>\n",
       "\t\t<dd>0</dd>\n",
       "\t<dt>OverallCond</dt>\n",
       "\t\t<dd>0</dd>\n",
       "\t<dt>YearBuilt</dt>\n",
       "\t\t<dd>0</dd>\n",
       "\t<dt>YearRemodAdd</dt>\n",
       "\t\t<dd>0</dd>\n",
       "\t<dt>MasVnrArea</dt>\n",
       "\t\t<dd>8</dd>\n",
       "\t<dt>TotalBsmtSF</dt>\n",
       "\t\t<dd>0</dd>\n",
       "\t<dt>X1stFlrSF</dt>\n",
       "\t\t<dd>0</dd>\n",
       "\t<dt>X2ndFlrSF</dt>\n",
       "\t\t<dd>0</dd>\n",
       "\t<dt>GrLivArea</dt>\n",
       "\t\t<dd>0</dd>\n",
       "\t<dt>BedroomAbvGr</dt>\n",
       "\t\t<dd>0</dd>\n",
       "\t<dt>KitchenAbvGr</dt>\n",
       "\t\t<dd>0</dd>\n",
       "\t<dt>TotRmsAbvGrd</dt>\n",
       "\t\t<dd>0</dd>\n",
       "\t<dt>GarageArea</dt>\n",
       "\t\t<dd>0</dd>\n",
       "\t<dt>WoodDeckSF</dt>\n",
       "\t\t<dd>0</dd>\n",
       "\t<dt>OpenPorchSF</dt>\n",
       "\t\t<dd>0</dd>\n",
       "\t<dt>EnclosedPorch</dt>\n",
       "\t\t<dd>0</dd>\n",
       "\t<dt>X3SsnPorch</dt>\n",
       "\t\t<dd>0</dd>\n",
       "\t<dt>ScreenPorch</dt>\n",
       "\t\t<dd>0</dd>\n",
       "\t<dt>PoolArea</dt>\n",
       "\t\t<dd>0</dd>\n",
       "\t<dt>MoSold</dt>\n",
       "\t\t<dd>0</dd>\n",
       "\t<dt>YrSold</dt>\n",
       "\t\t<dd>0</dd>\n",
       "\t<dt>SalePrice</dt>\n",
       "\t\t<dd>0</dd>\n",
       "</dl>\n"
      ],
      "text/latex": [
       "\\begin{description*}\n",
       "\\item[MSSubClass] 0\n",
       "\\item[LotFrontage] 259\n",
       "\\item[LotArea] 0\n",
       "\\item[OverallQual] 0\n",
       "\\item[OverallCond] 0\n",
       "\\item[YearBuilt] 0\n",
       "\\item[YearRemodAdd] 0\n",
       "\\item[MasVnrArea] 8\n",
       "\\item[TotalBsmtSF] 0\n",
       "\\item[X1stFlrSF] 0\n",
       "\\item[X2ndFlrSF] 0\n",
       "\\item[GrLivArea] 0\n",
       "\\item[BedroomAbvGr] 0\n",
       "\\item[KitchenAbvGr] 0\n",
       "\\item[TotRmsAbvGrd] 0\n",
       "\\item[GarageArea] 0\n",
       "\\item[WoodDeckSF] 0\n",
       "\\item[OpenPorchSF] 0\n",
       "\\item[EnclosedPorch] 0\n",
       "\\item[X3SsnPorch] 0\n",
       "\\item[ScreenPorch] 0\n",
       "\\item[PoolArea] 0\n",
       "\\item[MoSold] 0\n",
       "\\item[YrSold] 0\n",
       "\\item[SalePrice] 0\n",
       "\\end{description*}\n"
      ],
      "text/markdown": [
       "MSSubClass\n",
       ":   0LotFrontage\n",
       ":   259LotArea\n",
       ":   0OverallQual\n",
       ":   0OverallCond\n",
       ":   0YearBuilt\n",
       ":   0YearRemodAdd\n",
       ":   0MasVnrArea\n",
       ":   8TotalBsmtSF\n",
       ":   0X1stFlrSF\n",
       ":   0X2ndFlrSF\n",
       ":   0GrLivArea\n",
       ":   0BedroomAbvGr\n",
       ":   0KitchenAbvGr\n",
       ":   0TotRmsAbvGrd\n",
       ":   0GarageArea\n",
       ":   0WoodDeckSF\n",
       ":   0OpenPorchSF\n",
       ":   0EnclosedPorch\n",
       ":   0X3SsnPorch\n",
       ":   0ScreenPorch\n",
       ":   0PoolArea\n",
       ":   0MoSold\n",
       ":   0YrSold\n",
       ":   0SalePrice\n",
       ":   0\n",
       "\n"
      ],
      "text/plain": [
       "   MSSubClass   LotFrontage       LotArea   OverallQual   OverallCond \n",
       "            0           259             0             0             0 \n",
       "    YearBuilt  YearRemodAdd    MasVnrArea   TotalBsmtSF     X1stFlrSF \n",
       "            0             0             8             0             0 \n",
       "    X2ndFlrSF     GrLivArea  BedroomAbvGr  KitchenAbvGr  TotRmsAbvGrd \n",
       "            0             0             0             0             0 \n",
       "   GarageArea    WoodDeckSF   OpenPorchSF EnclosedPorch    X3SsnPorch \n",
       "            0             0             0             0             0 \n",
       "  ScreenPorch      PoolArea        MoSold        YrSold     SalePrice \n",
       "            0             0             0             0             0 "
      ]
     },
     "metadata": {},
     "output_type": "display_data"
    }
   ],
   "source": [
    "colSums(is.na(data_housing))"
   ]
  },
  {
   "cell_type": "code",
   "execution_count": 5,
   "metadata": {
    "collapsed": true
   },
   "outputs": [],
   "source": [
    "data_housing$LotFrontage[is.na(data_housing$LotFrontage)] <- median(data_housing$LotFrontage, na.rm=TRUE)\n",
    "data_housing$MasVnrArea[is.na(data_housing$MasVnrArea)] <- median(data_housing$MasVnrArea, na.rm=TRUE)"
   ]
  },
  {
   "cell_type": "code",
   "execution_count": 6,
   "metadata": {},
   "outputs": [
    {
     "data": {
      "text/html": [
       "<dl class=dl-horizontal>\n",
       "\t<dt>MSSubClass</dt>\n",
       "\t\t<dd>0</dd>\n",
       "\t<dt>LotFrontage</dt>\n",
       "\t\t<dd>0</dd>\n",
       "\t<dt>LotArea</dt>\n",
       "\t\t<dd>0</dd>\n",
       "\t<dt>OverallQual</dt>\n",
       "\t\t<dd>0</dd>\n",
       "\t<dt>OverallCond</dt>\n",
       "\t\t<dd>0</dd>\n",
       "\t<dt>YearBuilt</dt>\n",
       "\t\t<dd>0</dd>\n",
       "\t<dt>YearRemodAdd</dt>\n",
       "\t\t<dd>0</dd>\n",
       "\t<dt>MasVnrArea</dt>\n",
       "\t\t<dd>0</dd>\n",
       "\t<dt>TotalBsmtSF</dt>\n",
       "\t\t<dd>0</dd>\n",
       "\t<dt>X1stFlrSF</dt>\n",
       "\t\t<dd>0</dd>\n",
       "\t<dt>X2ndFlrSF</dt>\n",
       "\t\t<dd>0</dd>\n",
       "\t<dt>GrLivArea</dt>\n",
       "\t\t<dd>0</dd>\n",
       "\t<dt>BedroomAbvGr</dt>\n",
       "\t\t<dd>0</dd>\n",
       "\t<dt>KitchenAbvGr</dt>\n",
       "\t\t<dd>0</dd>\n",
       "\t<dt>TotRmsAbvGrd</dt>\n",
       "\t\t<dd>0</dd>\n",
       "\t<dt>GarageArea</dt>\n",
       "\t\t<dd>0</dd>\n",
       "\t<dt>WoodDeckSF</dt>\n",
       "\t\t<dd>0</dd>\n",
       "\t<dt>OpenPorchSF</dt>\n",
       "\t\t<dd>0</dd>\n",
       "\t<dt>EnclosedPorch</dt>\n",
       "\t\t<dd>0</dd>\n",
       "\t<dt>X3SsnPorch</dt>\n",
       "\t\t<dd>0</dd>\n",
       "\t<dt>ScreenPorch</dt>\n",
       "\t\t<dd>0</dd>\n",
       "\t<dt>PoolArea</dt>\n",
       "\t\t<dd>0</dd>\n",
       "\t<dt>MoSold</dt>\n",
       "\t\t<dd>0</dd>\n",
       "\t<dt>YrSold</dt>\n",
       "\t\t<dd>0</dd>\n",
       "\t<dt>SalePrice</dt>\n",
       "\t\t<dd>0</dd>\n",
       "</dl>\n"
      ],
      "text/latex": [
       "\\begin{description*}\n",
       "\\item[MSSubClass] 0\n",
       "\\item[LotFrontage] 0\n",
       "\\item[LotArea] 0\n",
       "\\item[OverallQual] 0\n",
       "\\item[OverallCond] 0\n",
       "\\item[YearBuilt] 0\n",
       "\\item[YearRemodAdd] 0\n",
       "\\item[MasVnrArea] 0\n",
       "\\item[TotalBsmtSF] 0\n",
       "\\item[X1stFlrSF] 0\n",
       "\\item[X2ndFlrSF] 0\n",
       "\\item[GrLivArea] 0\n",
       "\\item[BedroomAbvGr] 0\n",
       "\\item[KitchenAbvGr] 0\n",
       "\\item[TotRmsAbvGrd] 0\n",
       "\\item[GarageArea] 0\n",
       "\\item[WoodDeckSF] 0\n",
       "\\item[OpenPorchSF] 0\n",
       "\\item[EnclosedPorch] 0\n",
       "\\item[X3SsnPorch] 0\n",
       "\\item[ScreenPorch] 0\n",
       "\\item[PoolArea] 0\n",
       "\\item[MoSold] 0\n",
       "\\item[YrSold] 0\n",
       "\\item[SalePrice] 0\n",
       "\\end{description*}\n"
      ],
      "text/markdown": [
       "MSSubClass\n",
       ":   0LotFrontage\n",
       ":   0LotArea\n",
       ":   0OverallQual\n",
       ":   0OverallCond\n",
       ":   0YearBuilt\n",
       ":   0YearRemodAdd\n",
       ":   0MasVnrArea\n",
       ":   0TotalBsmtSF\n",
       ":   0X1stFlrSF\n",
       ":   0X2ndFlrSF\n",
       ":   0GrLivArea\n",
       ":   0BedroomAbvGr\n",
       ":   0KitchenAbvGr\n",
       ":   0TotRmsAbvGrd\n",
       ":   0GarageArea\n",
       ":   0WoodDeckSF\n",
       ":   0OpenPorchSF\n",
       ":   0EnclosedPorch\n",
       ":   0X3SsnPorch\n",
       ":   0ScreenPorch\n",
       ":   0PoolArea\n",
       ":   0MoSold\n",
       ":   0YrSold\n",
       ":   0SalePrice\n",
       ":   0\n",
       "\n"
      ],
      "text/plain": [
       "   MSSubClass   LotFrontage       LotArea   OverallQual   OverallCond \n",
       "            0             0             0             0             0 \n",
       "    YearBuilt  YearRemodAdd    MasVnrArea   TotalBsmtSF     X1stFlrSF \n",
       "            0             0             0             0             0 \n",
       "    X2ndFlrSF     GrLivArea  BedroomAbvGr  KitchenAbvGr  TotRmsAbvGrd \n",
       "            0             0             0             0             0 \n",
       "   GarageArea    WoodDeckSF   OpenPorchSF EnclosedPorch    X3SsnPorch \n",
       "            0             0             0             0             0 \n",
       "  ScreenPorch      PoolArea        MoSold        YrSold     SalePrice \n",
       "            0             0             0             0             0 "
      ]
     },
     "metadata": {},
     "output_type": "display_data"
    }
   ],
   "source": [
    "colSums(is.na(data_housing))"
   ]
  },
  {
   "cell_type": "markdown",
   "metadata": {},
   "source": [
    "### Linear Regression"
   ]
  },
  {
   "cell_type": "code",
   "execution_count": 7,
   "metadata": {
    "scrolled": false
   },
   "outputs": [
    {
     "data": {
      "text/plain": [
       "\n",
       "Call:\n",
       "lm(formula = SalePrice ~ ., data = data_housing)\n",
       "\n",
       "Residuals:\n",
       "    Min      1Q  Median      3Q     Max \n",
       "-487766  -17669   -2084   13743  314772 \n",
       "\n",
       "Coefficients:\n",
       "                Estimate Std. Error t value Pr(>|t|)    \n",
       "(Intercept)   -3.669e+02  1.439e+06   0.000 0.999797    \n",
       "MSSubClass    -1.477e+02  2.800e+01  -5.276 1.52e-07 ***\n",
       "LotFrontage   -4.678e+01  5.269e+01  -0.888 0.374729    \n",
       "LotArea        5.439e-01  1.025e-01   5.305 1.30e-07 ***\n",
       "OverallQual    1.754e+04  1.179e+03  14.877  < 2e-16 ***\n",
       "OverallCond    4.762e+03  1.027e+03   4.636 3.88e-06 ***\n",
       "YearBuilt      4.023e+02  5.682e+01   7.081 2.24e-12 ***\n",
       "YearRemodAdd   1.617e+02  6.573e+01   2.460 0.014027 *  \n",
       "MasVnrArea     3.231e+01  6.012e+00   5.374 8.98e-08 ***\n",
       "TotalBsmtSF    1.460e+01  4.083e+00   3.577 0.000359 ***\n",
       "X1stFlrSF      3.067e+01  2.049e+01   1.497 0.134675    \n",
       "X2ndFlrSF      2.570e+01  2.011e+01   1.278 0.201454    \n",
       "GrLivArea      2.453e+01  2.015e+01   1.218 0.223490    \n",
       "BedroomAbvGr  -1.139e+04  1.695e+03  -6.719 2.63e-11 ***\n",
       "KitchenAbvGr  -1.287e+04  5.194e+03  -2.478 0.013324 *  \n",
       "TotRmsAbvGrd   5.104e+03  1.258e+03   4.058 5.22e-05 ***\n",
       "GarageArea     2.990e+01  5.932e+00   5.041 5.22e-07 ***\n",
       "WoodDeckSF     3.254e+01  8.098e+00   4.018 6.18e-05 ***\n",
       "OpenPorchSF   -3.646e+00  1.540e+01  -0.237 0.812949    \n",
       "EnclosedPorch  1.431e+01  1.721e+01   0.831 0.405957    \n",
       "X3SsnPorch     2.134e+01  3.210e+01   0.665 0.506253    \n",
       "ScreenPorch    6.405e+01  1.732e+01   3.699 0.000225 ***\n",
       "PoolArea      -2.651e+01  2.423e+01  -1.094 0.274146    \n",
       "MoSold        -1.594e+01  3.527e+02  -0.045 0.963951    \n",
       "YrSold        -5.808e+02  7.167e+02  -0.810 0.417853    \n",
       "---\n",
       "Signif. codes:  0 ‘***’ 0.001 ‘**’ 0.01 ‘*’ 0.05 ‘.’ 0.1 ‘ ’ 1\n",
       "\n",
       "Residual standard error: 35610 on 1435 degrees of freedom\n",
       "Multiple R-squared:  0.8024,\tAdjusted R-squared:  0.7991 \n",
       "F-statistic: 242.8 on 24 and 1435 DF,  p-value: < 2.2e-16\n"
      ]
     },
     "metadata": {},
     "output_type": "display_data"
    }
   ],
   "source": [
    "model <- lm(SalePrice ~ ., data = data_housing)\n",
    "summary(model)"
   ]
  },
  {
   "cell_type": "code",
   "execution_count": null,
   "metadata": {
    "collapsed": true
   },
   "outputs": [],
   "source": []
  },
  {
   "cell_type": "markdown",
   "metadata": {},
   "source": [
    "### Bootstrap"
   ]
  },
  {
   "cell_type": "markdown",
   "metadata": {},
   "source": [
    "Panggil Library \"boot\", jika belum diinstall : install.packages(\"boot\")"
   ]
  },
  {
   "cell_type": "code",
   "execution_count": 8,
   "metadata": {
    "collapsed": true
   },
   "outputs": [],
   "source": [
    "library(boot)"
   ]
  },
  {
   "cell_type": "markdown",
   "metadata": {},
   "source": [
    "Buat function untuk membuat bootstrap linear regression"
   ]
  },
  {
   "cell_type": "code",
   "execution_count": 9,
   "metadata": {
    "collapsed": true
   },
   "outputs": [],
   "source": [
    "coef.reg <- function(formula, data, indices) {\n",
    "    d <- data[indices,] \n",
    "    fit <- lm(formula, data = d)\n",
    "    return(fit$coefficients)\n",
    "    } "
   ]
  },
  {
   "cell_type": "code",
   "execution_count": 38,
   "metadata": {
    "collapsed": true
   },
   "outputs": [],
   "source": [
    "# bootstrapping with 1000 replications \n",
    "set.seed(1)\n",
    "results <- boot(data = data_housing, statistic = coef.reg, R = 10000,\n",
    "                formula = SalePrice ~ .)\n"
   ]
  },
  {
   "cell_type": "code",
   "execution_count": 39,
   "metadata": {
    "scrolled": true
   },
   "outputs": [
    {
     "data": {
      "text/plain": [
       "\n",
       "ORDINARY NONPARAMETRIC BOOTSTRAP\n",
       "\n",
       "\n",
       "Call:\n",
       "boot(data = data_housing, statistic = coef.reg, R = 10000, formula = SalePrice ~ \n",
       "    .)\n",
       "\n",
       "\n",
       "Bootstrap Statistics :\n",
       "          original        bias     std. error\n",
       "t1*  -3.669446e+02 -6.579331e+04 1.339935e+06\n",
       "t2*  -1.477374e+02  1.090957e+01 4.872512e+01\n",
       "t3*  -4.678076e+01  3.048719e+01 1.426135e+02\n",
       "t4*   5.438857e-01  1.041789e-02 1.387090e-01\n",
       "t5*   1.754043e+04 -5.808051e+02 2.265311e+03\n",
       "t6*   4.762316e+03  8.116130e+01 9.774333e+02\n",
       "t7*   4.023074e+02 -2.443006e+00 4.938785e+01\n",
       "t8*   1.616569e+02  1.306040e+00 5.159523e+01\n",
       "t9*   3.230633e+01  3.476128e-01 9.880193e+00\n",
       "t10*  1.460331e+01  2.754355e+00 1.160668e+01\n",
       "t11*  3.067061e+01  1.712422e+00 2.607269e+01\n",
       "t12*  2.569796e+01  2.732176e+00 2.729735e+01\n",
       "t13*  2.453400e+01 -1.708823e+00 2.411870e+01\n",
       "t14* -1.138995e+04 -4.051704e+02 2.795695e+03\n",
       "t15* -1.287034e+04 -6.951243e+02 5.471294e+03\n",
       "t16*  5.104334e+03 -3.249792e+01 2.236885e+03\n",
       "t17*  2.990451e+01 -1.965368e-01 6.618433e+00\n",
       "t18*  3.253608e+01 -1.500255e+00 1.089785e+01\n",
       "t19* -3.645730e+00  1.566492e+00 2.093613e+01\n",
       "t20*  1.430992e+01 -1.915518e-01 1.887306e+01\n",
       "t21*  2.134179e+01 -5.833447e-02 3.884729e+01\n",
       "t22*  6.404910e+01 -2.683812e+00 2.582903e+01\n",
       "t23* -2.650646e+01 -2.000419e+00 1.358548e+02\n",
       "t24* -1.594226e+01 -2.900770e+01 3.821343e+02\n",
       "t25* -5.807877e+02  3.359246e+01 6.680847e+02"
      ]
     },
     "metadata": {},
     "output_type": "display_data"
    }
   ],
   "source": [
    "results"
   ]
  },
  {
   "cell_type": "code",
   "execution_count": 15,
   "metadata": {
    "scrolled": false
   },
   "outputs": [
    {
     "name": "stdout",
     "output_type": "stream",
     "text": [
      "List of 11\n",
      " $ t0       : Named num [1:25] -366.945 -147.737 -46.781 0.544 17540.428 ...\n",
      "  ..- attr(*, \"names\")= chr [1:25] \"(Intercept)\" \"MSSubClass\" \"LotFrontage\" \"LotArea\" ...\n",
      " $ t        : num [1:1000, 1:25] -732921 2271173 -1051058 1385071 791711 ...\n",
      "  ..- attr(*, \"dimnames\")=List of 2\n",
      "  .. ..$ : NULL\n",
      "  .. ..$ : chr [1:25] \"(Intercept)\" \"MSSubClass\" \"LotFrontage\" \"LotArea\" ...\n",
      " $ R        : num 1000\n",
      " $ data     :'data.frame':\t1460 obs. of  25 variables:\n",
      "  ..$ MSSubClass   : int [1:1460] 60 20 60 70 60 50 20 60 50 190 ...\n",
      "  ..$ LotFrontage  : int [1:1460] 65 80 68 60 84 85 75 69 51 50 ...\n",
      "  ..$ LotArea      : int [1:1460] 8450 9600 11250 9550 14260 14115 10084 10382 6120 7420 ...\n",
      "  ..$ OverallQual  : int [1:1460] 7 6 7 7 8 5 8 7 7 5 ...\n",
      "  ..$ OverallCond  : int [1:1460] 5 8 5 5 5 5 5 6 5 6 ...\n",
      "  ..$ YearBuilt    : int [1:1460] 2003 1976 2001 1915 2000 1993 2004 1973 1931 1939 ...\n",
      "  ..$ YearRemodAdd : int [1:1460] 2003 1976 2002 1970 2000 1995 2005 1973 1950 1950 ...\n",
      "  ..$ MasVnrArea   : num [1:1460] 196 0 162 0 350 0 186 240 0 0 ...\n",
      "  ..$ TotalBsmtSF  : int [1:1460] 856 1262 920 756 1145 796 1686 1107 952 991 ...\n",
      "  ..$ X1stFlrSF    : int [1:1460] 856 1262 920 961 1145 796 1694 1107 1022 1077 ...\n",
      "  ..$ X2ndFlrSF    : int [1:1460] 854 0 866 756 1053 566 0 983 752 0 ...\n",
      "  ..$ GrLivArea    : int [1:1460] 1710 1262 1786 1717 2198 1362 1694 2090 1774 1077 ...\n",
      "  ..$ BedroomAbvGr : int [1:1460] 3 3 3 3 4 1 3 3 2 2 ...\n",
      "  ..$ KitchenAbvGr : int [1:1460] 1 1 1 1 1 1 1 1 2 2 ...\n",
      "  ..$ TotRmsAbvGrd : int [1:1460] 8 6 6 7 9 5 7 7 8 5 ...\n",
      "  ..$ GarageArea   : int [1:1460] 548 460 608 642 836 480 636 484 468 205 ...\n",
      "  ..$ WoodDeckSF   : int [1:1460] 0 298 0 0 192 40 255 235 90 0 ...\n",
      "  ..$ OpenPorchSF  : int [1:1460] 61 0 42 35 84 30 57 204 0 4 ...\n",
      "  ..$ EnclosedPorch: int [1:1460] 0 0 0 272 0 0 0 228 205 0 ...\n",
      "  ..$ X3SsnPorch   : int [1:1460] 0 0 0 0 0 320 0 0 0 0 ...\n",
      "  ..$ ScreenPorch  : int [1:1460] 0 0 0 0 0 0 0 0 0 0 ...\n",
      "  ..$ PoolArea     : int [1:1460] 0 0 0 0 0 0 0 0 0 0 ...\n",
      "  ..$ MoSold       : int [1:1460] 2 5 9 2 12 10 8 11 4 1 ...\n",
      "  ..$ YrSold       : int [1:1460] 2008 2007 2008 2006 2008 2009 2007 2009 2008 2008 ...\n",
      "  ..$ SalePrice    : int [1:1460] 208500 181500 223500 140000 250000 143000 307000 200000 129900 118000 ...\n",
      " $ seed     : int [1:626] 403 624 -169270483 -442010614 -603558397 -222347416 1489374793 865871222 1734802815 98005428 ...\n",
      " $ statistic:function (formula, data, indices)  \n",
      "  ..- attr(*, \"srcref\")=Class 'srcref'  atomic [1:8] 1 13 5 5 13 5 1 5\n",
      "  .. .. ..- attr(*, \"srcfile\")=Classes 'srcfilecopy', 'srcfile' <environment: 0x3ff45e0> \n",
      " $ sim      : chr \"ordinary\"\n",
      " $ call     : language boot(data = data_housing, statistic = coef.reg, R = 1000, formula = SalePrice ~      .)\n",
      " $ stype    : chr \"i\"\n",
      " $ strata   : num [1:1460] 1 1 1 1 1 1 1 1 1 1 ...\n",
      " $ weights  : num [1:1460] 0.000685 0.000685 0.000685 0.000685 0.000685 ...\n",
      " - attr(*, \"class\")= chr \"boot\"\n",
      " - attr(*, \"boot_type\")= chr \"boot\"\n"
     ]
    }
   ],
   "source": [
    "str(results)"
   ]
  },
  {
   "cell_type": "code",
   "execution_count": 46,
   "metadata": {},
   "outputs": [
    {
     "name": "stdout",
     "output_type": "stream",
     "text": [
      " num [1:10000, 1:25] -604850 -2173 736061 1398255 958219 ...\n",
      " - attr(*, \"dimnames\")=List of 2\n",
      "  ..$ : NULL\n",
      "  ..$ : chr [1:25] \"(Intercept)\" \"MSSubClass\" \"LotFrontage\" \"LotArea\" ...\n"
     ]
    }
   ],
   "source": [
    "str(results$t)"
   ]
  },
  {
   "cell_type": "code",
   "execution_count": 47,
   "metadata": {},
   "outputs": [
    {
     "data": {
      "image/png": "[encoded data removed]",
      "text/plain": [
       "Plot with title “Histogram of results$t[, \"TotalBsmtSF\"]”"
      ]
     },
     "metadata": {},
     "output_type": "display_data"
    }
   ],
   "source": [
    "hist(results$t[, \"TotalBsmtSF\"],50)"
   ]
  },
  {
   "cell_type": "code",
   "execution_count": 60,
   "metadata": {},
   "outputs": [
    {
     "data": {
      "text/html": [
       "<table>\n",
       "<thead><tr><th scope=col>(Intercept)</th><th scope=col>MSSubClass</th><th scope=col>LotFrontage</th><th scope=col>LotArea</th><th scope=col>OverallQual</th><th scope=col>OverallCond</th><th scope=col>YearBuilt</th><th scope=col>YearRemodAdd</th><th scope=col>MasVnrArea</th><th scope=col>TotalBsmtSF</th><th scope=col>⋯</th><th scope=col>TotRmsAbvGrd</th><th scope=col>GarageArea</th><th scope=col>WoodDeckSF</th><th scope=col>OpenPorchSF</th><th scope=col>EnclosedPorch</th><th scope=col>X3SsnPorch</th><th scope=col>ScreenPorch</th><th scope=col>PoolArea</th><th scope=col>MoSold</th><th scope=col>YrSold</th></tr></thead>\n",
       "<tbody>\n",
       "\t<tr><td> -604850.156</td><td> -96.51409  </td><td> 180.15647  </td><td>0.5181614   </td><td>15428.71    </td><td>5054.622    </td><td>378.4394    </td><td>156.03875   </td><td>21.61280    </td><td>28.927858   </td><td>⋯           </td><td>5338.7171   </td><td>23.79285    </td><td>17.26573    </td><td>-10.9965461 </td><td> -6.0116630 </td><td>-31.407097  </td><td>53.41256    </td><td> 183.284067 </td><td> 221.93120  </td><td> -255.74699 </td></tr>\n",
       "\t<tr><td>   -2173.365</td><td>-141.61587  </td><td>  55.57816  </td><td>0.4617227   </td><td>17667.08    </td><td>5447.683    </td><td>383.7860    </td><td> 99.45117   </td><td>41.00796    </td><td>20.763713   </td><td>⋯           </td><td>4793.2374   </td><td>23.75340    </td><td>29.40674    </td><td> 21.1480926 </td><td>  9.5429672 </td><td> 14.357612  </td><td>21.03552    </td><td>   5.692391 </td><td>  20.76370  </td><td> -510.81498 </td></tr>\n",
       "\t<tr><td>  736061.127</td><td>-169.92972  </td><td> -78.68744  </td><td>0.5464725   </td><td>17085.57    </td><td>4910.590    </td><td>445.0768    </td><td>139.86681   </td><td>32.16931    </td><td>16.136727   </td><td>⋯           </td><td>4662.6680   </td><td>29.75341    </td><td>34.84886    </td><td> 16.1020610 </td><td> 15.1646958 </td><td>132.916135  </td><td>92.47730    </td><td>   3.017761 </td><td> -36.42182  </td><td> -962.51409 </td></tr>\n",
       "\t<tr><td> 1398254.540</td><td>-166.01876  </td><td> -14.09446  </td><td>0.5750591   </td><td>18288.67    </td><td>5256.005    </td><td>458.1669    </td><td>146.82835   </td><td>22.56923    </td><td>10.703400   </td><td>⋯           </td><td>4505.0205   </td><td>25.67865    </td><td>27.57647    </td><td> -0.9960887 </td><td>  1.5209379 </td><td> 26.272986  </td><td>26.80787    </td><td>  40.373993 </td><td> 227.16756  </td><td>-1320.97480 </td></tr>\n",
       "\t<tr><td>  958219.060</td><td> -91.57372  </td><td> 149.29230  </td><td>0.5137747   </td><td>16014.48    </td><td>6471.989    </td><td>404.5096    </td><td>153.04605   </td><td>32.19478    </td><td>26.536748   </td><td>⋯           </td><td>5120.6015   </td><td>36.57345    </td><td>36.24129    </td><td>-24.7706513 </td><td> 10.6778161 </td><td>-16.454610  </td><td>68.55349    </td><td>  48.451191 </td><td>-924.61020  </td><td>-1058.45644 </td></tr>\n",
       "\t<tr><td> 1537933.316</td><td> -82.68261  </td><td> 267.19039  </td><td>0.5365273   </td><td>16658.62    </td><td>5244.829    </td><td>398.1661    </td><td>126.84878   </td><td>27.21864    </td><td>28.836222   </td><td>⋯           </td><td>2100.2012   </td><td>23.05022    </td><td>39.11925    </td><td> -1.3730363 </td><td> 17.1396586 </td><td>-36.060076  </td><td>91.31836    </td><td> 186.570632 </td><td>-698.38055  </td><td>-1318.00373 </td></tr>\n",
       "\t<tr><td>-1271729.906</td><td>-158.80285  </td><td> -23.65949  </td><td>0.6286419   </td><td>20507.29    </td><td>1824.502    </td><td>308.0768    </td><td>254.02515   </td><td>24.90594    </td><td>12.372374   </td><td>⋯           </td><td>7663.1782   </td><td>37.97866    </td><td>40.74173    </td><td>-14.7774496 </td><td> 17.4110785 </td><td> 13.010882  </td><td>87.48198    </td><td>  62.995843 </td><td> -89.47733  </td><td>   56.42096 </td></tr>\n",
       "\t<tr><td>-1044117.129</td><td>-154.21527  </td><td> -61.23149  </td><td>0.7376707   </td><td>14440.88    </td><td>5698.549    </td><td>431.8651    </td><td> 94.26902   </td><td>45.77574    </td><td>15.002547   </td><td>⋯           </td><td>4595.1956   </td><td>26.87615    </td><td>24.12947    </td><td>-10.1981998 </td><td>  8.6156846 </td><td>-17.264801  </td><td>42.12834    </td><td> -78.204919 </td><td>  83.68044  </td><td>  -21.31053 </td></tr>\n",
       "\t<tr><td>-1076745.109</td><td>-176.64193  </td><td>-213.01802  </td><td>0.6804574   </td><td>17018.37    </td><td>4499.834    </td><td>387.1936    </td><td>217.01897   </td><td>35.48571    </td><td> 2.579813   </td><td>⋯           </td><td>4382.6726   </td><td>29.93921    </td><td>53.14875    </td><td> 44.8763940 </td><td> 40.6898584 </td><td> 61.149732  </td><td>66.14740    </td><td>-196.913660 </td><td> 589.08070  </td><td>  -78.48413 </td></tr>\n",
       "\t<tr><td>-3241717.311</td><td>-144.17985  </td><td>-142.81926  </td><td>0.6342169   </td><td>16993.46    </td><td>4803.395    </td><td>367.7229    </td><td>214.06801   </td><td>34.19077    </td><td>15.655079   </td><td>⋯           </td><td>6206.3976   </td><td>34.62427    </td><td>32.01145    </td><td>  0.7556314 </td><td> 22.9414206 </td><td> 21.986210  </td><td>72.40691    </td><td>  55.786011 </td><td> 285.22282  </td><td> 1014.46593 </td></tr>\n",
       "\t<tr><td>  266816.574</td><td>-119.30385  </td><td> -70.52736  </td><td>0.3471740   </td><td>17456.36    </td><td>5402.338    </td><td>401.9198    </td><td>183.80418   </td><td>25.51524    </td><td>17.561378   </td><td>⋯           </td><td>4183.7497   </td><td>32.52472    </td><td>35.11172    </td><td> 10.6105129 </td><td> 17.1783524 </td><td> 64.114977  </td><td>52.78919    </td><td>-100.542781 </td><td>  27.53423  </td><td> -735.89614 </td></tr>\n",
       "\t<tr><td> 1795768.423</td><td>-163.42546  </td><td>  73.31817  </td><td>0.4380771   </td><td>15954.99    </td><td>5677.889    </td><td>444.1412    </td><td>148.32425   </td><td>45.08116    </td><td>11.288504   </td><td>⋯           </td><td>1055.5632   </td><td>21.11282    </td><td>45.45795    </td><td>  3.5418184 </td><td> 15.0635630 </td><td> 63.769430  </td><td>80.96211    </td><td> -55.845042 </td><td>-522.00967  </td><td>-1501.06481 </td></tr>\n",
       "\t<tr><td> 2396190.309</td><td>-176.43469  </td><td> -35.85802  </td><td>0.6536764   </td><td>16940.96    </td><td>5458.474    </td><td>392.3406    </td><td>170.26240   </td><td>45.10151    </td><td>17.906738   </td><td>⋯           </td><td>3228.9822   </td><td>19.53240    </td><td>31.15194    </td><td> 57.5591850 </td><td>  4.6004036 </td><td>-29.403252  </td><td>53.84064    </td><td> -75.482860 </td><td>-486.37136  </td><td>-1771.27005 </td></tr>\n",
       "\t<tr><td>  -78204.325</td><td>-208.17298  </td><td>-267.11135  </td><td>0.6200074   </td><td>19515.89    </td><td>5442.158    </td><td>445.3054    </td><td>101.05761   </td><td>39.53420    </td><td> 9.634942   </td><td>⋯           </td><td>5007.8578   </td><td>31.60419    </td><td>32.93804    </td><td>-33.1695108 </td><td> 12.8254570 </td><td> 21.765454  </td><td>57.80571    </td><td> -50.141178 </td><td> 379.21727  </td><td> -527.80404 </td></tr>\n",
       "\t<tr><td> 1044078.552</td><td> -90.87141  </td><td>  16.77083  </td><td>0.7106627   </td><td>15327.76    </td><td>4866.057    </td><td>412.9637    </td><td>174.98681   </td><td>39.19887    </td><td>25.612953   </td><td>⋯           </td><td>3840.7400   </td><td>24.20796    </td><td>36.76759    </td><td>-41.3912233 </td><td> 29.0987793 </td><td> 68.925953  </td><td>38.85657    </td><td>   3.133986 </td><td>-657.51908  </td><td>-1120.66571 </td></tr>\n",
       "\t<tr><td> -251042.845</td><td>-111.46473  </td><td> -13.80953  </td><td>0.6010708   </td><td>17839.08    </td><td>4801.588    </td><td>419.2068    </td><td>166.07923   </td><td>23.65614    </td><td>24.169147   </td><td>⋯           </td><td>5024.2415   </td><td>26.81744    </td><td>30.41603    </td><td> -7.6650485 </td><td> 34.8076537 </td><td> -9.771936  </td><td>37.17853    </td><td>  46.446195 </td><td> 174.86207  </td><td> -481.03119 </td></tr>\n",
       "\t<tr><td> -889045.737</td><td>-105.79046  </td><td> 192.88162  </td><td>0.5807136   </td><td>15802.82    </td><td>4661.162    </td><td>421.3140    </td><td> 94.23062   </td><td>10.34273    </td><td>23.610317   </td><td>⋯           </td><td> 809.9335   </td><td>30.46289    </td><td>26.01632    </td><td>-14.0075320 </td><td>  0.2802261 </td><td> 47.839598  </td><td>47.20554    </td><td>  90.293684 </td><td>-294.28913  </td><td>  -91.35652 </td></tr>\n",
       "\t<tr><td> 2372458.694</td><td>-181.86998  </td><td>-134.10692  </td><td>0.6535124   </td><td>17454.56    </td><td>3338.092    </td><td>315.8019    </td><td>225.59840   </td><td>35.21347    </td><td>11.443348   </td><td>⋯           </td><td>2027.5114   </td><td>25.28710    </td><td>33.87826    </td><td>  5.5359093 </td><td> 16.3051137 </td><td>  4.871073  </td><td>65.63812    </td><td> -78.835297 </td><td> 471.28063  </td><td>-1734.79807 </td></tr>\n",
       "\t<tr><td> -423538.644</td><td>-160.47048  </td><td> -88.73867  </td><td>0.5035840   </td><td>16108.05    </td><td>4909.090    </td><td>380.7399    </td><td>249.24197   </td><td>19.28808    </td><td>15.498550   </td><td>⋯           </td><td>4609.6982   </td><td>36.25732    </td><td>27.91810    </td><td>  4.6652102 </td><td> 12.2806397 </td><td> -1.678098  </td><td>51.72483    </td><td> -57.636237 </td><td> 148.20070  </td><td> -431.34749 </td></tr>\n",
       "\t<tr><td>  138512.748</td><td>-250.23112  </td><td>-429.04086  </td><td>0.5618406   </td><td>19553.96    </td><td>4682.142    </td><td>404.0666    </td><td>146.13732   </td><td>54.48957    </td><td>-4.910523   </td><td>⋯           </td><td>4508.6125   </td><td>24.40158    </td><td>47.88171    </td><td>-33.4597494 </td><td>  7.4438123 </td><td> -6.665159  </td><td>42.73288    </td><td> -43.636386 </td><td> -98.95757  </td><td> -626.96108 </td></tr>\n",
       "\t<tr><td> -295650.681</td><td>-188.95172  </td><td>-207.47606  </td><td>0.6797113   </td><td>20561.53    </td><td>3069.696    </td><td>356.6952    </td><td>216.95659   </td><td>30.62697    </td><td>-4.317601   </td><td>⋯           </td><td>4746.4620   </td><td>36.04509    </td><td>39.11438    </td><td> 11.8841170 </td><td>  5.7082431 </td><td> 46.943592  </td><td>70.18478    </td><td> -75.755939 </td><td> 437.75643  </td><td> -435.65639 </td></tr>\n",
       "\t<tr><td>-2350603.218</td><td>-160.47542  </td><td>-119.62576  </td><td>0.6445848   </td><td>17574.65    </td><td>3976.340    </td><td>320.7150    </td><td>222.09172   </td><td>38.63632    </td><td> 8.299244   </td><td>⋯           </td><td>8325.6065   </td><td>35.37461    </td><td>43.53241    </td><td>  5.7413322 </td><td> 14.4574887 </td><td> 29.417142  </td><td>67.18843    </td><td>-128.091992 </td><td>-117.51896  </td><td>  613.35490 </td></tr>\n",
       "\t<tr><td> -758076.575</td><td>-103.51578  </td><td> -72.50696  </td><td>0.4398006   </td><td>17033.12    </td><td>3813.541    </td><td>307.1653    </td><td>228.89865   </td><td>12.00457    </td><td>12.097650   </td><td>⋯           </td><td>3354.8348   </td><td>33.00491    </td><td>11.23505    </td><td>  0.8702516 </td><td>-31.5063656 </td><td>-37.616406  </td><td>29.87119    </td><td>  62.721746 </td><td> 295.40575  </td><td> -170.77888 </td></tr>\n",
       "\t<tr><td>  254568.788</td><td>-195.07192  </td><td> -49.26494  </td><td>0.6389653   </td><td>18921.57    </td><td>3749.148    </td><td>447.3162    </td><td>133.19439   </td><td>42.03034    </td><td> 5.986463   </td><td>⋯           </td><td>5782.7557   </td><td>13.45903    </td><td>31.32029    </td><td>  6.2546466 </td><td>  9.0094970 </td><td> 66.525602  </td><td>62.24701    </td><td> -54.692703 </td><td> 924.45493  </td><td> -722.28445 </td></tr>\n",
       "\t<tr><td> -858345.112</td><td>-110.79448  </td><td>   5.99047  </td><td>0.4629014   </td><td>18826.37    </td><td>5442.267    </td><td>454.8732    </td><td> 84.14864   </td><td>11.00396    </td><td>16.959470   </td><td>⋯           </td><td>6891.3273   </td><td>24.42408    </td><td>33.64564    </td><td>-17.4785830 </td><td>  9.8807721 </td><td> 67.323391  </td><td>63.20187    </td><td>  85.566495 </td><td> 648.56307  </td><td> -138.35837 </td></tr>\n",
       "\t<tr><td>-1187320.297</td><td>-101.78987  </td><td> 174.01538  </td><td>0.3855827   </td><td>14656.36    </td><td>5458.521    </td><td>379.2648    </td><td>178.67159   </td><td>31.69914    </td><td>29.283452   </td><td>⋯           </td><td>6005.4510   </td><td>30.86181    </td><td>10.12953    </td><td>-20.1045221 </td><td>  6.5241425 </td><td>-12.885314  </td><td>51.98387    </td><td> 213.836655 </td><td>-611.64591  </td><td>   17.84486 </td></tr>\n",
       "\t<tr><td> -702569.879</td><td>-191.98025  </td><td>-169.23024  </td><td>0.4592229   </td><td>17562.88    </td><td>5743.260    </td><td>457.9566    </td><td>197.36910   </td><td>31.33665    </td><td> 6.748142   </td><td>⋯           </td><td>9574.4325   </td><td>36.52522    </td><td>45.18090    </td><td>-12.1239895 </td><td> 40.1964517 </td><td> 44.304741  </td><td>90.69925    </td><td>-140.551681 </td><td> 265.23413  </td><td> -318.46978 </td></tr>\n",
       "\t<tr><td>-1446383.443</td><td>-196.81962  </td><td>-209.61078  </td><td>0.6679251   </td><td>18906.95    </td><td>4949.948    </td><td>437.1857    </td><td>115.62394   </td><td>22.10731    </td><td> 3.576791   </td><td>⋯           </td><td>3959.4633   </td><td>27.60197    </td><td>32.32989    </td><td> -3.4691374 </td><td> 14.9884245 </td><td> 94.621617  </td><td>79.30500    </td><td> -72.127926 </td><td> 510.66820  </td><td>  153.90697 </td></tr>\n",
       "\t<tr><td>  487081.355</td><td>-199.70948  </td><td>-142.71952  </td><td>0.5983282   </td><td>18619.98    </td><td>5374.017    </td><td>374.5608    </td><td> 75.05424   </td><td>47.17301    </td><td>16.232402   </td><td>⋯           </td><td>2316.3775   </td><td>28.02146    </td><td>42.64450    </td><td> 23.6612947 </td><td> 12.4167802 </td><td>-22.475804  </td><td>65.47074    </td><td> -55.516177 </td><td> -52.39483  </td><td> -713.55577 </td></tr>\n",
       "\t<tr><td> 1035783.716</td><td>-161.80344  </td><td> -77.18183  </td><td>0.4737840   </td><td>17263.49    </td><td>4286.076    </td><td>391.3847    </td><td>215.24830   </td><td>39.34542    </td><td>16.774466   </td><td>⋯           </td><td>6382.9200   </td><td>30.76977    </td><td>29.94998    </td><td>-12.7012862 </td><td> 16.6478107 </td><td>  4.078941  </td><td>59.91487    </td><td> -35.809414 </td><td>-504.65587  </td><td>-1138.61074 </td></tr>\n",
       "\t<tr><td>⋮</td><td>⋮</td><td>⋮</td><td>⋮</td><td>⋮</td><td>⋮</td><td>⋮</td><td>⋮</td><td>⋮</td><td>⋮</td><td>⋱</td><td>⋮</td><td>⋮</td><td>⋮</td><td>⋮</td><td>⋮</td><td>⋮</td><td>⋮</td><td>⋮</td><td>⋮</td><td>⋮</td></tr>\n",
       "\t<tr><td> 1516991.9 </td><td>-138.84044 </td><td> -41.137143</td><td>0.6579968  </td><td>17128.24   </td><td>4320.649   </td><td>384.8020   </td><td> 81.86088  </td><td>37.169760  </td><td>15.733670  </td><td>⋯          </td><td>  746.2595 </td><td>26.77839   </td><td>36.62877   </td><td> -9.9274858</td><td>  0.8216947</td><td> 32.615054 </td><td> 80.269881 </td><td>-157.982920</td><td> -154.66997</td><td>-1237.84055</td></tr>\n",
       "\t<tr><td> -400693.7 </td><td>-165.06253 </td><td>-187.288890</td><td>0.6429355  </td><td>19232.97   </td><td>3643.481   </td><td>412.3097   </td><td>181.37202  </td><td>29.047236  </td><td> 8.008007  </td><td>⋯          </td><td> 5075.3336 </td><td>22.43076   </td><td>29.90442   </td><td> -4.5212957</td><td> 26.4396522</td><td> 37.742354 </td><td> 71.294742 </td><td>-108.951107</td><td> -638.18935</td><td> -406.70029</td></tr>\n",
       "\t<tr><td>  670638.8 </td><td>-183.29460 </td><td>-172.126499</td><td>0.5805237  </td><td>17001.12   </td><td>3148.292   </td><td>452.1813   </td><td>185.58309  </td><td>29.854377  </td><td> 8.165055  </td><td>⋯          </td><td> 3583.2883 </td><td>23.37728   </td><td>35.62034   </td><td>  9.5935441</td><td>  3.6091533</td><td> 24.190504 </td><td> 83.792036 </td><td>-321.422385</td><td>  423.59494</td><td> -975.71514</td></tr>\n",
       "\t<tr><td> 2273814.5 </td><td>-176.73852 </td><td>-122.198152</td><td>0.6936626  </td><td>18116.11   </td><td>3283.724   </td><td>367.5432   </td><td>247.15434  </td><td>39.784399  </td><td>14.386848  </td><td>⋯          </td><td> 5283.4271 </td><td>30.56431   </td><td>29.58588   </td><td> 30.8553029</td><td> 60.5006070</td><td> 22.672926 </td><td>113.042013 </td><td>-428.372156</td><td>   44.34083</td><td>-1758.78619</td></tr>\n",
       "\t<tr><td> 1216221.4 </td><td>-160.60584 </td><td> -58.646821</td><td>0.4736053  </td><td>17637.56   </td><td>5242.476   </td><td>367.7653   </td><td>159.47216  </td><td>25.833675  </td><td>14.274276  </td><td>⋯          </td><td> 4557.9856 </td><td>31.01679   </td><td>31.49381   </td><td>-19.3667796</td><td>  5.8952886</td><td>  2.297603 </td><td> 70.578685 </td><td>  18.167292</td><td> -283.98889</td><td>-1151.26306</td></tr>\n",
       "\t<tr><td>  377102.0 </td><td>-183.76289 </td><td>-342.071910</td><td>0.7172840  </td><td>18683.35   </td><td>3141.419   </td><td>372.7110   </td><td>182.09742  </td><td>48.851986  </td><td> 2.373560  </td><td>⋯          </td><td> 3737.2879 </td><td>25.23991   </td><td>61.17665   </td><td>  2.3240408</td><td>  4.3286752</td><td> 94.965831 </td><td> 56.114686 </td><td>-106.607033</td><td>  210.43105</td><td> -751.09050</td></tr>\n",
       "\t<tr><td> 1067486.3 </td><td>-153.22203 </td><td>  -6.058985</td><td>0.5063042  </td><td>17377.04   </td><td>5208.520   </td><td>410.2972   </td><td>129.08143  </td><td>52.623312  </td><td>15.276680  </td><td>⋯          </td><td> 6794.6468 </td><td>14.83692   </td><td>37.13680   </td><td> -3.5245444</td><td>  1.5052680</td><td> 13.956929 </td><td> 51.595828 </td><td>-122.799798</td><td>   46.91858</td><td>-1089.32516</td></tr>\n",
       "\t<tr><td>  682576.6 </td><td> -64.70809 </td><td> 213.234575</td><td>0.6845856  </td><td>14279.64   </td><td>6164.420   </td><td>409.1818   </td><td>125.46652  </td><td>29.208415  </td><td>29.564495  </td><td>⋯          </td><td> 1809.0489 </td><td>29.96440   </td><td>17.11382   </td><td> 23.7867516</td><td> 21.2665411</td><td>-10.414947 </td><td> -1.729559 </td><td> 138.285887</td><td>   43.93318</td><td> -897.96327</td></tr>\n",
       "\t<tr><td>-2279581.9 </td><td>-152.26843 </td><td>   1.392360</td><td>0.4944324  </td><td>19276.51   </td><td>4304.310   </td><td>388.7798   </td><td>114.81118  </td><td> 9.042539  </td><td> 8.684790  </td><td>⋯          </td><td> 5477.0646 </td><td>36.70531   </td><td>54.51634   </td><td> -2.5962015</td><td>-10.5580175</td><td>-27.931739 </td><td> 63.115807 </td><td>  46.763216</td><td>  436.62029</td><td>  606.23372</td></tr>\n",
       "\t<tr><td> -982935.4 </td><td> -53.11345 </td><td> 203.068341</td><td>0.4884677  </td><td>12033.06   </td><td>6639.625   </td><td>408.9325   </td><td>140.72572  </td><td>33.337446  </td><td>34.658550  </td><td>⋯          </td><td> 2676.7281 </td><td>18.75527   </td><td>18.84752   </td><td> 36.2240147</td><td> 13.3358054</td><td>-25.563440 </td><td> 33.359032 </td><td> 104.836890</td><td>  -58.73149</td><td>  -81.87387</td></tr>\n",
       "\t<tr><td> 1287112.7 </td><td>-151.86773 </td><td> -57.809824</td><td>0.4686227  </td><td>20427.38   </td><td>5959.391   </td><td>409.1677   </td><td> 91.63185  </td><td>17.865056  </td><td>15.536561  </td><td>⋯          </td><td> 1540.4811 </td><td>47.65966   </td><td>32.50176   </td><td>-35.2125147</td><td> 12.2543832</td><td> -2.416045 </td><td> 76.003328 </td><td>  32.986304</td><td> -909.73858</td><td>-1167.68616</td></tr>\n",
       "\t<tr><td> -927751.2 </td><td>-168.77670 </td><td>-176.176206</td><td>0.3893250  </td><td>18741.24   </td><td>4981.861   </td><td>473.9451   </td><td>177.77814  </td><td>48.564219  </td><td> 8.099552  </td><td>⋯          </td><td>10613.1655 </td><td>26.32728   </td><td>48.04012   </td><td>-21.2165495</td><td> 48.7451151</td><td> 28.194558 </td><td>113.444079 </td><td>-231.623636</td><td> -171.76986</td><td> -210.13906</td></tr>\n",
       "\t<tr><td>-2278465.3 </td><td>-110.41947 </td><td> 131.499644</td><td>0.7199299  </td><td>15182.86   </td><td>4732.758   </td><td>376.2469   </td><td>187.30776  </td><td>39.197047  </td><td>33.457744  </td><td>⋯          </td><td> 5629.4946 </td><td>30.65741   </td><td>24.40545   </td><td>-24.0378420</td><td>  3.0624874</td><td> 78.531818 </td><td> 56.106452 </td><td> -24.056929</td><td> -359.97663</td><td>  552.78263</td></tr>\n",
       "\t<tr><td>  771369.4 </td><td>-112.64970 </td><td>  15.455257</td><td>0.4387917  </td><td>18209.33   </td><td>4135.522   </td><td>344.1314   </td><td>167.03044  </td><td>50.843349  </td><td>17.152844  </td><td>⋯          </td><td> 7656.0776 </td><td>27.00497   </td><td>30.53524   </td><td> -2.6299343</td><td> -3.7497633</td><td> 44.421257 </td><td> 22.999664 </td><td> -55.884163</td><td>  -25.65726</td><td> -918.09838</td></tr>\n",
       "\t<tr><td>  329528.4 </td><td>-142.46380 </td><td>-127.516089</td><td>0.4206089  </td><td>15673.51   </td><td>5794.364   </td><td>518.7632   </td><td>134.69250  </td><td>35.079606  </td><td>15.763706  </td><td>⋯          </td><td> 6566.5466 </td><td>29.41179   </td><td>17.82577   </td><td> -7.7296718</td><td> 29.4219133</td><td> 88.768312 </td><td> 55.257431 </td><td>-215.403873</td><td>   78.65441</td><td> -831.66496</td></tr>\n",
       "\t<tr><td> 3256344.2 </td><td>-240.83465 </td><td>-365.251298</td><td>0.4407651  </td><td>20201.40   </td><td>5447.518   </td><td>420.5313   </td><td>185.75266  </td><td>27.102636  </td><td>-1.343440  </td><td>⋯          </td><td> 8576.1407 </td><td>37.91559   </td><td>44.15475   </td><td>  2.4231195</td><td> 35.4647151</td><td> 47.659841 </td><td> 85.924209 </td><td>-133.708732</td><td> -214.11415</td><td>-2243.09546</td></tr>\n",
       "\t<tr><td>-1504226.7 </td><td> -55.60704 </td><td> 217.449722</td><td>0.4358615  </td><td>15111.99   </td><td>6566.732   </td><td>329.3569   </td><td>163.45638  </td><td>33.311569  </td><td>44.440076  </td><td>⋯          </td><td> 2540.9110 </td><td>18.74144   </td><td>30.09381   </td><td>  6.6307157</td><td> -0.7160096</td><td> 64.323912 </td><td> 62.189143 </td><td>  83.151625</td><td> -184.22537</td><td>  229.53821</td></tr>\n",
       "\t<tr><td>  747175.0 </td><td>-130.23518 </td><td> -85.800945</td><td>0.7277787  </td><td>16996.66   </td><td>4904.450   </td><td>406.7409   </td><td>109.24793  </td><td>25.887803  </td><td>20.107768  </td><td>⋯          </td><td> 5007.6285 </td><td>19.65435   </td><td>23.40373   </td><td> -5.0210505</td><td> 11.6790843</td><td> 66.791041 </td><td> 53.240909 </td><td> -96.071193</td><td>  -64.38749</td><td> -901.98665</td></tr>\n",
       "\t<tr><td> -310589.3 </td><td> -87.60252 </td><td> 160.852963</td><td>0.4514651  </td><td>16968.48   </td><td>4536.512   </td><td>320.1679   </td><td>118.74982  </td><td>27.281122  </td><td>31.841055  </td><td>⋯          </td><td> 4684.3042 </td><td>44.10712   </td><td>29.79915   </td><td>-12.5869089</td><td> 22.0276371</td><td> 13.239705 </td><td> 95.164799 </td><td>  49.065393</td><td> -325.98305</td><td> -308.69272</td></tr>\n",
       "\t<tr><td> 1141622.2 </td><td>-212.20539 </td><td>-156.367464</td><td>0.6093833  </td><td>17538.85   </td><td>6536.776   </td><td>429.3730   </td><td>157.94992  </td><td>41.247264  </td><td> 6.798444  </td><td>⋯          </td><td> 5386.7764 </td><td>45.28497   </td><td>38.14659   </td><td>-18.5651113</td><td> 26.2501807</td><td>-11.937672 </td><td> 71.139090 </td><td> -94.016124</td><td> -575.88887</td><td>-1170.92782</td></tr>\n",
       "\t<tr><td> 1117437.8 </td><td>-205.33883 </td><td>-195.307205</td><td>0.6077127  </td><td>19115.25   </td><td>5681.128   </td><td>432.9593   </td><td>126.98455  </td><td>27.307981  </td><td> 4.238310  </td><td>⋯          </td><td> 2829.4524 </td><td>30.18199   </td><td>37.03547   </td><td> -0.7266696</td><td> 13.6117761</td><td> 25.738843 </td><td> 50.958361 </td><td> -76.057362</td><td>  848.05746</td><td>-1131.88717</td></tr>\n",
       "\t<tr><td> -942720.8 </td><td>-108.39105 </td><td> -47.587650</td><td>0.4913522  </td><td>15843.49   </td><td>5734.074   </td><td>460.6010   </td><td>198.83867  </td><td>32.771915  </td><td>14.686715  </td><td>⋯          </td><td> 8505.3752 </td><td>29.37112   </td><td>17.99894   </td><td> 27.2078344</td><td> 35.2098257</td><td> 33.855198 </td><td>113.954417 </td><td> -85.353411</td><td>   30.52687</td><td> -204.64087</td></tr>\n",
       "\t<tr><td> 1186026.1 </td><td> -91.68814 </td><td>  95.076083</td><td>0.6773932  </td><td>14653.33   </td><td>5536.904   </td><td>359.5118   </td><td>147.06907  </td><td>40.126605  </td><td>24.146997  </td><td>⋯          </td><td> 3716.0598 </td><td>37.32239   </td><td>21.21869   </td><td> 17.1255228</td><td> 15.1122068</td><td> -2.856098 </td><td> 40.578769 </td><td> 130.709762</td><td>  -49.03638</td><td>-1114.09383</td></tr>\n",
       "\t<tr><td>  373266.9 </td><td> -93.84809 </td><td> 140.304609</td><td>0.4900308  </td><td>14999.90   </td><td>5857.409   </td><td>392.7709   </td><td>130.86108  </td><td>35.682695  </td><td>32.952865  </td><td>⋯          </td><td> 2655.4381 </td><td>17.71512   </td><td>28.11850   </td><td>-15.6019885</td><td>-20.3782987</td><td> -7.539480 </td><td> 35.309375 </td><td>  74.294725</td><td> -819.83098</td><td> -727.72208</td></tr>\n",
       "\t<tr><td>  399988.1 </td><td> -83.33680 </td><td> 100.606291</td><td>0.5593368  </td><td>16217.03   </td><td>4297.208   </td><td>331.4560   </td><td>208.79205  </td><td>39.482394  </td><td>32.398149  </td><td>⋯          </td><td> 5590.8673 </td><td>27.72048   </td><td>22.68163   </td><td>-18.7936960</td><td>  8.3708907</td><td>  6.104295 </td><td> 66.028741 </td><td>  -8.807861</td><td>   14.16477</td><td> -758.96649</td></tr>\n",
       "\t<tr><td> 1279315.2 </td><td>-232.80001 </td><td>-105.517142</td><td>0.4761294  </td><td>17191.18   </td><td>5483.290   </td><td>504.1401   </td><td>113.80317  </td><td>21.315424  </td><td> 9.751189  </td><td>⋯          </td><td> 2740.0960 </td><td>26.54208   </td><td>29.13416   </td><td> -9.4343578</td><td> 13.1465386</td><td>-19.753966 </td><td> 43.678447 </td><td>   4.797924</td><td>  488.23550</td><td>-1265.93740</td></tr>\n",
       "\t<tr><td>  647254.7 </td><td>-139.85904 </td><td> -99.833409</td><td>0.5228136  </td><td>15520.72   </td><td>4517.115   </td><td>450.1676   </td><td>224.18259  </td><td>20.616476  </td><td>22.443911  </td><td>⋯          </td><td> 8990.6180 </td><td>38.00165   </td><td>33.10172   </td><td> -8.9818313</td><td> 50.5618934</td><td> 32.251252 </td><td> 47.987953 </td><td>  -2.803049</td><td>  -20.79217</td><td>-1006.14429</td></tr>\n",
       "\t<tr><td> -678634.7 </td><td> -61.33367 </td><td>  86.128636</td><td>0.4629704  </td><td>17825.34   </td><td>4346.293   </td><td>349.1889   </td><td>212.36539  </td><td>17.511817  </td><td>26.208884  </td><td>⋯          </td><td> 7243.5194 </td><td>46.45877   </td><td>22.97107   </td><td>-42.6030356</td><td> 18.7276492</td><td> 57.772175 </td><td> 91.547308 </td><td> 148.401588</td><td>-1021.02363</td><td> -246.79170</td></tr>\n",
       "\t<tr><td> 1081468.7 </td><td>-127.48267 </td><td> -45.538070</td><td>0.6542802  </td><td>15931.28   </td><td>5490.390   </td><td>411.7210   </td><td>159.48305  </td><td>30.400716  </td><td>13.870371  </td><td>⋯          </td><td> 4917.0720 </td><td>30.11227   </td><td>30.79312   </td><td> 26.6258638</td><td>  8.7024249</td><td> 74.182983 </td><td> 81.878074 </td><td>  -1.990929</td><td>  342.95771</td><td>-1127.33956</td></tr>\n",
       "\t<tr><td> -777605.6 </td><td>-200.75214 </td><td>-240.272601</td><td>0.5616190  </td><td>20833.61   </td><td>4412.276   </td><td>427.7369   </td><td>185.64741  </td><td>17.647616  </td><td> 2.992032  </td><td>⋯          </td><td> 3797.3222 </td><td>29.28837   </td><td>36.50361   </td><td>-24.3606044</td><td>  9.8096700</td><td>-12.331487 </td><td> 59.419329 </td><td>  12.090328</td><td>  240.34202</td><td> -238.85217</td></tr>\n",
       "</tbody>\n",
       "</table>\n"
      ],
      "text/latex": [
       "\\begin{tabular}{lllllllllllllllllllllllll}\n",
       " (Intercept) & MSSubClass & LotFrontage & LotArea & OverallQual & OverallCond & YearBuilt & YearRemodAdd & MasVnrArea & TotalBsmtSF & ⋯ & TotRmsAbvGrd & GarageArea & WoodDeckSF & OpenPorchSF & EnclosedPorch & X3SsnPorch & ScreenPorch & PoolArea & MoSold & YrSold\\\\\n",
       "\\hline\n",
       "\t  -604850.156 &  -96.51409   &  180.15647   & 0.5181614    & 15428.71     & 5054.622     & 378.4394     & 156.03875    & 21.61280     & 28.927858    & ⋯            & 5338.7171    & 23.79285     & 17.26573     & -10.9965461  &  -6.0116630  & -31.407097   & 53.41256     &  183.284067  &  221.93120   &  -255.74699 \\\\\n",
       "\t    -2173.365 & -141.61587   &   55.57816   & 0.4617227    & 17667.08     & 5447.683     & 383.7860     &  99.45117    & 41.00796     & 20.763713    & ⋯            & 4793.2374    & 23.75340     & 29.40674     &  21.1480926  &   9.5429672  &  14.357612   & 21.03552     &    5.692391  &   20.76370   &  -510.81498 \\\\\n",
       "\t   736061.127 & -169.92972   &  -78.68744   & 0.5464725    & 17085.57     & 4910.590     & 445.0768     & 139.86681    & 32.16931     & 16.136727    & ⋯            & 4662.6680    & 29.75341     & 34.84886     &  16.1020610  &  15.1646958  & 132.916135   & 92.47730     &    3.017761  &  -36.42182   &  -962.51409 \\\\\n",
       "\t  1398254.540 & -166.01876   &  -14.09446   & 0.5750591    & 18288.67     & 5256.005     & 458.1669     & 146.82835    & 22.56923     & 10.703400    & ⋯            & 4505.0205    & 25.67865     & 27.57647     &  -0.9960887  &   1.5209379  &  26.272986   & 26.80787     &   40.373993  &  227.16756   & -1320.97480 \\\\\n",
       "\t   958219.060 &  -91.57372   &  149.29230   & 0.5137747    & 16014.48     & 6471.989     & 404.5096     & 153.04605    & 32.19478     & 26.536748    & ⋯            & 5120.6015    & 36.57345     & 36.24129     & -24.7706513  &  10.6778161  & -16.454610   & 68.55349     &   48.451191  & -924.61020   & -1058.45644 \\\\\n",
       "\t  1537933.316 &  -82.68261   &  267.19039   & 0.5365273    & 16658.62     & 5244.829     & 398.1661     & 126.84878    & 27.21864     & 28.836222    & ⋯            & 2100.2012    & 23.05022     & 39.11925     &  -1.3730363  &  17.1396586  & -36.060076   & 91.31836     &  186.570632  & -698.38055   & -1318.00373 \\\\\n",
       "\t -1271729.906 & -158.80285   &  -23.65949   & 0.6286419    & 20507.29     & 1824.502     & 308.0768     & 254.02515    & 24.90594     & 12.372374    & ⋯            & 7663.1782    & 37.97866     & 40.74173     & -14.7774496  &  17.4110785  &  13.010882   & 87.48198     &   62.995843  &  -89.47733   &    56.42096 \\\\\n",
       "\t -1044117.129 & -154.21527   &  -61.23149   & 0.7376707    & 14440.88     & 5698.549     & 431.8651     &  94.26902    & 45.77574     & 15.002547    & ⋯            & 4595.1956    & 26.87615     & 24.12947     & -10.1981998  &   8.6156846  & -17.264801   & 42.12834     &  -78.204919  &   83.68044   &   -21.31053 \\\\\n",
       "\t -1076745.109 & -176.64193   & -213.01802   & 0.6804574    & 17018.37     & 4499.834     & 387.1936     & 217.01897    & 35.48571     &  2.579813    & ⋯            & 4382.6726    & 29.93921     & 53.14875     &  44.8763940  &  40.6898584  &  61.149732   & 66.14740     & -196.913660  &  589.08070   &   -78.48413 \\\\\n",
       "\t -3241717.311 & -144.17985   & -142.81926   & 0.6342169    & 16993.46     & 4803.395     & 367.7229     & 214.06801    & 34.19077     & 15.655079    & ⋯            & 6206.3976    & 34.62427     & 32.01145     &   0.7556314  &  22.9414206  &  21.986210   & 72.40691     &   55.786011  &  285.22282   &  1014.46593 \\\\\n",
       "\t   266816.574 & -119.30385   &  -70.52736   & 0.3471740    & 17456.36     & 5402.338     & 401.9198     & 183.80418    & 25.51524     & 17.561378    & ⋯            & 4183.7497    & 32.52472     & 35.11172     &  10.6105129  &  17.1783524  &  64.114977   & 52.78919     & -100.542781  &   27.53423   &  -735.89614 \\\\\n",
       "\t  1795768.423 & -163.42546   &   73.31817   & 0.4380771    & 15954.99     & 5677.889     & 444.1412     & 148.32425    & 45.08116     & 11.288504    & ⋯            & 1055.5632    & 21.11282     & 45.45795     &   3.5418184  &  15.0635630  &  63.769430   & 80.96211     &  -55.845042  & -522.00967   & -1501.06481 \\\\\n",
       "\t  2396190.309 & -176.43469   &  -35.85802   & 0.6536764    & 16940.96     & 5458.474     & 392.3406     & 170.26240    & 45.10151     & 17.906738    & ⋯            & 3228.9822    & 19.53240     & 31.15194     &  57.5591850  &   4.6004036  & -29.403252   & 53.84064     &  -75.482860  & -486.37136   & -1771.27005 \\\\\n",
       "\t   -78204.325 & -208.17298   & -267.11135   & 0.6200074    & 19515.89     & 5442.158     & 445.3054     & 101.05761    & 39.53420     &  9.634942    & ⋯            & 5007.8578    & 31.60419     & 32.93804     & -33.1695108  &  12.8254570  &  21.765454   & 57.80571     &  -50.141178  &  379.21727   &  -527.80404 \\\\\n",
       "\t  1044078.552 &  -90.87141   &   16.77083   & 0.7106627    & 15327.76     & 4866.057     & 412.9637     & 174.98681    & 39.19887     & 25.612953    & ⋯            & 3840.7400    & 24.20796     & 36.76759     & -41.3912233  &  29.0987793  &  68.925953   & 38.85657     &    3.133986  & -657.51908   & -1120.66571 \\\\\n",
       "\t  -251042.845 & -111.46473   &  -13.80953   & 0.6010708    & 17839.08     & 4801.588     & 419.2068     & 166.07923    & 23.65614     & 24.169147    & ⋯            & 5024.2415    & 26.81744     & 30.41603     &  -7.6650485  &  34.8076537  &  -9.771936   & 37.17853     &   46.446195  &  174.86207   &  -481.03119 \\\\\n",
       "\t  -889045.737 & -105.79046   &  192.88162   & 0.5807136    & 15802.82     & 4661.162     & 421.3140     &  94.23062    & 10.34273     & 23.610317    & ⋯            &  809.9335    & 30.46289     & 26.01632     & -14.0075320  &   0.2802261  &  47.839598   & 47.20554     &   90.293684  & -294.28913   &   -91.35652 \\\\\n",
       "\t  2372458.694 & -181.86998   & -134.10692   & 0.6535124    & 17454.56     & 3338.092     & 315.8019     & 225.59840    & 35.21347     & 11.443348    & ⋯            & 2027.5114    & 25.28710     & 33.87826     &   5.5359093  &  16.3051137  &   4.871073   & 65.63812     &  -78.835297  &  471.28063   & -1734.79807 \\\\\n",
       "\t  -423538.644 & -160.47048   &  -88.73867   & 0.5035840    & 16108.05     & 4909.090     & 380.7399     & 249.24197    & 19.28808     & 15.498550    & ⋯            & 4609.6982    & 36.25732     & 27.91810     &   4.6652102  &  12.2806397  &  -1.678098   & 51.72483     &  -57.636237  &  148.20070   &  -431.34749 \\\\\n",
       "\t   138512.748 & -250.23112   & -429.04086   & 0.5618406    & 19553.96     & 4682.142     & 404.0666     & 146.13732    & 54.48957     & -4.910523    & ⋯            & 4508.6125    & 24.40158     & 47.88171     & -33.4597494  &   7.4438123  &  -6.665159   & 42.73288     &  -43.636386  &  -98.95757   &  -626.96108 \\\\\n",
       "\t  -295650.681 & -188.95172   & -207.47606   & 0.6797113    & 20561.53     & 3069.696     & 356.6952     & 216.95659    & 30.62697     & -4.317601    & ⋯            & 4746.4620    & 36.04509     & 39.11438     &  11.8841170  &   5.7082431  &  46.943592   & 70.18478     &  -75.755939  &  437.75643   &  -435.65639 \\\\\n",
       "\t -2350603.218 & -160.47542   & -119.62576   & 0.6445848    & 17574.65     & 3976.340     & 320.7150     & 222.09172    & 38.63632     &  8.299244    & ⋯            & 8325.6065    & 35.37461     & 43.53241     &   5.7413322  &  14.4574887  &  29.417142   & 67.18843     & -128.091992  & -117.51896   &   613.35490 \\\\\n",
       "\t  -758076.575 & -103.51578   &  -72.50696   & 0.4398006    & 17033.12     & 3813.541     & 307.1653     & 228.89865    & 12.00457     & 12.097650    & ⋯            & 3354.8348    & 33.00491     & 11.23505     &   0.8702516  & -31.5063656  & -37.616406   & 29.87119     &   62.721746  &  295.40575   &  -170.77888 \\\\\n",
       "\t   254568.788 & -195.07192   &  -49.26494   & 0.6389653    & 18921.57     & 3749.148     & 447.3162     & 133.19439    & 42.03034     &  5.986463    & ⋯            & 5782.7557    & 13.45903     & 31.32029     &   6.2546466  &   9.0094970  &  66.525602   & 62.24701     &  -54.692703  &  924.45493   &  -722.28445 \\\\\n",
       "\t  -858345.112 & -110.79448   &    5.99047   & 0.4629014    & 18826.37     & 5442.267     & 454.8732     &  84.14864    & 11.00396     & 16.959470    & ⋯            & 6891.3273    & 24.42408     & 33.64564     & -17.4785830  &   9.8807721  &  67.323391   & 63.20187     &   85.566495  &  648.56307   &  -138.35837 \\\\\n",
       "\t -1187320.297 & -101.78987   &  174.01538   & 0.3855827    & 14656.36     & 5458.521     & 379.2648     & 178.67159    & 31.69914     & 29.283452    & ⋯            & 6005.4510    & 30.86181     & 10.12953     & -20.1045221  &   6.5241425  & -12.885314   & 51.98387     &  213.836655  & -611.64591   &    17.84486 \\\\\n",
       "\t  -702569.879 & -191.98025   & -169.23024   & 0.4592229    & 17562.88     & 5743.260     & 457.9566     & 197.36910    & 31.33665     &  6.748142    & ⋯            & 9574.4325    & 36.52522     & 45.18090     & -12.1239895  &  40.1964517  &  44.304741   & 90.69925     & -140.551681  &  265.23413   &  -318.46978 \\\\\n",
       "\t -1446383.443 & -196.81962   & -209.61078   & 0.6679251    & 18906.95     & 4949.948     & 437.1857     & 115.62394    & 22.10731     &  3.576791    & ⋯            & 3959.4633    & 27.60197     & 32.32989     &  -3.4691374  &  14.9884245  &  94.621617   & 79.30500     &  -72.127926  &  510.66820   &   153.90697 \\\\\n",
       "\t   487081.355 & -199.70948   & -142.71952   & 0.5983282    & 18619.98     & 5374.017     & 374.5608     &  75.05424    & 47.17301     & 16.232402    & ⋯            & 2316.3775    & 28.02146     & 42.64450     &  23.6612947  &  12.4167802  & -22.475804   & 65.47074     &  -55.516177  &  -52.39483   &  -713.55577 \\\\\n",
       "\t  1035783.716 & -161.80344   &  -77.18183   & 0.4737840    & 17263.49     & 4286.076     & 391.3847     & 215.24830    & 39.34542     & 16.774466    & ⋯            & 6382.9200    & 30.76977     & 29.94998     & -12.7012862  &  16.6478107  &   4.078941   & 59.91487     &  -35.809414  & -504.65587   & -1138.61074 \\\\\n",
       "\t ⋮ & ⋮ & ⋮ & ⋮ & ⋮ & ⋮ & ⋮ & ⋮ & ⋮ & ⋮ & ⋱ & ⋮ & ⋮ & ⋮ & ⋮ & ⋮ & ⋮ & ⋮ & ⋮ & ⋮ & ⋮\\\\\n",
       "\t  1516991.9  & -138.84044  &  -41.137143 & 0.6579968   & 17128.24    & 4320.649    & 384.8020    &  81.86088   & 37.169760   & 15.733670   & ⋯           &   746.2595  & 26.77839    & 36.62877    &  -9.9274858 &   0.8216947 &  32.615054  &  80.269881  & -157.982920 &  -154.66997 & -1237.84055\\\\\n",
       "\t  -400693.7  & -165.06253  & -187.288890 & 0.6429355   & 19232.97    & 3643.481    & 412.3097    & 181.37202   & 29.047236   &  8.008007   & ⋯           &  5075.3336  & 22.43076    & 29.90442    &  -4.5212957 &  26.4396522 &  37.742354  &  71.294742  & -108.951107 &  -638.18935 &  -406.70029\\\\\n",
       "\t   670638.8  & -183.29460  & -172.126499 & 0.5805237   & 17001.12    & 3148.292    & 452.1813    & 185.58309   & 29.854377   &  8.165055   & ⋯           &  3583.2883  & 23.37728    & 35.62034    &   9.5935441 &   3.6091533 &  24.190504  &  83.792036  & -321.422385 &   423.59494 &  -975.71514\\\\\n",
       "\t  2273814.5  & -176.73852  & -122.198152 & 0.6936626   & 18116.11    & 3283.724    & 367.5432    & 247.15434   & 39.784399   & 14.386848   & ⋯           &  5283.4271  & 30.56431    & 29.58588    &  30.8553029 &  60.5006070 &  22.672926  & 113.042013  & -428.372156 &    44.34083 & -1758.78619\\\\\n",
       "\t  1216221.4  & -160.60584  &  -58.646821 & 0.4736053   & 17637.56    & 5242.476    & 367.7653    & 159.47216   & 25.833675   & 14.274276   & ⋯           &  4557.9856  & 31.01679    & 31.49381    & -19.3667796 &   5.8952886 &   2.297603  &  70.578685  &   18.167292 &  -283.98889 & -1151.26306\\\\\n",
       "\t   377102.0  & -183.76289  & -342.071910 & 0.7172840   & 18683.35    & 3141.419    & 372.7110    & 182.09742   & 48.851986   &  2.373560   & ⋯           &  3737.2879  & 25.23991    & 61.17665    &   2.3240408 &   4.3286752 &  94.965831  &  56.114686  & -106.607033 &   210.43105 &  -751.09050\\\\\n",
       "\t  1067486.3  & -153.22203  &   -6.058985 & 0.5063042   & 17377.04    & 5208.520    & 410.2972    & 129.08143   & 52.623312   & 15.276680   & ⋯           &  6794.6468  & 14.83692    & 37.13680    &  -3.5245444 &   1.5052680 &  13.956929  &  51.595828  & -122.799798 &    46.91858 & -1089.32516\\\\\n",
       "\t   682576.6  &  -64.70809  &  213.234575 & 0.6845856   & 14279.64    & 6164.420    & 409.1818    & 125.46652   & 29.208415   & 29.564495   & ⋯           &  1809.0489  & 29.96440    & 17.11382    &  23.7867516 &  21.2665411 & -10.414947  &  -1.729559  &  138.285887 &    43.93318 &  -897.96327\\\\\n",
       "\t -2279581.9  & -152.26843  &    1.392360 & 0.4944324   & 19276.51    & 4304.310    & 388.7798    & 114.81118   &  9.042539   &  8.684790   & ⋯           &  5477.0646  & 36.70531    & 54.51634    &  -2.5962015 & -10.5580175 & -27.931739  &  63.115807  &   46.763216 &   436.62029 &   606.23372\\\\\n",
       "\t  -982935.4  &  -53.11345  &  203.068341 & 0.4884677   & 12033.06    & 6639.625    & 408.9325    & 140.72572   & 33.337446   & 34.658550   & ⋯           &  2676.7281  & 18.75527    & 18.84752    &  36.2240147 &  13.3358054 & -25.563440  &  33.359032  &  104.836890 &   -58.73149 &   -81.87387\\\\\n",
       "\t  1287112.7  & -151.86773  &  -57.809824 & 0.4686227   & 20427.38    & 5959.391    & 409.1677    &  91.63185   & 17.865056   & 15.536561   & ⋯           &  1540.4811  & 47.65966    & 32.50176    & -35.2125147 &  12.2543832 &  -2.416045  &  76.003328  &   32.986304 &  -909.73858 & -1167.68616\\\\\n",
       "\t  -927751.2  & -168.77670  & -176.176206 & 0.3893250   & 18741.24    & 4981.861    & 473.9451    & 177.77814   & 48.564219   &  8.099552   & ⋯           & 10613.1655  & 26.32728    & 48.04012    & -21.2165495 &  48.7451151 &  28.194558  & 113.444079  & -231.623636 &  -171.76986 &  -210.13906\\\\\n",
       "\t -2278465.3  & -110.41947  &  131.499644 & 0.7199299   & 15182.86    & 4732.758    & 376.2469    & 187.30776   & 39.197047   & 33.457744   & ⋯           &  5629.4946  & 30.65741    & 24.40545    & -24.0378420 &   3.0624874 &  78.531818  &  56.106452  &  -24.056929 &  -359.97663 &   552.78263\\\\\n",
       "\t   771369.4  & -112.64970  &   15.455257 & 0.4387917   & 18209.33    & 4135.522    & 344.1314    & 167.03044   & 50.843349   & 17.152844   & ⋯           &  7656.0776  & 27.00497    & 30.53524    &  -2.6299343 &  -3.7497633 &  44.421257  &  22.999664  &  -55.884163 &   -25.65726 &  -918.09838\\\\\n",
       "\t   329528.4  & -142.46380  & -127.516089 & 0.4206089   & 15673.51    & 5794.364    & 518.7632    & 134.69250   & 35.079606   & 15.763706   & ⋯           &  6566.5466  & 29.41179    & 17.82577    &  -7.7296718 &  29.4219133 &  88.768312  &  55.257431  & -215.403873 &    78.65441 &  -831.66496\\\\\n",
       "\t  3256344.2  & -240.83465  & -365.251298 & 0.4407651   & 20201.40    & 5447.518    & 420.5313    & 185.75266   & 27.102636   & -1.343440   & ⋯           &  8576.1407  & 37.91559    & 44.15475    &   2.4231195 &  35.4647151 &  47.659841  &  85.924209  & -133.708732 &  -214.11415 & -2243.09546\\\\\n",
       "\t -1504226.7  &  -55.60704  &  217.449722 & 0.4358615   & 15111.99    & 6566.732    & 329.3569    & 163.45638   & 33.311569   & 44.440076   & ⋯           &  2540.9110  & 18.74144    & 30.09381    &   6.6307157 &  -0.7160096 &  64.323912  &  62.189143  &   83.151625 &  -184.22537 &   229.53821\\\\\n",
       "\t   747175.0  & -130.23518  &  -85.800945 & 0.7277787   & 16996.66    & 4904.450    & 406.7409    & 109.24793   & 25.887803   & 20.107768   & ⋯           &  5007.6285  & 19.65435    & 23.40373    &  -5.0210505 &  11.6790843 &  66.791041  &  53.240909  &  -96.071193 &   -64.38749 &  -901.98665\\\\\n",
       "\t  -310589.3  &  -87.60252  &  160.852963 & 0.4514651   & 16968.48    & 4536.512    & 320.1679    & 118.74982   & 27.281122   & 31.841055   & ⋯           &  4684.3042  & 44.10712    & 29.79915    & -12.5869089 &  22.0276371 &  13.239705  &  95.164799  &   49.065393 &  -325.98305 &  -308.69272\\\\\n",
       "\t  1141622.2  & -212.20539  & -156.367464 & 0.6093833   & 17538.85    & 6536.776    & 429.3730    & 157.94992   & 41.247264   &  6.798444   & ⋯           &  5386.7764  & 45.28497    & 38.14659    & -18.5651113 &  26.2501807 & -11.937672  &  71.139090  &  -94.016124 &  -575.88887 & -1170.92782\\\\\n",
       "\t  1117437.8  & -205.33883  & -195.307205 & 0.6077127   & 19115.25    & 5681.128    & 432.9593    & 126.98455   & 27.307981   &  4.238310   & ⋯           &  2829.4524  & 30.18199    & 37.03547    &  -0.7266696 &  13.6117761 &  25.738843  &  50.958361  &  -76.057362 &   848.05746 & -1131.88717\\\\\n",
       "\t  -942720.8  & -108.39105  &  -47.587650 & 0.4913522   & 15843.49    & 5734.074    & 460.6010    & 198.83867   & 32.771915   & 14.686715   & ⋯           &  8505.3752  & 29.37112    & 17.99894    &  27.2078344 &  35.2098257 &  33.855198  & 113.954417  &  -85.353411 &    30.52687 &  -204.64087\\\\\n",
       "\t  1186026.1  &  -91.68814  &   95.076083 & 0.6773932   & 14653.33    & 5536.904    & 359.5118    & 147.06907   & 40.126605   & 24.146997   & ⋯           &  3716.0598  & 37.32239    & 21.21869    &  17.1255228 &  15.1122068 &  -2.856098  &  40.578769  &  130.709762 &   -49.03638 & -1114.09383\\\\\n",
       "\t   373266.9  &  -93.84809  &  140.304609 & 0.4900308   & 14999.90    & 5857.409    & 392.7709    & 130.86108   & 35.682695   & 32.952865   & ⋯           &  2655.4381  & 17.71512    & 28.11850    & -15.6019885 & -20.3782987 &  -7.539480  &  35.309375  &   74.294725 &  -819.83098 &  -727.72208\\\\\n",
       "\t   399988.1  &  -83.33680  &  100.606291 & 0.5593368   & 16217.03    & 4297.208    & 331.4560    & 208.79205   & 39.482394   & 32.398149   & ⋯           &  5590.8673  & 27.72048    & 22.68163    & -18.7936960 &   8.3708907 &   6.104295  &  66.028741  &   -8.807861 &    14.16477 &  -758.96649\\\\\n",
       "\t  1279315.2  & -232.80001  & -105.517142 & 0.4761294   & 17191.18    & 5483.290    & 504.1401    & 113.80317   & 21.315424   &  9.751189   & ⋯           &  2740.0960  & 26.54208    & 29.13416    &  -9.4343578 &  13.1465386 & -19.753966  &  43.678447  &    4.797924 &   488.23550 & -1265.93740\\\\\n",
       "\t   647254.7  & -139.85904  &  -99.833409 & 0.5228136   & 15520.72    & 4517.115    & 450.1676    & 224.18259   & 20.616476   & 22.443911   & ⋯           &  8990.6180  & 38.00165    & 33.10172    &  -8.9818313 &  50.5618934 &  32.251252  &  47.987953  &   -2.803049 &   -20.79217 & -1006.14429\\\\\n",
       "\t  -678634.7  &  -61.33367  &   86.128636 & 0.4629704   & 17825.34    & 4346.293    & 349.1889    & 212.36539   & 17.511817   & 26.208884   & ⋯           &  7243.5194  & 46.45877    & 22.97107    & -42.6030356 &  18.7276492 &  57.772175  &  91.547308  &  148.401588 & -1021.02363 &  -246.79170\\\\\n",
       "\t  1081468.7  & -127.48267  &  -45.538070 & 0.6542802   & 15931.28    & 5490.390    & 411.7210    & 159.48305   & 30.400716   & 13.870371   & ⋯           &  4917.0720  & 30.11227    & 30.79312    &  26.6258638 &   8.7024249 &  74.182983  &  81.878074  &   -1.990929 &   342.95771 & -1127.33956\\\\\n",
       "\t  -777605.6  & -200.75214  & -240.272601 & 0.5616190   & 20833.61    & 4412.276    & 427.7369    & 185.64741   & 17.647616   &  2.992032   & ⋯           &  3797.3222  & 29.28837    & 36.50361    & -24.3606044 &   9.8096700 & -12.331487  &  59.419329  &   12.090328 &   240.34202 &  -238.85217\\\\\n",
       "\\end{tabular}\n"
      ],
      "text/markdown": [
       "\n",
       "(Intercept) | MSSubClass | LotFrontage | LotArea | OverallQual | OverallCond | YearBuilt | YearRemodAdd | MasVnrArea | TotalBsmtSF | ⋯ | TotRmsAbvGrd | GarageArea | WoodDeckSF | OpenPorchSF | EnclosedPorch | X3SsnPorch | ScreenPorch | PoolArea | MoSold | YrSold | \n",
       "|---|---|---|---|---|---|---|---|---|---|---|---|---|---|---|---|---|---|---|---|---|---|---|---|---|---|---|---|---|---|---|---|---|---|---|---|---|---|---|---|---|---|---|---|---|---|---|---|---|---|---|---|---|---|---|---|---|---|---|---|---|\n",
       "|  -604850.156 |  -96.51409   |  180.15647   | 0.5181614    | 15428.71     | 5054.622     | 378.4394     | 156.03875    | 21.61280     | 28.927858    | ⋯            | 5338.7171    | 23.79285     | 17.26573     | -10.9965461  |  -6.0116630  | -31.407097   | 53.41256     |  183.284067  |  221.93120   |  -255.74699  | \n",
       "|    -2173.365 | -141.61587   |   55.57816   | 0.4617227    | 17667.08     | 5447.683     | 383.7860     |  99.45117    | 41.00796     | 20.763713    | ⋯            | 4793.2374    | 23.75340     | 29.40674     |  21.1480926  |   9.5429672  |  14.357612   | 21.03552     |    5.692391  |   20.76370   |  -510.81498  | \n",
       "|   736061.127 | -169.92972   |  -78.68744   | 0.5464725    | 17085.57     | 4910.590     | 445.0768     | 139.86681    | 32.16931     | 16.136727    | ⋯            | 4662.6680    | 29.75341     | 34.84886     |  16.1020610  |  15.1646958  | 132.916135   | 92.47730     |    3.017761  |  -36.42182   |  -962.51409  | \n",
       "|  1398254.540 | -166.01876   |  -14.09446   | 0.5750591    | 18288.67     | 5256.005     | 458.1669     | 146.82835    | 22.56923     | 10.703400    | ⋯            | 4505.0205    | 25.67865     | 27.57647     |  -0.9960887  |   1.5209379  |  26.272986   | 26.80787     |   40.373993  |  227.16756   | -1320.97480  | \n",
       "|   958219.060 |  -91.57372   |  149.29230   | 0.5137747    | 16014.48     | 6471.989     | 404.5096     | 153.04605    | 32.19478     | 26.536748    | ⋯            | 5120.6015    | 36.57345     | 36.24129     | -24.7706513  |  10.6778161  | -16.454610   | 68.55349     |   48.451191  | -924.61020   | -1058.45644  | \n",
       "|  1537933.316 |  -82.68261   |  267.19039   | 0.5365273    | 16658.62     | 5244.829     | 398.1661     | 126.84878    | 27.21864     | 28.836222    | ⋯            | 2100.2012    | 23.05022     | 39.11925     |  -1.3730363  |  17.1396586  | -36.060076   | 91.31836     |  186.570632  | -698.38055   | -1318.00373  | \n",
       "| -1271729.906 | -158.80285   |  -23.65949   | 0.6286419    | 20507.29     | 1824.502     | 308.0768     | 254.02515    | 24.90594     | 12.372374    | ⋯            | 7663.1782    | 37.97866     | 40.74173     | -14.7774496  |  17.4110785  |  13.010882   | 87.48198     |   62.995843  |  -89.47733   |    56.42096  | \n",
       "| -1044117.129 | -154.21527   |  -61.23149   | 0.7376707    | 14440.88     | 5698.549     | 431.8651     |  94.26902    | 45.77574     | 15.002547    | ⋯            | 4595.1956    | 26.87615     | 24.12947     | -10.1981998  |   8.6156846  | -17.264801   | 42.12834     |  -78.204919  |   83.68044   |   -21.31053  | \n",
       "| -1076745.109 | -176.64193   | -213.01802   | 0.6804574    | 17018.37     | 4499.834     | 387.1936     | 217.01897    | 35.48571     |  2.579813    | ⋯            | 4382.6726    | 29.93921     | 53.14875     |  44.8763940  |  40.6898584  |  61.149732   | 66.14740     | -196.913660  |  589.08070   |   -78.48413  | \n",
       "| -3241717.311 | -144.17985   | -142.81926   | 0.6342169    | 16993.46     | 4803.395     | 367.7229     | 214.06801    | 34.19077     | 15.655079    | ⋯            | 6206.3976    | 34.62427     | 32.01145     |   0.7556314  |  22.9414206  |  21.986210   | 72.40691     |   55.786011  |  285.22282   |  1014.46593  | \n",
       "|   266816.574 | -119.30385   |  -70.52736   | 0.3471740    | 17456.36     | 5402.338     | 401.9198     | 183.80418    | 25.51524     | 17.561378    | ⋯            | 4183.7497    | 32.52472     | 35.11172     |  10.6105129  |  17.1783524  |  64.114977   | 52.78919     | -100.542781  |   27.53423   |  -735.89614  | \n",
       "|  1795768.423 | -163.42546   |   73.31817   | 0.4380771    | 15954.99     | 5677.889     | 444.1412     | 148.32425    | 45.08116     | 11.288504    | ⋯            | 1055.5632    | 21.11282     | 45.45795     |   3.5418184  |  15.0635630  |  63.769430   | 80.96211     |  -55.845042  | -522.00967   | -1501.06481  | \n",
       "|  2396190.309 | -176.43469   |  -35.85802   | 0.6536764    | 16940.96     | 5458.474     | 392.3406     | 170.26240    | 45.10151     | 17.906738    | ⋯            | 3228.9822    | 19.53240     | 31.15194     |  57.5591850  |   4.6004036  | -29.403252   | 53.84064     |  -75.482860  | -486.37136   | -1771.27005  | \n",
       "|   -78204.325 | -208.17298   | -267.11135   | 0.6200074    | 19515.89     | 5442.158     | 445.3054     | 101.05761    | 39.53420     |  9.634942    | ⋯            | 5007.8578    | 31.60419     | 32.93804     | -33.1695108  |  12.8254570  |  21.765454   | 57.80571     |  -50.141178  |  379.21727   |  -527.80404  | \n",
       "|  1044078.552 |  -90.87141   |   16.77083   | 0.7106627    | 15327.76     | 4866.057     | 412.9637     | 174.98681    | 39.19887     | 25.612953    | ⋯            | 3840.7400    | 24.20796     | 36.76759     | -41.3912233  |  29.0987793  |  68.925953   | 38.85657     |    3.133986  | -657.51908   | -1120.66571  | \n",
       "|  -251042.845 | -111.46473   |  -13.80953   | 0.6010708    | 17839.08     | 4801.588     | 419.2068     | 166.07923    | 23.65614     | 24.169147    | ⋯            | 5024.2415    | 26.81744     | 30.41603     |  -7.6650485  |  34.8076537  |  -9.771936   | 37.17853     |   46.446195  |  174.86207   |  -481.03119  | \n",
       "|  -889045.737 | -105.79046   |  192.88162   | 0.5807136    | 15802.82     | 4661.162     | 421.3140     |  94.23062    | 10.34273     | 23.610317    | ⋯            |  809.9335    | 30.46289     | 26.01632     | -14.0075320  |   0.2802261  |  47.839598   | 47.20554     |   90.293684  | -294.28913   |   -91.35652  | \n",
       "|  2372458.694 | -181.86998   | -134.10692   | 0.6535124    | 17454.56     | 3338.092     | 315.8019     | 225.59840    | 35.21347     | 11.443348    | ⋯            | 2027.5114    | 25.28710     | 33.87826     |   5.5359093  |  16.3051137  |   4.871073   | 65.63812     |  -78.835297  |  471.28063   | -1734.79807  | \n",
       "|  -423538.644 | -160.47048   |  -88.73867   | 0.5035840    | 16108.05     | 4909.090     | 380.7399     | 249.24197    | 19.28808     | 15.498550    | ⋯            | 4609.6982    | 36.25732     | 27.91810     |   4.6652102  |  12.2806397  |  -1.678098   | 51.72483     |  -57.636237  |  148.20070   |  -431.34749  | \n",
       "|   138512.748 | -250.23112   | -429.04086   | 0.5618406    | 19553.96     | 4682.142     | 404.0666     | 146.13732    | 54.48957     | -4.910523    | ⋯            | 4508.6125    | 24.40158     | 47.88171     | -33.4597494  |   7.4438123  |  -6.665159   | 42.73288     |  -43.636386  |  -98.95757   |  -626.96108  | \n",
       "|  -295650.681 | -188.95172   | -207.47606   | 0.6797113    | 20561.53     | 3069.696     | 356.6952     | 216.95659    | 30.62697     | -4.317601    | ⋯            | 4746.4620    | 36.04509     | 39.11438     |  11.8841170  |   5.7082431  |  46.943592   | 70.18478     |  -75.755939  |  437.75643   |  -435.65639  | \n",
       "| -2350603.218 | -160.47542   | -119.62576   | 0.6445848    | 17574.65     | 3976.340     | 320.7150     | 222.09172    | 38.63632     |  8.299244    | ⋯            | 8325.6065    | 35.37461     | 43.53241     |   5.7413322  |  14.4574887  |  29.417142   | 67.18843     | -128.091992  | -117.51896   |   613.35490  | \n",
       "|  -758076.575 | -103.51578   |  -72.50696   | 0.4398006    | 17033.12     | 3813.541     | 307.1653     | 228.89865    | 12.00457     | 12.097650    | ⋯            | 3354.8348    | 33.00491     | 11.23505     |   0.8702516  | -31.5063656  | -37.616406   | 29.87119     |   62.721746  |  295.40575   |  -170.77888  | \n",
       "|   254568.788 | -195.07192   |  -49.26494   | 0.6389653    | 18921.57     | 3749.148     | 447.3162     | 133.19439    | 42.03034     |  5.986463    | ⋯            | 5782.7557    | 13.45903     | 31.32029     |   6.2546466  |   9.0094970  |  66.525602   | 62.24701     |  -54.692703  |  924.45493   |  -722.28445  | \n",
       "|  -858345.112 | -110.79448   |    5.99047   | 0.4629014    | 18826.37     | 5442.267     | 454.8732     |  84.14864    | 11.00396     | 16.959470    | ⋯            | 6891.3273    | 24.42408     | 33.64564     | -17.4785830  |   9.8807721  |  67.323391   | 63.20187     |   85.566495  |  648.56307   |  -138.35837  | \n",
       "| -1187320.297 | -101.78987   |  174.01538   | 0.3855827    | 14656.36     | 5458.521     | 379.2648     | 178.67159    | 31.69914     | 29.283452    | ⋯            | 6005.4510    | 30.86181     | 10.12953     | -20.1045221  |   6.5241425  | -12.885314   | 51.98387     |  213.836655  | -611.64591   |    17.84486  | \n",
       "|  -702569.879 | -191.98025   | -169.23024   | 0.4592229    | 17562.88     | 5743.260     | 457.9566     | 197.36910    | 31.33665     |  6.748142    | ⋯            | 9574.4325    | 36.52522     | 45.18090     | -12.1239895  |  40.1964517  |  44.304741   | 90.69925     | -140.551681  |  265.23413   |  -318.46978  | \n",
       "| -1446383.443 | -196.81962   | -209.61078   | 0.6679251    | 18906.95     | 4949.948     | 437.1857     | 115.62394    | 22.10731     |  3.576791    | ⋯            | 3959.4633    | 27.60197     | 32.32989     |  -3.4691374  |  14.9884245  |  94.621617   | 79.30500     |  -72.127926  |  510.66820   |   153.90697  | \n",
       "|   487081.355 | -199.70948   | -142.71952   | 0.5983282    | 18619.98     | 5374.017     | 374.5608     |  75.05424    | 47.17301     | 16.232402    | ⋯            | 2316.3775    | 28.02146     | 42.64450     |  23.6612947  |  12.4167802  | -22.475804   | 65.47074     |  -55.516177  |  -52.39483   |  -713.55577  | \n",
       "|  1035783.716 | -161.80344   |  -77.18183   | 0.4737840    | 17263.49     | 4286.076     | 391.3847     | 215.24830    | 39.34542     | 16.774466    | ⋯            | 6382.9200    | 30.76977     | 29.94998     | -12.7012862  |  16.6478107  |   4.078941   | 59.91487     |  -35.809414  | -504.65587   | -1138.61074  | \n",
       "| ⋮ | ⋮ | ⋮ | ⋮ | ⋮ | ⋮ | ⋮ | ⋮ | ⋮ | ⋮ | ⋱ | ⋮ | ⋮ | ⋮ | ⋮ | ⋮ | ⋮ | ⋮ | ⋮ | ⋮ | ⋮ | \n",
       "|  1516991.9  | -138.84044  |  -41.137143 | 0.6579968   | 17128.24    | 4320.649    | 384.8020    |  81.86088   | 37.169760   | 15.733670   | ⋯           |   746.2595  | 26.77839    | 36.62877    |  -9.9274858 |   0.8216947 |  32.615054  |  80.269881  | -157.982920 |  -154.66997 | -1237.84055 | \n",
       "|  -400693.7  | -165.06253  | -187.288890 | 0.6429355   | 19232.97    | 3643.481    | 412.3097    | 181.37202   | 29.047236   |  8.008007   | ⋯           |  5075.3336  | 22.43076    | 29.90442    |  -4.5212957 |  26.4396522 |  37.742354  |  71.294742  | -108.951107 |  -638.18935 |  -406.70029 | \n",
       "|   670638.8  | -183.29460  | -172.126499 | 0.5805237   | 17001.12    | 3148.292    | 452.1813    | 185.58309   | 29.854377   |  8.165055   | ⋯           |  3583.2883  | 23.37728    | 35.62034    |   9.5935441 |   3.6091533 |  24.190504  |  83.792036  | -321.422385 |   423.59494 |  -975.71514 | \n",
       "|  2273814.5  | -176.73852  | -122.198152 | 0.6936626   | 18116.11    | 3283.724    | 367.5432    | 247.15434   | 39.784399   | 14.386848   | ⋯           |  5283.4271  | 30.56431    | 29.58588    |  30.8553029 |  60.5006070 |  22.672926  | 113.042013  | -428.372156 |    44.34083 | -1758.78619 | \n",
       "|  1216221.4  | -160.60584  |  -58.646821 | 0.4736053   | 17637.56    | 5242.476    | 367.7653    | 159.47216   | 25.833675   | 14.274276   | ⋯           |  4557.9856  | 31.01679    | 31.49381    | -19.3667796 |   5.8952886 |   2.297603  |  70.578685  |   18.167292 |  -283.98889 | -1151.26306 | \n",
       "|   377102.0  | -183.76289  | -342.071910 | 0.7172840   | 18683.35    | 3141.419    | 372.7110    | 182.09742   | 48.851986   |  2.373560   | ⋯           |  3737.2879  | 25.23991    | 61.17665    |   2.3240408 |   4.3286752 |  94.965831  |  56.114686  | -106.607033 |   210.43105 |  -751.09050 | \n",
       "|  1067486.3  | -153.22203  |   -6.058985 | 0.5063042   | 17377.04    | 5208.520    | 410.2972    | 129.08143   | 52.623312   | 15.276680   | ⋯           |  6794.6468  | 14.83692    | 37.13680    |  -3.5245444 |   1.5052680 |  13.956929  |  51.595828  | -122.799798 |    46.91858 | -1089.32516 | \n",
       "|   682576.6  |  -64.70809  |  213.234575 | 0.6845856   | 14279.64    | 6164.420    | 409.1818    | 125.46652   | 29.208415   | 29.564495   | ⋯           |  1809.0489  | 29.96440    | 17.11382    |  23.7867516 |  21.2665411 | -10.414947  |  -1.729559  |  138.285887 |    43.93318 |  -897.96327 | \n",
       "| -2279581.9  | -152.26843  |    1.392360 | 0.4944324   | 19276.51    | 4304.310    | 388.7798    | 114.81118   |  9.042539   |  8.684790   | ⋯           |  5477.0646  | 36.70531    | 54.51634    |  -2.5962015 | -10.5580175 | -27.931739  |  63.115807  |   46.763216 |   436.62029 |   606.23372 | \n",
       "|  -982935.4  |  -53.11345  |  203.068341 | 0.4884677   | 12033.06    | 6639.625    | 408.9325    | 140.72572   | 33.337446   | 34.658550   | ⋯           |  2676.7281  | 18.75527    | 18.84752    |  36.2240147 |  13.3358054 | -25.563440  |  33.359032  |  104.836890 |   -58.73149 |   -81.87387 | \n",
       "|  1287112.7  | -151.86773  |  -57.809824 | 0.4686227   | 20427.38    | 5959.391    | 409.1677    |  91.63185   | 17.865056   | 15.536561   | ⋯           |  1540.4811  | 47.65966    | 32.50176    | -35.2125147 |  12.2543832 |  -2.416045  |  76.003328  |   32.986304 |  -909.73858 | -1167.68616 | \n",
       "|  -927751.2  | -168.77670  | -176.176206 | 0.3893250   | 18741.24    | 4981.861    | 473.9451    | 177.77814   | 48.564219   |  8.099552   | ⋯           | 10613.1655  | 26.32728    | 48.04012    | -21.2165495 |  48.7451151 |  28.194558  | 113.444079  | -231.623636 |  -171.76986 |  -210.13906 | \n",
       "| -2278465.3  | -110.41947  |  131.499644 | 0.7199299   | 15182.86    | 4732.758    | 376.2469    | 187.30776   | 39.197047   | 33.457744   | ⋯           |  5629.4946  | 30.65741    | 24.40545    | -24.0378420 |   3.0624874 |  78.531818  |  56.106452  |  -24.056929 |  -359.97663 |   552.78263 | \n",
       "|   771369.4  | -112.64970  |   15.455257 | 0.4387917   | 18209.33    | 4135.522    | 344.1314    | 167.03044   | 50.843349   | 17.152844   | ⋯           |  7656.0776  | 27.00497    | 30.53524    |  -2.6299343 |  -3.7497633 |  44.421257  |  22.999664  |  -55.884163 |   -25.65726 |  -918.09838 | \n",
       "|   329528.4  | -142.46380  | -127.516089 | 0.4206089   | 15673.51    | 5794.364    | 518.7632    | 134.69250   | 35.079606   | 15.763706   | ⋯           |  6566.5466  | 29.41179    | 17.82577    |  -7.7296718 |  29.4219133 |  88.768312  |  55.257431  | -215.403873 |    78.65441 |  -831.66496 | \n",
       "|  3256344.2  | -240.83465  | -365.251298 | 0.4407651   | 20201.40    | 5447.518    | 420.5313    | 185.75266   | 27.102636   | -1.343440   | ⋯           |  8576.1407  | 37.91559    | 44.15475    |   2.4231195 |  35.4647151 |  47.659841  |  85.924209  | -133.708732 |  -214.11415 | -2243.09546 | \n",
       "| -1504226.7  |  -55.60704  |  217.449722 | 0.4358615   | 15111.99    | 6566.732    | 329.3569    | 163.45638   | 33.311569   | 44.440076   | ⋯           |  2540.9110  | 18.74144    | 30.09381    |   6.6307157 |  -0.7160096 |  64.323912  |  62.189143  |   83.151625 |  -184.22537 |   229.53821 | \n",
       "|   747175.0  | -130.23518  |  -85.800945 | 0.7277787   | 16996.66    | 4904.450    | 406.7409    | 109.24793   | 25.887803   | 20.107768   | ⋯           |  5007.6285  | 19.65435    | 23.40373    |  -5.0210505 |  11.6790843 |  66.791041  |  53.240909  |  -96.071193 |   -64.38749 |  -901.98665 | \n",
       "|  -310589.3  |  -87.60252  |  160.852963 | 0.4514651   | 16968.48    | 4536.512    | 320.1679    | 118.74982   | 27.281122   | 31.841055   | ⋯           |  4684.3042  | 44.10712    | 29.79915    | -12.5869089 |  22.0276371 |  13.239705  |  95.164799  |   49.065393 |  -325.98305 |  -308.69272 | \n",
       "|  1141622.2  | -212.20539  | -156.367464 | 0.6093833   | 17538.85    | 6536.776    | 429.3730    | 157.94992   | 41.247264   |  6.798444   | ⋯           |  5386.7764  | 45.28497    | 38.14659    | -18.5651113 |  26.2501807 | -11.937672  |  71.139090  |  -94.016124 |  -575.88887 | -1170.92782 | \n",
       "|  1117437.8  | -205.33883  | -195.307205 | 0.6077127   | 19115.25    | 5681.128    | 432.9593    | 126.98455   | 27.307981   |  4.238310   | ⋯           |  2829.4524  | 30.18199    | 37.03547    |  -0.7266696 |  13.6117761 |  25.738843  |  50.958361  |  -76.057362 |   848.05746 | -1131.88717 | \n",
       "|  -942720.8  | -108.39105  |  -47.587650 | 0.4913522   | 15843.49    | 5734.074    | 460.6010    | 198.83867   | 32.771915   | 14.686715   | ⋯           |  8505.3752  | 29.37112    | 17.99894    |  27.2078344 |  35.2098257 |  33.855198  | 113.954417  |  -85.353411 |    30.52687 |  -204.64087 | \n",
       "|  1186026.1  |  -91.68814  |   95.076083 | 0.6773932   | 14653.33    | 5536.904    | 359.5118    | 147.06907   | 40.126605   | 24.146997   | ⋯           |  3716.0598  | 37.32239    | 21.21869    |  17.1255228 |  15.1122068 |  -2.856098  |  40.578769  |  130.709762 |   -49.03638 | -1114.09383 | \n",
       "|   373266.9  |  -93.84809  |  140.304609 | 0.4900308   | 14999.90    | 5857.409    | 392.7709    | 130.86108   | 35.682695   | 32.952865   | ⋯           |  2655.4381  | 17.71512    | 28.11850    | -15.6019885 | -20.3782987 |  -7.539480  |  35.309375  |   74.294725 |  -819.83098 |  -727.72208 | \n",
       "|   399988.1  |  -83.33680  |  100.606291 | 0.5593368   | 16217.03    | 4297.208    | 331.4560    | 208.79205   | 39.482394   | 32.398149   | ⋯           |  5590.8673  | 27.72048    | 22.68163    | -18.7936960 |   8.3708907 |   6.104295  |  66.028741  |   -8.807861 |    14.16477 |  -758.96649 | \n",
       "|  1279315.2  | -232.80001  | -105.517142 | 0.4761294   | 17191.18    | 5483.290    | 504.1401    | 113.80317   | 21.315424   |  9.751189   | ⋯           |  2740.0960  | 26.54208    | 29.13416    |  -9.4343578 |  13.1465386 | -19.753966  |  43.678447  |    4.797924 |   488.23550 | -1265.93740 | \n",
       "|   647254.7  | -139.85904  |  -99.833409 | 0.5228136   | 15520.72    | 4517.115    | 450.1676    | 224.18259   | 20.616476   | 22.443911   | ⋯           |  8990.6180  | 38.00165    | 33.10172    |  -8.9818313 |  50.5618934 |  32.251252  |  47.987953  |   -2.803049 |   -20.79217 | -1006.14429 | \n",
       "|  -678634.7  |  -61.33367  |   86.128636 | 0.4629704   | 17825.34    | 4346.293    | 349.1889    | 212.36539   | 17.511817   | 26.208884   | ⋯           |  7243.5194  | 46.45877    | 22.97107    | -42.6030356 |  18.7276492 |  57.772175  |  91.547308  |  148.401588 | -1021.02363 |  -246.79170 | \n",
       "|  1081468.7  | -127.48267  |  -45.538070 | 0.6542802   | 15931.28    | 5490.390    | 411.7210    | 159.48305   | 30.400716   | 13.870371   | ⋯           |  4917.0720  | 30.11227    | 30.79312    |  26.6258638 |   8.7024249 |  74.182983  |  81.878074  |   -1.990929 |   342.95771 | -1127.33956 | \n",
       "|  -777605.6  | -200.75214  | -240.272601 | 0.5616190   | 20833.61    | 4412.276    | 427.7369    | 185.64741   | 17.647616   |  2.992032   | ⋯           |  3797.3222  | 29.28837    | 36.50361    | -24.3606044 |   9.8096700 | -12.331487  |  59.419329  |   12.090328 |   240.34202 |  -238.85217 | \n",
       "\n",
       "\n"
      ],
      "text/plain": [
       "      (Intercept)  MSSubClass LotFrontage LotArea   OverallQual OverallCond\n",
       " [1,]  -604850.156  -96.51409  180.15647  0.5181614 15428.71    5054.622   \n",
       " [2,]    -2173.365 -141.61587   55.57816  0.4617227 17667.08    5447.683   \n",
       " [3,]   736061.127 -169.92972  -78.68744  0.5464725 17085.57    4910.590   \n",
       " [4,]  1398254.540 -166.01876  -14.09446  0.5750591 18288.67    5256.005   \n",
       " [5,]   958219.060  -91.57372  149.29230  0.5137747 16014.48    6471.989   \n",
       " [6,]  1537933.316  -82.68261  267.19039  0.5365273 16658.62    5244.829   \n",
       " [7,] -1271729.906 -158.80285  -23.65949  0.6286419 20507.29    1824.502   \n",
       " [8,] -1044117.129 -154.21527  -61.23149  0.7376707 14440.88    5698.549   \n",
       " [9,] -1076745.109 -176.64193 -213.01802  0.6804574 17018.37    4499.834   \n",
       "[10,] -3241717.311 -144.17985 -142.81926  0.6342169 16993.46    4803.395   \n",
       "[11,]   266816.574 -119.30385  -70.52736  0.3471740 17456.36    5402.338   \n",
       "[12,]  1795768.423 -163.42546   73.31817  0.4380771 15954.99    5677.889   \n",
       "[13,]  2396190.309 -176.43469  -35.85802  0.6536764 16940.96    5458.474   \n",
       "[14,]   -78204.325 -208.17298 -267.11135  0.6200074 19515.89    5442.158   \n",
       "[15,]  1044078.552  -90.87141   16.77083  0.7106627 15327.76    4866.057   \n",
       "[16,]  -251042.845 -111.46473  -13.80953  0.6010708 17839.08    4801.588   \n",
       "[17,]  -889045.737 -105.79046  192.88162  0.5807136 15802.82    4661.162   \n",
       "[18,]  2372458.694 -181.86998 -134.10692  0.6535124 17454.56    3338.092   \n",
       "[19,]  -423538.644 -160.47048  -88.73867  0.5035840 16108.05    4909.090   \n",
       "[20,]   138512.748 -250.23112 -429.04086  0.5618406 19553.96    4682.142   \n",
       "[21,]  -295650.681 -188.95172 -207.47606  0.6797113 20561.53    3069.696   \n",
       "[22,] -2350603.218 -160.47542 -119.62576  0.6445848 17574.65    3976.340   \n",
       "[23,]  -758076.575 -103.51578  -72.50696  0.4398006 17033.12    3813.541   \n",
       "[24,]   254568.788 -195.07192  -49.26494  0.6389653 18921.57    3749.148   \n",
       "[25,]  -858345.112 -110.79448    5.99047  0.4629014 18826.37    5442.267   \n",
       "[26,] -1187320.297 -101.78987  174.01538  0.3855827 14656.36    5458.521   \n",
       "[27,]  -702569.879 -191.98025 -169.23024  0.4592229 17562.88    5743.260   \n",
       "[28,] -1446383.443 -196.81962 -209.61078  0.6679251 18906.95    4949.948   \n",
       "[29,]   487081.355 -199.70948 -142.71952  0.5983282 18619.98    5374.017   \n",
       "[30,]  1035783.716 -161.80344  -77.18183  0.4737840 17263.49    4286.076   \n",
       "[31,] ⋮            ⋮          ⋮           ⋮         ⋮           ⋮          \n",
       "[32,]  1516991.9   -138.84044  -41.137143 0.6579968 17128.24    4320.649   \n",
       "[33,]  -400693.7   -165.06253 -187.288890 0.6429355 19232.97    3643.481   \n",
       "[34,]   670638.8   -183.29460 -172.126499 0.5805237 17001.12    3148.292   \n",
       "[35,]  2273814.5   -176.73852 -122.198152 0.6936626 18116.11    3283.724   \n",
       "[36,]  1216221.4   -160.60584  -58.646821 0.4736053 17637.56    5242.476   \n",
       "[37,]   377102.0   -183.76289 -342.071910 0.7172840 18683.35    3141.419   \n",
       "[38,]  1067486.3   -153.22203   -6.058985 0.5063042 17377.04    5208.520   \n",
       "[39,]   682576.6    -64.70809  213.234575 0.6845856 14279.64    6164.420   \n",
       "[40,] -2279581.9   -152.26843    1.392360 0.4944324 19276.51    4304.310   \n",
       "[41,]  -982935.4    -53.11345  203.068341 0.4884677 12033.06    6639.625   \n",
       "[42,]  1287112.7   -151.86773  -57.809824 0.4686227 20427.38    5959.391   \n",
       "[43,]  -927751.2   -168.77670 -176.176206 0.3893250 18741.24    4981.861   \n",
       "[44,] -2278465.3   -110.41947  131.499644 0.7199299 15182.86    4732.758   \n",
       "[45,]   771369.4   -112.64970   15.455257 0.4387917 18209.33    4135.522   \n",
       "[46,]   329528.4   -142.46380 -127.516089 0.4206089 15673.51    5794.364   \n",
       "[47,]  3256344.2   -240.83465 -365.251298 0.4407651 20201.40    5447.518   \n",
       "[48,] -1504226.7    -55.60704  217.449722 0.4358615 15111.99    6566.732   \n",
       "[49,]   747175.0   -130.23518  -85.800945 0.7277787 16996.66    4904.450   \n",
       "[50,]  -310589.3    -87.60252  160.852963 0.4514651 16968.48    4536.512   \n",
       "[51,]  1141622.2   -212.20539 -156.367464 0.6093833 17538.85    6536.776   \n",
       "[52,]  1117437.8   -205.33883 -195.307205 0.6077127 19115.25    5681.128   \n",
       "[53,]  -942720.8   -108.39105  -47.587650 0.4913522 15843.49    5734.074   \n",
       "[54,]  1186026.1    -91.68814   95.076083 0.6773932 14653.33    5536.904   \n",
       "[55,]   373266.9    -93.84809  140.304609 0.4900308 14999.90    5857.409   \n",
       "[56,]   399988.1    -83.33680  100.606291 0.5593368 16217.03    4297.208   \n",
       "[57,]  1279315.2   -232.80001 -105.517142 0.4761294 17191.18    5483.290   \n",
       "[58,]   647254.7   -139.85904  -99.833409 0.5228136 15520.72    4517.115   \n",
       "[59,]  -678634.7    -61.33367   86.128636 0.4629704 17825.34    4346.293   \n",
       "[60,]  1081468.7   -127.48267  -45.538070 0.6542802 15931.28    5490.390   \n",
       "[61,]  -777605.6   -200.75214 -240.272601 0.5616190 20833.61    4412.276   \n",
       "      YearBuilt YearRemodAdd MasVnrArea TotalBsmtSF ⋯ TotRmsAbvGrd GarageArea\n",
       " [1,] 378.4394  156.03875    21.61280   28.927858   ⋯ 5338.7171    23.79285  \n",
       " [2,] 383.7860   99.45117    41.00796   20.763713   ⋯ 4793.2374    23.75340  \n",
       " [3,] 445.0768  139.86681    32.16931   16.136727   ⋯ 4662.6680    29.75341  \n",
       " [4,] 458.1669  146.82835    22.56923   10.703400   ⋯ 4505.0205    25.67865  \n",
       " [5,] 404.5096  153.04605    32.19478   26.536748   ⋯ 5120.6015    36.57345  \n",
       " [6,] 398.1661  126.84878    27.21864   28.836222   ⋯ 2100.2012    23.05022  \n",
       " [7,] 308.0768  254.02515    24.90594   12.372374   ⋯ 7663.1782    37.97866  \n",
       " [8,] 431.8651   94.26902    45.77574   15.002547   ⋯ 4595.1956    26.87615  \n",
       " [9,] 387.1936  217.01897    35.48571    2.579813   ⋯ 4382.6726    29.93921  \n",
       "[10,] 367.7229  214.06801    34.19077   15.655079   ⋯ 6206.3976    34.62427  \n",
       "[11,] 401.9198  183.80418    25.51524   17.561378   ⋯ 4183.7497    32.52472  \n",
       "[12,] 444.1412  148.32425    45.08116   11.288504   ⋯ 1055.5632    21.11282  \n",
       "[13,] 392.3406  170.26240    45.10151   17.906738   ⋯ 3228.9822    19.53240  \n",
       "[14,] 445.3054  101.05761    39.53420    9.634942   ⋯ 5007.8578    31.60419  \n",
       "[15,] 412.9637  174.98681    39.19887   25.612953   ⋯ 3840.7400    24.20796  \n",
       "[16,] 419.2068  166.07923    23.65614   24.169147   ⋯ 5024.2415    26.81744  \n",
       "[17,] 421.3140   94.23062    10.34273   23.610317   ⋯  809.9335    30.46289  \n",
       "[18,] 315.8019  225.59840    35.21347   11.443348   ⋯ 2027.5114    25.28710  \n",
       "[19,] 380.7399  249.24197    19.28808   15.498550   ⋯ 4609.6982    36.25732  \n",
       "[20,] 404.0666  146.13732    54.48957   -4.910523   ⋯ 4508.6125    24.40158  \n",
       "[21,] 356.6952  216.95659    30.62697   -4.317601   ⋯ 4746.4620    36.04509  \n",
       "[22,] 320.7150  222.09172    38.63632    8.299244   ⋯ 8325.6065    35.37461  \n",
       "[23,] 307.1653  228.89865    12.00457   12.097650   ⋯ 3354.8348    33.00491  \n",
       "[24,] 447.3162  133.19439    42.03034    5.986463   ⋯ 5782.7557    13.45903  \n",
       "[25,] 454.8732   84.14864    11.00396   16.959470   ⋯ 6891.3273    24.42408  \n",
       "[26,] 379.2648  178.67159    31.69914   29.283452   ⋯ 6005.4510    30.86181  \n",
       "[27,] 457.9566  197.36910    31.33665    6.748142   ⋯ 9574.4325    36.52522  \n",
       "[28,] 437.1857  115.62394    22.10731    3.576791   ⋯ 3959.4633    27.60197  \n",
       "[29,] 374.5608   75.05424    47.17301   16.232402   ⋯ 2316.3775    28.02146  \n",
       "[30,] 391.3847  215.24830    39.34542   16.774466   ⋯ 6382.9200    30.76977  \n",
       "[31,] ⋮         ⋮            ⋮          ⋮           ⋱ ⋮            ⋮         \n",
       "[32,] 384.8020   81.86088    37.169760  15.733670   ⋯   746.2595   26.77839  \n",
       "[33,] 412.3097  181.37202    29.047236   8.008007   ⋯  5075.3336   22.43076  \n",
       "[34,] 452.1813  185.58309    29.854377   8.165055   ⋯  3583.2883   23.37728  \n",
       "[35,] 367.5432  247.15434    39.784399  14.386848   ⋯  5283.4271   30.56431  \n",
       "[36,] 367.7653  159.47216    25.833675  14.274276   ⋯  4557.9856   31.01679  \n",
       "[37,] 372.7110  182.09742    48.851986   2.373560   ⋯  3737.2879   25.23991  \n",
       "[38,] 410.2972  129.08143    52.623312  15.276680   ⋯  6794.6468   14.83692  \n",
       "[39,] 409.1818  125.46652    29.208415  29.564495   ⋯  1809.0489   29.96440  \n",
       "[40,] 388.7798  114.81118     9.042539   8.684790   ⋯  5477.0646   36.70531  \n",
       "[41,] 408.9325  140.72572    33.337446  34.658550   ⋯  2676.7281   18.75527  \n",
       "[42,] 409.1677   91.63185    17.865056  15.536561   ⋯  1540.4811   47.65966  \n",
       "[43,] 473.9451  177.77814    48.564219   8.099552   ⋯ 10613.1655   26.32728  \n",
       "[44,] 376.2469  187.30776    39.197047  33.457744   ⋯  5629.4946   30.65741  \n",
       "[45,] 344.1314  167.03044    50.843349  17.152844   ⋯  7656.0776   27.00497  \n",
       "[46,] 518.7632  134.69250    35.079606  15.763706   ⋯  6566.5466   29.41179  \n",
       "[47,] 420.5313  185.75266    27.102636  -1.343440   ⋯  8576.1407   37.91559  \n",
       "[48,] 329.3569  163.45638    33.311569  44.440076   ⋯  2540.9110   18.74144  \n",
       "[49,] 406.7409  109.24793    25.887803  20.107768   ⋯  5007.6285   19.65435  \n",
       "[50,] 320.1679  118.74982    27.281122  31.841055   ⋯  4684.3042   44.10712  \n",
       "[51,] 429.3730  157.94992    41.247264   6.798444   ⋯  5386.7764   45.28497  \n",
       "[52,] 432.9593  126.98455    27.307981   4.238310   ⋯  2829.4524   30.18199  \n",
       "[53,] 460.6010  198.83867    32.771915  14.686715   ⋯  8505.3752   29.37112  \n",
       "[54,] 359.5118  147.06907    40.126605  24.146997   ⋯  3716.0598   37.32239  \n",
       "[55,] 392.7709  130.86108    35.682695  32.952865   ⋯  2655.4381   17.71512  \n",
       "[56,] 331.4560  208.79205    39.482394  32.398149   ⋯  5590.8673   27.72048  \n",
       "[57,] 504.1401  113.80317    21.315424   9.751189   ⋯  2740.0960   26.54208  \n",
       "[58,] 450.1676  224.18259    20.616476  22.443911   ⋯  8990.6180   38.00165  \n",
       "[59,] 349.1889  212.36539    17.511817  26.208884   ⋯  7243.5194   46.45877  \n",
       "[60,] 411.7210  159.48305    30.400716  13.870371   ⋯  4917.0720   30.11227  \n",
       "[61,] 427.7369  185.64741    17.647616   2.992032   ⋯  3797.3222   29.28837  \n",
       "      WoodDeckSF OpenPorchSF EnclosedPorch X3SsnPorch ScreenPorch PoolArea   \n",
       " [1,] 17.26573   -10.9965461  -6.0116630   -31.407097 53.41256     183.284067\n",
       " [2,] 29.40674    21.1480926   9.5429672    14.357612 21.03552       5.692391\n",
       " [3,] 34.84886    16.1020610  15.1646958   132.916135 92.47730       3.017761\n",
       " [4,] 27.57647    -0.9960887   1.5209379    26.272986 26.80787      40.373993\n",
       " [5,] 36.24129   -24.7706513  10.6778161   -16.454610 68.55349      48.451191\n",
       " [6,] 39.11925    -1.3730363  17.1396586   -36.060076 91.31836     186.570632\n",
       " [7,] 40.74173   -14.7774496  17.4110785    13.010882 87.48198      62.995843\n",
       " [8,] 24.12947   -10.1981998   8.6156846   -17.264801 42.12834     -78.204919\n",
       " [9,] 53.14875    44.8763940  40.6898584    61.149732 66.14740    -196.913660\n",
       "[10,] 32.01145     0.7556314  22.9414206    21.986210 72.40691      55.786011\n",
       "[11,] 35.11172    10.6105129  17.1783524    64.114977 52.78919    -100.542781\n",
       "[12,] 45.45795     3.5418184  15.0635630    63.769430 80.96211     -55.845042\n",
       "[13,] 31.15194    57.5591850   4.6004036   -29.403252 53.84064     -75.482860\n",
       "[14,] 32.93804   -33.1695108  12.8254570    21.765454 57.80571     -50.141178\n",
       "[15,] 36.76759   -41.3912233  29.0987793    68.925953 38.85657       3.133986\n",
       "[16,] 30.41603    -7.6650485  34.8076537    -9.771936 37.17853      46.446195\n",
       "[17,] 26.01632   -14.0075320   0.2802261    47.839598 47.20554      90.293684\n",
       "[18,] 33.87826     5.5359093  16.3051137     4.871073 65.63812     -78.835297\n",
       "[19,] 27.91810     4.6652102  12.2806397    -1.678098 51.72483     -57.636237\n",
       "[20,] 47.88171   -33.4597494   7.4438123    -6.665159 42.73288     -43.636386\n",
       "[21,] 39.11438    11.8841170   5.7082431    46.943592 70.18478     -75.755939\n",
       "[22,] 43.53241     5.7413322  14.4574887    29.417142 67.18843    -128.091992\n",
       "[23,] 11.23505     0.8702516 -31.5063656   -37.616406 29.87119      62.721746\n",
       "[24,] 31.32029     6.2546466   9.0094970    66.525602 62.24701     -54.692703\n",
       "[25,] 33.64564   -17.4785830   9.8807721    67.323391 63.20187      85.566495\n",
       "[26,] 10.12953   -20.1045221   6.5241425   -12.885314 51.98387     213.836655\n",
       "[27,] 45.18090   -12.1239895  40.1964517    44.304741 90.69925    -140.551681\n",
       "[28,] 32.32989    -3.4691374  14.9884245    94.621617 79.30500     -72.127926\n",
       "[29,] 42.64450    23.6612947  12.4167802   -22.475804 65.47074     -55.516177\n",
       "[30,] 29.94998   -12.7012862  16.6478107     4.078941 59.91487     -35.809414\n",
       "[31,] ⋮          ⋮           ⋮             ⋮          ⋮           ⋮          \n",
       "[32,] 36.62877    -9.9274858   0.8216947    32.615054  80.269881  -157.982920\n",
       "[33,] 29.90442    -4.5212957  26.4396522    37.742354  71.294742  -108.951107\n",
       "[34,] 35.62034     9.5935441   3.6091533    24.190504  83.792036  -321.422385\n",
       "[35,] 29.58588    30.8553029  60.5006070    22.672926 113.042013  -428.372156\n",
       "[36,] 31.49381   -19.3667796   5.8952886     2.297603  70.578685    18.167292\n",
       "[37,] 61.17665     2.3240408   4.3286752    94.965831  56.114686  -106.607033\n",
       "[38,] 37.13680    -3.5245444   1.5052680    13.956929  51.595828  -122.799798\n",
       "[39,] 17.11382    23.7867516  21.2665411   -10.414947  -1.729559   138.285887\n",
       "[40,] 54.51634    -2.5962015 -10.5580175   -27.931739  63.115807    46.763216\n",
       "[41,] 18.84752    36.2240147  13.3358054   -25.563440  33.359032   104.836890\n",
       "[42,] 32.50176   -35.2125147  12.2543832    -2.416045  76.003328    32.986304\n",
       "[43,] 48.04012   -21.2165495  48.7451151    28.194558 113.444079  -231.623636\n",
       "[44,] 24.40545   -24.0378420   3.0624874    78.531818  56.106452   -24.056929\n",
       "[45,] 30.53524    -2.6299343  -3.7497633    44.421257  22.999664   -55.884163\n",
       "[46,] 17.82577    -7.7296718  29.4219133    88.768312  55.257431  -215.403873\n",
       "[47,] 44.15475     2.4231195  35.4647151    47.659841  85.924209  -133.708732\n",
       "[48,] 30.09381     6.6307157  -0.7160096    64.323912  62.189143    83.151625\n",
       "[49,] 23.40373    -5.0210505  11.6790843    66.791041  53.240909   -96.071193\n",
       "[50,] 29.79915   -12.5869089  22.0276371    13.239705  95.164799    49.065393\n",
       "[51,] 38.14659   -18.5651113  26.2501807   -11.937672  71.139090   -94.016124\n",
       "[52,] 37.03547    -0.7266696  13.6117761    25.738843  50.958361   -76.057362\n",
       "[53,] 17.99894    27.2078344  35.2098257    33.855198 113.954417   -85.353411\n",
       "[54,] 21.21869    17.1255228  15.1122068    -2.856098  40.578769   130.709762\n",
       "[55,] 28.11850   -15.6019885 -20.3782987    -7.539480  35.309375    74.294725\n",
       "[56,] 22.68163   -18.7936960   8.3708907     6.104295  66.028741    -8.807861\n",
       "[57,] 29.13416    -9.4343578  13.1465386   -19.753966  43.678447     4.797924\n",
       "[58,] 33.10172    -8.9818313  50.5618934    32.251252  47.987953    -2.803049\n",
       "[59,] 22.97107   -42.6030356  18.7276492    57.772175  91.547308   148.401588\n",
       "[60,] 30.79312    26.6258638   8.7024249    74.182983  81.878074    -1.990929\n",
       "[61,] 36.50361   -24.3606044   9.8096700   -12.331487  59.419329    12.090328\n",
       "      MoSold      YrSold     \n",
       " [1,]  221.93120   -255.74699\n",
       " [2,]   20.76370   -510.81498\n",
       " [3,]  -36.42182   -962.51409\n",
       " [4,]  227.16756  -1320.97480\n",
       " [5,] -924.61020  -1058.45644\n",
       " [6,] -698.38055  -1318.00373\n",
       " [7,]  -89.47733     56.42096\n",
       " [8,]   83.68044    -21.31053\n",
       " [9,]  589.08070    -78.48413\n",
       "[10,]  285.22282   1014.46593\n",
       "[11,]   27.53423   -735.89614\n",
       "[12,] -522.00967  -1501.06481\n",
       "[13,] -486.37136  -1771.27005\n",
       "[14,]  379.21727   -527.80404\n",
       "[15,] -657.51908  -1120.66571\n",
       "[16,]  174.86207   -481.03119\n",
       "[17,] -294.28913    -91.35652\n",
       "[18,]  471.28063  -1734.79807\n",
       "[19,]  148.20070   -431.34749\n",
       "[20,]  -98.95757   -626.96108\n",
       "[21,]  437.75643   -435.65639\n",
       "[22,] -117.51896    613.35490\n",
       "[23,]  295.40575   -170.77888\n",
       "[24,]  924.45493   -722.28445\n",
       "[25,]  648.56307   -138.35837\n",
       "[26,] -611.64591     17.84486\n",
       "[27,]  265.23413   -318.46978\n",
       "[28,]  510.66820    153.90697\n",
       "[29,]  -52.39483   -713.55577\n",
       "[30,] -504.65587  -1138.61074\n",
       "[31,] ⋮           ⋮          \n",
       "[32,]  -154.66997 -1237.84055\n",
       "[33,]  -638.18935  -406.70029\n",
       "[34,]   423.59494  -975.71514\n",
       "[35,]    44.34083 -1758.78619\n",
       "[36,]  -283.98889 -1151.26306\n",
       "[37,]   210.43105  -751.09050\n",
       "[38,]    46.91858 -1089.32516\n",
       "[39,]    43.93318  -897.96327\n",
       "[40,]   436.62029   606.23372\n",
       "[41,]   -58.73149   -81.87387\n",
       "[42,]  -909.73858 -1167.68616\n",
       "[43,]  -171.76986  -210.13906\n",
       "[44,]  -359.97663   552.78263\n",
       "[45,]   -25.65726  -918.09838\n",
       "[46,]    78.65441  -831.66496\n",
       "[47,]  -214.11415 -2243.09546\n",
       "[48,]  -184.22537   229.53821\n",
       "[49,]   -64.38749  -901.98665\n",
       "[50,]  -325.98305  -308.69272\n",
       "[51,]  -575.88887 -1170.92782\n",
       "[52,]   848.05746 -1131.88717\n",
       "[53,]    30.52687  -204.64087\n",
       "[54,]   -49.03638 -1114.09383\n",
       "[55,]  -819.83098  -727.72208\n",
       "[56,]    14.16477  -758.96649\n",
       "[57,]   488.23550 -1265.93740\n",
       "[58,]   -20.79217 -1006.14429\n",
       "[59,] -1021.02363  -246.79170\n",
       "[60,]   342.95771 -1127.33956\n",
       "[61,]   240.34202  -238.85217"
      ]
     },
     "metadata": {},
     "output_type": "display_data"
    }
   ],
   "source": [
    "results$t"
   ]
  },
  {
   "cell_type": "code",
   "execution_count": 45,
   "metadata": {
    "collapsed": true
   },
   "outputs": [],
   "source": [
    "colnames(results$t) <- names(results$t0)"
   ]
  },
  {
   "cell_type": "markdown",
   "metadata": {},
   "source": [
    "* Bootstrap Estimates of Regression Coefficient"
   ]
  },
  {
   "cell_type": "code",
   "execution_count": 21,
   "metadata": {},
   "outputs": [
    {
     "data": {
      "text/html": [
       "-134.495228765752"
      ],
      "text/latex": [
       "-134.495228765752"
      ],
      "text/markdown": [
       "-134.495228765752"
      ],
      "text/plain": [
       "[1] -134.4952"
      ]
     },
     "metadata": {},
     "output_type": "display_data"
    }
   ],
   "source": [
    "coef_MSSubClass <- mean(results$t[, \"MSSubClass\"])\n",
    "coef_MSSubClass"
   ]
  },
  {
   "cell_type": "code",
   "execution_count": 22,
   "metadata": {},
   "outputs": [
    {
     "data": {
      "text/html": [
       "17.8541560728866"
      ],
      "text/latex": [
       "17.8541560728866"
      ],
      "text/markdown": [
       "17.8541560728866"
      ],
      "text/plain": [
       "[1] 17.85416"
      ]
     },
     "metadata": {},
     "output_type": "display_data"
    }
   ],
   "source": [
    "coef_TotalBsmtSF <- mean(results$t[, \"TotalBsmtSF\"])\n",
    "coef_TotalBsmtSF"
   ]
  },
  {
   "cell_type": "code",
   "execution_count": 23,
   "metadata": {},
   "outputs": [
    {
     "data": {
      "text/html": [
       "23.4898373324031"
      ],
      "text/latex": [
       "23.4898373324031"
      ],
      "text/markdown": [
       "23.4898373324031"
      ],
      "text/plain": [
       "[1] 23.48984"
      ]
     },
     "metadata": {},
     "output_type": "display_data"
    }
   ],
   "source": [
    "coef_GrLivArea <- mean(results$t[, \"GrLivArea\"])\n",
    "coef_GrLivArea"
   ]
  },
  {
   "cell_type": "code",
   "execution_count": 24,
   "metadata": {
    "scrolled": true
   },
   "outputs": [
    {
     "data": {
      "text/html": [
       "-26.8871055510965"
      ],
      "text/latex": [
       "-26.8871055510965"
      ],
      "text/markdown": [
       "-26.8871055510965"
      ],
      "text/plain": [
       "[1] -26.88711"
      ]
     },
     "metadata": {},
     "output_type": "display_data"
    }
   ],
   "source": [
    "coef_PoolArea <- mean(results$t[, \"PoolArea\"], na.rm=TRUE)\n",
    "coef_PoolArea"
   ]
  },
  {
   "cell_type": "code",
   "execution_count": 25,
   "metadata": {},
   "outputs": [
    {
     "data": {
      "text/html": [
       "-530.663715526365"
      ],
      "text/latex": [
       "-530.663715526365"
      ],
      "text/markdown": [
       "-530.663715526365"
      ],
      "text/plain": [
       "[1] -530.6637"
      ]
     },
     "metadata": {},
     "output_type": "display_data"
    }
   ],
   "source": [
    "coef_YrSold <- mean(results$t[, \"YrSold\"], na.rm=TRUE)\n",
    "coef_YrSold"
   ]
  },
  {
   "cell_type": "markdown",
   "metadata": {},
   "source": [
    "* Booststrap Estimates of Standard Errors"
   ]
  },
  {
   "cell_type": "code",
   "execution_count": 48,
   "metadata": {},
   "outputs": [
    {
     "data": {
      "text/html": [
       "48.7251190789028"
      ],
      "text/latex": [
       "48.7251190789028"
      ],
      "text/markdown": [
       "48.7251190789028"
      ],
      "text/plain": [
       "[1] 48.72512"
      ]
     },
     "metadata": {},
     "output_type": "display_data"
    }
   ],
   "source": [
    "se_MSSubClass <- sd(results$t[, \"MSSubClass\"])\n",
    "se_MSSubClass"
   ]
  },
  {
   "cell_type": "code",
   "execution_count": 49,
   "metadata": {},
   "outputs": [
    {
     "data": {
      "text/html": [
       "11.6066756492723"
      ],
      "text/latex": [
       "11.6066756492723"
      ],
      "text/markdown": [
       "11.6066756492723"
      ],
      "text/plain": [
       "[1] 11.60668"
      ]
     },
     "metadata": {},
     "output_type": "display_data"
    }
   ],
   "source": [
    "se_TotalBsmtSF <- sd(results$t[, \"TotalBsmtSF\"])\n",
    "se_TotalBsmtSF"
   ]
  },
  {
   "cell_type": "code",
   "execution_count": 50,
   "metadata": {},
   "outputs": [
    {
     "data": {
      "text/html": [
       "24.1187034833377"
      ],
      "text/latex": [
       "24.1187034833377"
      ],
      "text/markdown": [
       "24.1187034833377"
      ],
      "text/plain": [
       "[1] 24.1187"
      ]
     },
     "metadata": {},
     "output_type": "display_data"
    }
   ],
   "source": [
    "se_GrLivArea <- sd(results$t[, \"GrLivArea\"])\n",
    "se_GrLivArea"
   ]
  },
  {
   "cell_type": "code",
   "execution_count": 29,
   "metadata": {},
   "outputs": [
    {
     "data": {
      "text/html": [
       "144.195468580773"
      ],
      "text/latex": [
       "144.195468580773"
      ],
      "text/markdown": [
       "144.195468580773"
      ],
      "text/plain": [
       "[1] 144.1955"
      ]
     },
     "metadata": {},
     "output_type": "display_data"
    }
   ],
   "source": [
    "se_PoolArea <- sd(results$t[, \"PoolArea\"], na.rm=TRUE)\n",
    "se_PoolArea"
   ]
  },
  {
   "cell_type": "code",
   "execution_count": 30,
   "metadata": {},
   "outputs": [
    {
     "data": {
      "text/html": [
       "656.674100262244"
      ],
      "text/latex": [
       "656.674100262244"
      ],
      "text/markdown": [
       "656.674100262244"
      ],
      "text/plain": [
       "[1] 656.6741"
      ]
     },
     "metadata": {},
     "output_type": "display_data"
    }
   ],
   "source": [
    "se_YrSold <- sd(results$t[, \"YrSold\"], na.rm=TRUE)\n",
    "se_YrSold"
   ]
  },
  {
   "cell_type": "markdown",
   "metadata": {},
   "source": [
    "* Bootstrap Estimates of Bias"
   ]
  },
  {
   "cell_type": "code",
   "execution_count": 31,
   "metadata": {},
   "outputs": [
    {
     "data": {
      "text/html": [
       "<strong>MSSubClass:</strong> -13.2421511382191"
      ],
      "text/latex": [
       "\\textbf{MSSubClass:} -13.2421511382191"
      ],
      "text/markdown": [
       "**MSSubClass:** -13.2421511382191"
      ],
      "text/plain": [
       "MSSubClass \n",
       " -13.24215 "
      ]
     },
     "metadata": {},
     "output_type": "display_data"
    }
   ],
   "source": [
    "bias_MSSubClass <- results$t0[\"MSSubClass\"] - coef_MSSubClass\n",
    "bias_MSSubClass"
   ]
  },
  {
   "cell_type": "code",
   "execution_count": 32,
   "metadata": {},
   "outputs": [
    {
     "data": {
      "text/html": [
       "<strong>TotalBsmtSF:</strong> -3.25084139300478"
      ],
      "text/latex": [
       "\\textbf{TotalBsmtSF:} -3.25084139300478"
      ],
      "text/markdown": [
       "**TotalBsmtSF:** -3.25084139300478"
      ],
      "text/plain": [
       "TotalBsmtSF \n",
       "  -3.250841 "
      ]
     },
     "metadata": {},
     "output_type": "display_data"
    }
   ],
   "source": [
    "bias_TotalBsmtSF <- results$t0[\"TotalBsmtSF\"] - coef_TotalBsmtSF\n",
    "bias_TotalBsmtSF"
   ]
  },
  {
   "cell_type": "code",
   "execution_count": 33,
   "metadata": {},
   "outputs": [
    {
     "data": {
      "text/html": [
       "<strong>GrLivArea:</strong> 1.04416428896833"
      ],
      "text/latex": [
       "\\textbf{GrLivArea:} 1.04416428896833"
      ],
      "text/markdown": [
       "**GrLivArea:** 1.04416428896833"
      ],
      "text/plain": [
       "GrLivArea \n",
       " 1.044164 "
      ]
     },
     "metadata": {},
     "output_type": "display_data"
    }
   ],
   "source": [
    "bias_GrLivArea <- results$t0[\"GrLivArea\"] - coef_GrLivArea\n",
    "bias_GrLivArea"
   ]
  },
  {
   "cell_type": "code",
   "execution_count": 34,
   "metadata": {},
   "outputs": [
    {
     "data": {
      "text/html": [
       "<strong>PoolArea:</strong> 0.380641041593673"
      ],
      "text/latex": [
       "\\textbf{PoolArea:} 0.380641041593673"
      ],
      "text/markdown": [
       "**PoolArea:** 0.380641041593673"
      ],
      "text/plain": [
       "PoolArea \n",
       "0.380641 "
      ]
     },
     "metadata": {},
     "output_type": "display_data"
    }
   ],
   "source": [
    "bias_PoolArea <- results$t0[\"PoolArea\"] - coef_PoolArea\n",
    "bias_PoolArea"
   ]
  },
  {
   "cell_type": "code",
   "execution_count": 35,
   "metadata": {},
   "outputs": [
    {
     "data": {
      "text/html": [
       "<strong>YrSold:</strong> -50.1239898746593"
      ],
      "text/latex": [
       "\\textbf{YrSold:} -50.1239898746593"
      ],
      "text/markdown": [
       "**YrSold:** -50.1239898746593"
      ],
      "text/plain": [
       "   YrSold \n",
       "-50.12399 "
      ]
     },
     "metadata": {},
     "output_type": "display_data"
    }
   ],
   "source": [
    "bias_YrSold <- results$t0[\"YrSold\"] - coef_YrSold\n",
    "bias_YrSold"
   ]
  },
  {
   "cell_type": "markdown",
   "metadata": {},
   "source": [
    "### Hypothesis Testing with Bootstrap"
   ]
  },
  {
   "cell_type": "code",
   "execution_count": 28,
   "metadata": {
    "collapsed": true
   },
   "outputs": [],
   "source": [
    "library(ggplot2)"
   ]
  },
  {
   "cell_type": "markdown",
   "metadata": {},
   "source": [
    "CI 95%"
   ]
  },
  {
   "cell_type": "code",
   "execution_count": 51,
   "metadata": {},
   "outputs": [
    {
     "data": {
      "text/html": [
       "<dl class=dl-horizontal>\n",
       "\t<dt>5%</dt>\n",
       "\t\t<dd>-217.652200671661</dd>\n",
       "\t<dt>95%</dt>\n",
       "\t\t<dd>-62.086744204618</dd>\n",
       "</dl>\n"
      ],
      "text/latex": [
       "\\begin{description*}\n",
       "\\item[5\\textbackslash{}\\%] -217.652200671661\n",
       "\\item[95\\textbackslash{}\\%] -62.086744204618\n",
       "\\end{description*}\n"
      ],
      "text/markdown": [
       "5%\n",
       ":   -217.65220067166195%\n",
       ":   -62.086744204618\n",
       "\n"
      ],
      "text/plain": [
       "        5%        95% \n",
       "-217.65220  -62.08674 "
      ]
     },
     "metadata": {},
     "output_type": "display_data"
    }
   ],
   "source": [
    "quantile(results$t[, \"MSSubClass\"], probs = c(0.05, 0.95))"
   ]
  },
  {
   "cell_type": "code",
   "execution_count": 64,
   "metadata": {},
   "outputs": [
    {
     "data": {
      "text/html": [
       "<dl class=dl-horizontal>\n",
       "\t<dt>5%</dt>\n",
       "\t\t<dd>-1.05789828207401</dd>\n",
       "\t<dt>95%</dt>\n",
       "\t\t<dd>35.3636990960398</dd>\n",
       "</dl>\n"
      ],
      "text/latex": [
       "\\begin{description*}\n",
       "\\item[5\\textbackslash{}\\%] -1.05789828207401\n",
       "\\item[95\\textbackslash{}\\%] 35.3636990960398\n",
       "\\end{description*}\n"
      ],
      "text/markdown": [
       "5%\n",
       ":   -1.0578982820740195%\n",
       ":   35.3636990960398\n",
       "\n"
      ],
      "text/plain": [
       "       5%       95% \n",
       "-1.057898 35.363699 "
      ]
     },
     "metadata": {},
     "output_type": "display_data"
    }
   ],
   "source": [
    "quantile(results$t[, \"TotalBsmtSF\"], probs = c(0.05, 0.95))"
   ]
  },
  {
   "cell_type": "code",
   "execution_count": 55,
   "metadata": {},
   "outputs": [],
   "source": [
    "boot_ci <- boot.ci(results, type=\"perc\", conf=0.95, index = 10)"
   ]
  },
  {
   "cell_type": "code",
   "execution_count": 73,
   "metadata": {},
   "outputs": [
    {
     "data": {
      "text/plain": [
       "BOOTSTRAP CONFIDENCE INTERVAL CALCULATIONS\n",
       "Based on 10000 bootstrap replicates\n",
       "\n",
       "CALL : \n",
       "boot.ci(boot.out = results, conf = 0.95, type = \"perc\", index = 10)\n",
       "\n",
       "Intervals : \n",
       "Level     Percentile     \n",
       "95%   (-4.32, 37.33 )  \n",
       "Calculations and Intervals on Original Scale"
      ]
     },
     "metadata": {},
     "output_type": "display_data"
    }
   ],
   "source": [
    "boot_ci"
   ]
  },
  {
   "cell_type": "code",
   "execution_count": 61,
   "metadata": {
    "collapsed": true
   },
   "outputs": [],
   "source": [
    "?boot.ci"
   ]
  },
  {
   "cell_type": "markdown",
   "metadata": {},
   "source": [
    "### Cross Validation"
   ]
  },
  {
   "cell_type": "code",
   "execution_count": 74,
   "metadata": {
    "collapsed": true
   },
   "outputs": [],
   "source": [
    "?cv.glm"
   ]
  },
  {
   "cell_type": "code",
   "execution_count": 75,
   "metadata": {},
   "outputs": [
    {
     "data": {
      "text/html": [
       "1394595882.65097"
      ],
      "text/latex": [
       "1394595882.65097"
      ],
      "text/markdown": [
       "1394595882.65097"
      ],
      "text/plain": [
       "[1] 1394595883"
      ]
     },
     "metadata": {},
     "output_type": "display_data"
    }
   ],
   "source": [
    "housing.glm <- glm(SalePrice ~ ., data = data_housing)\n",
    "(cv.err <- cv.glm(data_housing, housing.glm, K = 10)$delta[1])"
   ]
  },
  {
   "cell_type": "code",
   "execution_count": 76,
   "metadata": {
    "collapsed": true
   },
   "outputs": [],
   "source": [
    "?glm"
   ]
  },
  {
   "cell_type": "markdown",
   "metadata": {},
   "source": [
    "### Variable Selection"
   ]
  },
  {
   "cell_type": "code",
   "execution_count": 77,
   "metadata": {
    "collapsed": true
   },
   "outputs": [],
   "source": [
    "library(leaps)"
   ]
  },
  {
   "cell_type": "markdown",
   "metadata": {},
   "source": [
    "* Best Subset"
   ]
  },
  {
   "cell_type": "code",
   "execution_count": 96,
   "metadata": {
    "collapsed": true
   },
   "outputs": [],
   "source": [
    "help(regsubsets)"
   ]
  },
  {
   "cell_type": "code",
   "execution_count": 79,
   "metadata": {
    "collapsed": true
   },
   "outputs": [],
   "source": [
    "regfit.full = regsubsets(SalePrice ~ ., data = data_housing, nvmax =25)\n",
    "regfit.summary <- summary(regfit.full)"
   ]
  },
  {
   "cell_type": "code",
   "execution_count": 80,
   "metadata": {
    "scrolled": true
   },
   "outputs": [
    {
     "data": {
      "text/html": [
       "<table>\n",
       "<tbody>\n",
       "\t<tr><td> 1       </td><td>0.6256519</td></tr>\n",
       "\t<tr><td> 2       </td><td>0.7141732</td></tr>\n",
       "\t<tr><td> 3       </td><td>0.7420670</td></tr>\n",
       "\t<tr><td> 4       </td><td>0.7578568</td></tr>\n",
       "\t<tr><td> 5       </td><td>0.7668618</td></tr>\n",
       "\t<tr><td> 6       </td><td>0.7742486</td></tr>\n",
       "\t<tr><td> 7       </td><td>0.7805154</td></tr>\n",
       "\t<tr><td> 8       </td><td>0.7858391</td></tr>\n",
       "\t<tr><td> 9       </td><td>0.7903055</td></tr>\n",
       "\t<tr><td>10       </td><td>0.7942472</td></tr>\n",
       "\t<tr><td>11       </td><td>0.7963112</td></tr>\n",
       "\t<tr><td>12       </td><td>0.7981000</td></tr>\n",
       "\t<tr><td>13       </td><td>0.7998721</td></tr>\n",
       "\t<tr><td>14       </td><td>0.8007283</td></tr>\n",
       "\t<tr><td>15       </td><td>0.8014689</td></tr>\n",
       "\t<tr><td>16       </td><td>0.8017113</td></tr>\n",
       "\t<tr><td>17       </td><td>0.8018767</td></tr>\n",
       "\t<tr><td>18       </td><td>0.8020609</td></tr>\n",
       "\t<tr><td>19       </td><td>0.8021641</td></tr>\n",
       "\t<tr><td>20       </td><td>0.8022594</td></tr>\n",
       "\t<tr><td>21       </td><td>0.8023455</td></tr>\n",
       "\t<tr><td>22       </td><td>0.8024073</td></tr>\n",
       "\t<tr><td>23       </td><td>0.8024152</td></tr>\n",
       "\t<tr><td>24       </td><td>0.8024155</td></tr>\n",
       "</tbody>\n",
       "</table>\n"
      ],
      "text/latex": [
       "\\begin{tabular}{ll}\n",
       "\t  1        & 0.6256519\\\\\n",
       "\t  2        & 0.7141732\\\\\n",
       "\t  3        & 0.7420670\\\\\n",
       "\t  4        & 0.7578568\\\\\n",
       "\t  5        & 0.7668618\\\\\n",
       "\t  6        & 0.7742486\\\\\n",
       "\t  7        & 0.7805154\\\\\n",
       "\t  8        & 0.7858391\\\\\n",
       "\t  9        & 0.7903055\\\\\n",
       "\t 10        & 0.7942472\\\\\n",
       "\t 11        & 0.7963112\\\\\n",
       "\t 12        & 0.7981000\\\\\n",
       "\t 13        & 0.7998721\\\\\n",
       "\t 14        & 0.8007283\\\\\n",
       "\t 15        & 0.8014689\\\\\n",
       "\t 16        & 0.8017113\\\\\n",
       "\t 17        & 0.8018767\\\\\n",
       "\t 18        & 0.8020609\\\\\n",
       "\t 19        & 0.8021641\\\\\n",
       "\t 20        & 0.8022594\\\\\n",
       "\t 21        & 0.8023455\\\\\n",
       "\t 22        & 0.8024073\\\\\n",
       "\t 23        & 0.8024152\\\\\n",
       "\t 24        & 0.8024155\\\\\n",
       "\\end{tabular}\n"
      ],
      "text/markdown": [
       "\n",
       "|  1        | 0.6256519 | \n",
       "|  2        | 0.7141732 | \n",
       "|  3        | 0.7420670 | \n",
       "|  4        | 0.7578568 | \n",
       "|  5        | 0.7668618 | \n",
       "|  6        | 0.7742486 | \n",
       "|  7        | 0.7805154 | \n",
       "|  8        | 0.7858391 | \n",
       "|  9        | 0.7903055 | \n",
       "| 10        | 0.7942472 | \n",
       "| 11        | 0.7963112 | \n",
       "| 12        | 0.7981000 | \n",
       "| 13        | 0.7998721 | \n",
       "| 14        | 0.8007283 | \n",
       "| 15        | 0.8014689 | \n",
       "| 16        | 0.8017113 | \n",
       "| 17        | 0.8018767 | \n",
       "| 18        | 0.8020609 | \n",
       "| 19        | 0.8021641 | \n",
       "| 20        | 0.8022594 | \n",
       "| 21        | 0.8023455 | \n",
       "| 22        | 0.8024073 | \n",
       "| 23        | 0.8024152 | \n",
       "| 24        | 0.8024155 | \n",
       "\n",
       "\n"
      ],
      "text/plain": [
       "      [,1] [,2]     \n",
       " [1,]  1   0.6256519\n",
       " [2,]  2   0.7141732\n",
       " [3,]  3   0.7420670\n",
       " [4,]  4   0.7578568\n",
       " [5,]  5   0.7668618\n",
       " [6,]  6   0.7742486\n",
       " [7,]  7   0.7805154\n",
       " [8,]  8   0.7858391\n",
       " [9,]  9   0.7903055\n",
       "[10,] 10   0.7942472\n",
       "[11,] 11   0.7963112\n",
       "[12,] 12   0.7981000\n",
       "[13,] 13   0.7998721\n",
       "[14,] 14   0.8007283\n",
       "[15,] 15   0.8014689\n",
       "[16,] 16   0.8017113\n",
       "[17,] 17   0.8018767\n",
       "[18,] 18   0.8020609\n",
       "[19,] 19   0.8021641\n",
       "[20,] 20   0.8022594\n",
       "[21,] 21   0.8023455\n",
       "[22,] 22   0.8024073\n",
       "[23,] 23   0.8024152\n",
       "[24,] 24   0.8024155"
      ]
     },
     "metadata": {},
     "output_type": "display_data"
    }
   ],
   "source": [
    "cbind(seq(1:24), regfit.summary$rsq)"
   ]
  },
  {
   "cell_type": "code",
   "execution_count": 81,
   "metadata": {
    "scrolled": true
   },
   "outputs": [
    {
     "data": {
      "text/html": [
       "<table>\n",
       "<tbody>\n",
       "\t<tr><td> 1       </td><td>0.6253951</td></tr>\n",
       "\t<tr><td> 2       </td><td>0.7137809</td></tr>\n",
       "\t<tr><td> 3       </td><td>0.7415355</td></tr>\n",
       "\t<tr><td> 4       </td><td>0.7571912</td></tr>\n",
       "\t<tr><td> 5       </td><td>0.7660601</td></tr>\n",
       "\t<tr><td> 6       </td><td>0.7733164</td></tr>\n",
       "\t<tr><td> 7       </td><td>0.7794573</td></tr>\n",
       "\t<tr><td> 8       </td><td>0.7846584</td></tr>\n",
       "\t<tr><td> 9       </td><td>0.7890039</td></tr>\n",
       "\t<tr><td>10       </td><td>0.7928272</td></tr>\n",
       "\t<tr><td>11       </td><td>0.7947639</td></tr>\n",
       "\t<tr><td>12       </td><td>0.7964256</td></tr>\n",
       "\t<tr><td>13       </td><td>0.7980729</td></tr>\n",
       "\t<tr><td>14       </td><td>0.7987977</td></tr>\n",
       "\t<tr><td>15       </td><td>0.7994065</td></tr>\n",
       "\t<tr><td>16       </td><td>0.7995127</td></tr>\n",
       "\t<tr><td>17       </td><td>0.7995410</td></tr>\n",
       "\t<tr><td>18       </td><td>0.7995884</td></tr>\n",
       "\t<tr><td>19       </td><td>0.7995538</td></tr>\n",
       "\t<tr><td>20       </td><td>0.7995111</td></tr>\n",
       "\t<tr><td>21       </td><td>0.7994590</td></tr>\n",
       "\t<tr><td>22       </td><td>0.7993823</td></tr>\n",
       "\t<tr><td>23       </td><td>0.7992506</td></tr>\n",
       "\t<tr><td>24       </td><td>0.7991109</td></tr>\n",
       "</tbody>\n",
       "</table>\n"
      ],
      "text/latex": [
       "\\begin{tabular}{ll}\n",
       "\t  1        & 0.6253951\\\\\n",
       "\t  2        & 0.7137809\\\\\n",
       "\t  3        & 0.7415355\\\\\n",
       "\t  4        & 0.7571912\\\\\n",
       "\t  5        & 0.7660601\\\\\n",
       "\t  6        & 0.7733164\\\\\n",
       "\t  7        & 0.7794573\\\\\n",
       "\t  8        & 0.7846584\\\\\n",
       "\t  9        & 0.7890039\\\\\n",
       "\t 10        & 0.7928272\\\\\n",
       "\t 11        & 0.7947639\\\\\n",
       "\t 12        & 0.7964256\\\\\n",
       "\t 13        & 0.7980729\\\\\n",
       "\t 14        & 0.7987977\\\\\n",
       "\t 15        & 0.7994065\\\\\n",
       "\t 16        & 0.7995127\\\\\n",
       "\t 17        & 0.7995410\\\\\n",
       "\t 18        & 0.7995884\\\\\n",
       "\t 19        & 0.7995538\\\\\n",
       "\t 20        & 0.7995111\\\\\n",
       "\t 21        & 0.7994590\\\\\n",
       "\t 22        & 0.7993823\\\\\n",
       "\t 23        & 0.7992506\\\\\n",
       "\t 24        & 0.7991109\\\\\n",
       "\\end{tabular}\n"
      ],
      "text/markdown": [
       "\n",
       "|  1        | 0.6253951 | \n",
       "|  2        | 0.7137809 | \n",
       "|  3        | 0.7415355 | \n",
       "|  4        | 0.7571912 | \n",
       "|  5        | 0.7660601 | \n",
       "|  6        | 0.7733164 | \n",
       "|  7        | 0.7794573 | \n",
       "|  8        | 0.7846584 | \n",
       "|  9        | 0.7890039 | \n",
       "| 10        | 0.7928272 | \n",
       "| 11        | 0.7947639 | \n",
       "| 12        | 0.7964256 | \n",
       "| 13        | 0.7980729 | \n",
       "| 14        | 0.7987977 | \n",
       "| 15        | 0.7994065 | \n",
       "| 16        | 0.7995127 | \n",
       "| 17        | 0.7995410 | \n",
       "| 18        | 0.7995884 | \n",
       "| 19        | 0.7995538 | \n",
       "| 20        | 0.7995111 | \n",
       "| 21        | 0.7994590 | \n",
       "| 22        | 0.7993823 | \n",
       "| 23        | 0.7992506 | \n",
       "| 24        | 0.7991109 | \n",
       "\n",
       "\n"
      ],
      "text/plain": [
       "      [,1] [,2]     \n",
       " [1,]  1   0.6253951\n",
       " [2,]  2   0.7137809\n",
       " [3,]  3   0.7415355\n",
       " [4,]  4   0.7571912\n",
       " [5,]  5   0.7660601\n",
       " [6,]  6   0.7733164\n",
       " [7,]  7   0.7794573\n",
       " [8,]  8   0.7846584\n",
       " [9,]  9   0.7890039\n",
       "[10,] 10   0.7928272\n",
       "[11,] 11   0.7947639\n",
       "[12,] 12   0.7964256\n",
       "[13,] 13   0.7980729\n",
       "[14,] 14   0.7987977\n",
       "[15,] 15   0.7994065\n",
       "[16,] 16   0.7995127\n",
       "[17,] 17   0.7995410\n",
       "[18,] 18   0.7995884\n",
       "[19,] 19   0.7995538\n",
       "[20,] 20   0.7995111\n",
       "[21,] 21   0.7994590\n",
       "[22,] 22   0.7993823\n",
       "[23,] 23   0.7992506\n",
       "[24,] 24   0.7991109"
      ]
     },
     "metadata": {},
     "output_type": "display_data"
    }
   ],
   "source": [
    "cbind(seq(1:24), regfit.summary$adjr2)"
   ]
  },
  {
   "cell_type": "code",
   "execution_count": 82,
   "metadata": {
    "scrolled": true
   },
   "outputs": [
    {
     "data": {
      "text/html": [
       "<table>\n",
       "<tbody>\n",
       "\t<tr><td> 1        </td><td>1262.78369</td></tr>\n",
       "\t<tr><td> 2        </td><td> 621.87848</td></tr>\n",
       "\t<tr><td> 3        </td><td> 421.29418</td></tr>\n",
       "\t<tr><td> 4        </td><td> 308.61684</td></tr>\n",
       "\t<tr><td> 5        </td><td> 245.21618</td></tr>\n",
       "\t<tr><td> 6        </td><td> 193.56810</td></tr>\n",
       "\t<tr><td> 7        </td><td> 150.05418</td></tr>\n",
       "\t<tr><td> 8        </td><td> 113.38952</td></tr>\n",
       "\t<tr><td> 9        </td><td>  82.95174</td></tr>\n",
       "\t<tr><td>10        </td><td>  56.32414</td></tr>\n",
       "\t<tr><td>11        </td><td>  43.33362</td></tr>\n",
       "\t<tr><td>12        </td><td>  32.34231</td></tr>\n",
       "\t<tr><td>13        </td><td>  21.47171</td></tr>\n",
       "\t<tr><td>14        </td><td>  17.25329</td></tr>\n",
       "\t<tr><td>15        </td><td>  13.87520</td></tr>\n",
       "\t<tr><td>16        </td><td>  14.11418</td></tr>\n",
       "\t<tr><td>17        </td><td>  14.91297</td></tr>\n",
       "\t<tr><td>18        </td><td>  15.57534</td></tr>\n",
       "\t<tr><td>19        </td><td>  16.82574</td></tr>\n",
       "\t<tr><td>20        </td><td>  18.13372</td></tr>\n",
       "\t<tr><td>21        </td><td>  19.50822</td></tr>\n",
       "\t<tr><td>22        </td><td>  21.05928</td></tr>\n",
       "\t<tr><td>23        </td><td>  23.00204</td></tr>\n",
       "\t<tr><td>24        </td><td>  25.00000</td></tr>\n",
       "</tbody>\n",
       "</table>\n"
      ],
      "text/latex": [
       "\\begin{tabular}{ll}\n",
       "\t  1         & 1262.78369\\\\\n",
       "\t  2         &  621.87848\\\\\n",
       "\t  3         &  421.29418\\\\\n",
       "\t  4         &  308.61684\\\\\n",
       "\t  5         &  245.21618\\\\\n",
       "\t  6         &  193.56810\\\\\n",
       "\t  7         &  150.05418\\\\\n",
       "\t  8         &  113.38952\\\\\n",
       "\t  9         &   82.95174\\\\\n",
       "\t 10         &   56.32414\\\\\n",
       "\t 11         &   43.33362\\\\\n",
       "\t 12         &   32.34231\\\\\n",
       "\t 13         &   21.47171\\\\\n",
       "\t 14         &   17.25329\\\\\n",
       "\t 15         &   13.87520\\\\\n",
       "\t 16         &   14.11418\\\\\n",
       "\t 17         &   14.91297\\\\\n",
       "\t 18         &   15.57534\\\\\n",
       "\t 19         &   16.82574\\\\\n",
       "\t 20         &   18.13372\\\\\n",
       "\t 21         &   19.50822\\\\\n",
       "\t 22         &   21.05928\\\\\n",
       "\t 23         &   23.00204\\\\\n",
       "\t 24         &   25.00000\\\\\n",
       "\\end{tabular}\n"
      ],
      "text/markdown": [
       "\n",
       "|  1         | 1262.78369 | \n",
       "|  2         |  621.87848 | \n",
       "|  3         |  421.29418 | \n",
       "|  4         |  308.61684 | \n",
       "|  5         |  245.21618 | \n",
       "|  6         |  193.56810 | \n",
       "|  7         |  150.05418 | \n",
       "|  8         |  113.38952 | \n",
       "|  9         |   82.95174 | \n",
       "| 10         |   56.32414 | \n",
       "| 11         |   43.33362 | \n",
       "| 12         |   32.34231 | \n",
       "| 13         |   21.47171 | \n",
       "| 14         |   17.25329 | \n",
       "| 15         |   13.87520 | \n",
       "| 16         |   14.11418 | \n",
       "| 17         |   14.91297 | \n",
       "| 18         |   15.57534 | \n",
       "| 19         |   16.82574 | \n",
       "| 20         |   18.13372 | \n",
       "| 21         |   19.50822 | \n",
       "| 22         |   21.05928 | \n",
       "| 23         |   23.00204 | \n",
       "| 24         |   25.00000 | \n",
       "\n",
       "\n"
      ],
      "text/plain": [
       "      [,1] [,2]      \n",
       " [1,]  1   1262.78369\n",
       " [2,]  2    621.87848\n",
       " [3,]  3    421.29418\n",
       " [4,]  4    308.61684\n",
       " [5,]  5    245.21618\n",
       " [6,]  6    193.56810\n",
       " [7,]  7    150.05418\n",
       " [8,]  8    113.38952\n",
       " [9,]  9     82.95174\n",
       "[10,] 10     56.32414\n",
       "[11,] 11     43.33362\n",
       "[12,] 12     32.34231\n",
       "[13,] 13     21.47171\n",
       "[14,] 14     17.25329\n",
       "[15,] 15     13.87520\n",
       "[16,] 16     14.11418\n",
       "[17,] 17     14.91297\n",
       "[18,] 18     15.57534\n",
       "[19,] 19     16.82574\n",
       "[20,] 20     18.13372\n",
       "[21,] 21     19.50822\n",
       "[22,] 22     21.05928\n",
       "[23,] 23     23.00204\n",
       "[24,] 24     25.00000"
      ]
     },
     "metadata": {},
     "output_type": "display_data"
    }
   ],
   "source": [
    "cbind(seq(1:24), regfit.summary$cp)"
   ]
  },
  {
   "cell_type": "code",
   "execution_count": 83,
   "metadata": {
    "scrolled": true
   },
   "outputs": [
    {
     "data": {
      "text/html": [
       "<table>\n",
       "<tbody>\n",
       "\t<tr><td> 1       </td><td>-1419.979</td></tr>\n",
       "\t<tr><td> 2       </td><td>-1806.601</td></tr>\n",
       "\t<tr><td> 3       </td><td>-1949.236</td></tr>\n",
       "\t<tr><td> 4       </td><td>-2034.179</td></tr>\n",
       "\t<tr><td> 5       </td><td>-2082.224</td></tr>\n",
       "\t<tr><td> 6       </td><td>-2121.945</td></tr>\n",
       "\t<tr><td> 7       </td><td>-2155.761</td></tr>\n",
       "\t<tr><td> 8       </td><td>-2184.325</td></tr>\n",
       "\t<tr><td> 9       </td><td>-2207.809</td></tr>\n",
       "\t<tr><td>10       </td><td>-2228.228</td></tr>\n",
       "\t<tr><td>11       </td><td>-2235.662</td></tr>\n",
       "\t<tr><td>12       </td><td>-2241.254</td></tr>\n",
       "\t<tr><td>13       </td><td>-2246.840</td></tr>\n",
       "\t<tr><td>14       </td><td>-2245.813</td></tr>\n",
       "\t<tr><td>15       </td><td>-2243.962</td></tr>\n",
       "\t<tr><td>16       </td><td>-2238.461</td></tr>\n",
       "\t<tr><td>17       </td><td>-2232.393</td></tr>\n",
       "\t<tr><td>18       </td><td>-2226.464</td></tr>\n",
       "\t<tr><td>19       </td><td>-2219.940</td></tr>\n",
       "\t<tr><td>20       </td><td>-2213.357</td></tr>\n",
       "\t<tr><td>21       </td><td>-2206.707</td></tr>\n",
       "\t<tr><td>22       </td><td>-2199.877</td></tr>\n",
       "\t<tr><td>23       </td><td>-2192.649</td></tr>\n",
       "\t<tr><td>24       </td><td>-2185.365</td></tr>\n",
       "</tbody>\n",
       "</table>\n"
      ],
      "text/latex": [
       "\\begin{tabular}{ll}\n",
       "\t  1        & -1419.979\\\\\n",
       "\t  2        & -1806.601\\\\\n",
       "\t  3        & -1949.236\\\\\n",
       "\t  4        & -2034.179\\\\\n",
       "\t  5        & -2082.224\\\\\n",
       "\t  6        & -2121.945\\\\\n",
       "\t  7        & -2155.761\\\\\n",
       "\t  8        & -2184.325\\\\\n",
       "\t  9        & -2207.809\\\\\n",
       "\t 10        & -2228.228\\\\\n",
       "\t 11        & -2235.662\\\\\n",
       "\t 12        & -2241.254\\\\\n",
       "\t 13        & -2246.840\\\\\n",
       "\t 14        & -2245.813\\\\\n",
       "\t 15        & -2243.962\\\\\n",
       "\t 16        & -2238.461\\\\\n",
       "\t 17        & -2232.393\\\\\n",
       "\t 18        & -2226.464\\\\\n",
       "\t 19        & -2219.940\\\\\n",
       "\t 20        & -2213.357\\\\\n",
       "\t 21        & -2206.707\\\\\n",
       "\t 22        & -2199.877\\\\\n",
       "\t 23        & -2192.649\\\\\n",
       "\t 24        & -2185.365\\\\\n",
       "\\end{tabular}\n"
      ],
      "text/markdown": [
       "\n",
       "|  1        | -1419.979 | \n",
       "|  2        | -1806.601 | \n",
       "|  3        | -1949.236 | \n",
       "|  4        | -2034.179 | \n",
       "|  5        | -2082.224 | \n",
       "|  6        | -2121.945 | \n",
       "|  7        | -2155.761 | \n",
       "|  8        | -2184.325 | \n",
       "|  9        | -2207.809 | \n",
       "| 10        | -2228.228 | \n",
       "| 11        | -2235.662 | \n",
       "| 12        | -2241.254 | \n",
       "| 13        | -2246.840 | \n",
       "| 14        | -2245.813 | \n",
       "| 15        | -2243.962 | \n",
       "| 16        | -2238.461 | \n",
       "| 17        | -2232.393 | \n",
       "| 18        | -2226.464 | \n",
       "| 19        | -2219.940 | \n",
       "| 20        | -2213.357 | \n",
       "| 21        | -2206.707 | \n",
       "| 22        | -2199.877 | \n",
       "| 23        | -2192.649 | \n",
       "| 24        | -2185.365 | \n",
       "\n",
       "\n"
      ],
      "text/plain": [
       "      [,1] [,2]     \n",
       " [1,]  1   -1419.979\n",
       " [2,]  2   -1806.601\n",
       " [3,]  3   -1949.236\n",
       " [4,]  4   -2034.179\n",
       " [5,]  5   -2082.224\n",
       " [6,]  6   -2121.945\n",
       " [7,]  7   -2155.761\n",
       " [8,]  8   -2184.325\n",
       " [9,]  9   -2207.809\n",
       "[10,] 10   -2228.228\n",
       "[11,] 11   -2235.662\n",
       "[12,] 12   -2241.254\n",
       "[13,] 13   -2246.840\n",
       "[14,] 14   -2245.813\n",
       "[15,] 15   -2243.962\n",
       "[16,] 16   -2238.461\n",
       "[17,] 17   -2232.393\n",
       "[18,] 18   -2226.464\n",
       "[19,] 19   -2219.940\n",
       "[20,] 20   -2213.357\n",
       "[21,] 21   -2206.707\n",
       "[22,] 22   -2199.877\n",
       "[23,] 23   -2192.649\n",
       "[24,] 24   -2185.365"
      ]
     },
     "metadata": {},
     "output_type": "display_data"
    }
   ],
   "source": [
    "cbind(seq(1:24), regfit.summary$bic)"
   ]
  },
  {
   "cell_type": "code",
   "execution_count": null,
   "metadata": {
    "collapsed": true
   },
   "outputs": [],
   "source": []
  },
  {
   "cell_type": "markdown",
   "metadata": {},
   "source": [
    "* Forward Selection"
   ]
  },
  {
   "cell_type": "code",
   "execution_count": 84,
   "metadata": {
    "collapsed": true
   },
   "outputs": [],
   "source": [
    "regfit.fwd = regsubsets(SalePrice ~ ., data = data_housing, method = \"forward\", nvmax =26)\n",
    "regfitfwd.summary <- summary(regfit.fwd)"
   ]
  },
  {
   "cell_type": "code",
   "execution_count": 85,
   "metadata": {},
   "outputs": [
    {
     "data": {
      "text/plain": [
       "Subset selection object\n",
       "Call: regsubsets.formula(SalePrice ~ ., data = data_housing, method = \"forward\", \n",
       "    nvmax = 26)\n",
       "24 Variables  (and intercept)\n",
       "              Forced in Forced out\n",
       "MSSubClass        FALSE      FALSE\n",
       "LotFrontage       FALSE      FALSE\n",
       "LotArea           FALSE      FALSE\n",
       "OverallQual       FALSE      FALSE\n",
       "OverallCond       FALSE      FALSE\n",
       "YearBuilt         FALSE      FALSE\n",
       "YearRemodAdd      FALSE      FALSE\n",
       "MasVnrArea        FALSE      FALSE\n",
       "TotalBsmtSF       FALSE      FALSE\n",
       "X1stFlrSF         FALSE      FALSE\n",
       "X2ndFlrSF         FALSE      FALSE\n",
       "GrLivArea         FALSE      FALSE\n",
       "BedroomAbvGr      FALSE      FALSE\n",
       "KitchenAbvGr      FALSE      FALSE\n",
       "TotRmsAbvGrd      FALSE      FALSE\n",
       "GarageArea        FALSE      FALSE\n",
       "WoodDeckSF        FALSE      FALSE\n",
       "OpenPorchSF       FALSE      FALSE\n",
       "EnclosedPorch     FALSE      FALSE\n",
       "X3SsnPorch        FALSE      FALSE\n",
       "ScreenPorch       FALSE      FALSE\n",
       "PoolArea          FALSE      FALSE\n",
       "MoSold            FALSE      FALSE\n",
       "YrSold            FALSE      FALSE\n",
       "1 subsets of each size up to 24\n",
       "Selection Algorithm: forward\n",
       "          MSSubClass LotFrontage LotArea OverallQual OverallCond YearBuilt\n",
       "1  ( 1 )  \" \"        \" \"         \" \"     \"*\"         \" \"         \" \"      \n",
       "2  ( 1 )  \" \"        \" \"         \" \"     \"*\"         \" \"         \" \"      \n",
       "3  ( 1 )  \" \"        \" \"         \" \"     \"*\"         \" \"         \" \"      \n",
       "4  ( 1 )  \" \"        \" \"         \" \"     \"*\"         \" \"         \"*\"      \n",
       "5  ( 1 )  \" \"        \" \"         \" \"     \"*\"         \" \"         \"*\"      \n",
       "6  ( 1 )  \" \"        \" \"         \" \"     \"*\"         \"*\"         \"*\"      \n",
       "7  ( 1 )  \"*\"        \" \"         \" \"     \"*\"         \"*\"         \"*\"      \n",
       "8  ( 1 )  \"*\"        \" \"         \" \"     \"*\"         \"*\"         \"*\"      \n",
       "9  ( 1 )  \"*\"        \" \"         \"*\"     \"*\"         \"*\"         \"*\"      \n",
       "10  ( 1 ) \"*\"        \" \"         \"*\"     \"*\"         \"*\"         \"*\"      \n",
       "11  ( 1 ) \"*\"        \" \"         \"*\"     \"*\"         \"*\"         \"*\"      \n",
       "12  ( 1 ) \"*\"        \" \"         \"*\"     \"*\"         \"*\"         \"*\"      \n",
       "13  ( 1 ) \"*\"        \" \"         \"*\"     \"*\"         \"*\"         \"*\"      \n",
       "14  ( 1 ) \"*\"        \" \"         \"*\"     \"*\"         \"*\"         \"*\"      \n",
       "15  ( 1 ) \"*\"        \" \"         \"*\"     \"*\"         \"*\"         \"*\"      \n",
       "16  ( 1 ) \"*\"        \" \"         \"*\"     \"*\"         \"*\"         \"*\"      \n",
       "17  ( 1 ) \"*\"        \" \"         \"*\"     \"*\"         \"*\"         \"*\"      \n",
       "18  ( 1 ) \"*\"        \" \"         \"*\"     \"*\"         \"*\"         \"*\"      \n",
       "19  ( 1 ) \"*\"        \"*\"         \"*\"     \"*\"         \"*\"         \"*\"      \n",
       "20  ( 1 ) \"*\"        \"*\"         \"*\"     \"*\"         \"*\"         \"*\"      \n",
       "21  ( 1 ) \"*\"        \"*\"         \"*\"     \"*\"         \"*\"         \"*\"      \n",
       "22  ( 1 ) \"*\"        \"*\"         \"*\"     \"*\"         \"*\"         \"*\"      \n",
       "23  ( 1 ) \"*\"        \"*\"         \"*\"     \"*\"         \"*\"         \"*\"      \n",
       "24  ( 1 ) \"*\"        \"*\"         \"*\"     \"*\"         \"*\"         \"*\"      \n",
       "          YearRemodAdd MasVnrArea TotalBsmtSF X1stFlrSF X2ndFlrSF GrLivArea\n",
       "1  ( 1 )  \" \"          \" \"        \" \"         \" \"       \" \"       \" \"      \n",
       "2  ( 1 )  \" \"          \" \"        \" \"         \" \"       \" \"       \"*\"      \n",
       "3  ( 1 )  \" \"          \" \"        \"*\"         \" \"       \" \"       \"*\"      \n",
       "4  ( 1 )  \" \"          \" \"        \"*\"         \" \"       \" \"       \"*\"      \n",
       "5  ( 1 )  \" \"          \" \"        \"*\"         \" \"       \" \"       \"*\"      \n",
       "6  ( 1 )  \" \"          \" \"        \"*\"         \" \"       \" \"       \"*\"      \n",
       "7  ( 1 )  \" \"          \" \"        \"*\"         \" \"       \" \"       \"*\"      \n",
       "8  ( 1 )  \" \"          \" \"        \"*\"         \" \"       \" \"       \"*\"      \n",
       "9  ( 1 )  \" \"          \" \"        \"*\"         \" \"       \" \"       \"*\"      \n",
       "10  ( 1 ) \" \"          \"*\"        \"*\"         \" \"       \" \"       \"*\"      \n",
       "11  ( 1 ) \" \"          \"*\"        \"*\"         \" \"       \" \"       \"*\"      \n",
       "12  ( 1 ) \" \"          \"*\"        \"*\"         \" \"       \" \"       \"*\"      \n",
       "13  ( 1 ) \" \"          \"*\"        \"*\"         \" \"       \" \"       \"*\"      \n",
       "14  ( 1 ) \"*\"          \"*\"        \"*\"         \" \"       \" \"       \"*\"      \n",
       "15  ( 1 ) \"*\"          \"*\"        \"*\"         \" \"       \" \"       \"*\"      \n",
       "16  ( 1 ) \"*\"          \"*\"        \"*\"         \" \"       \" \"       \"*\"      \n",
       "17  ( 1 ) \"*\"          \"*\"        \"*\"         \"*\"       \" \"       \"*\"      \n",
       "18  ( 1 ) \"*\"          \"*\"        \"*\"         \"*\"       \"*\"       \"*\"      \n",
       "19  ( 1 ) \"*\"          \"*\"        \"*\"         \"*\"       \"*\"       \"*\"      \n",
       "20  ( 1 ) \"*\"          \"*\"        \"*\"         \"*\"       \"*\"       \"*\"      \n",
       "21  ( 1 ) \"*\"          \"*\"        \"*\"         \"*\"       \"*\"       \"*\"      \n",
       "22  ( 1 ) \"*\"          \"*\"        \"*\"         \"*\"       \"*\"       \"*\"      \n",
       "23  ( 1 ) \"*\"          \"*\"        \"*\"         \"*\"       \"*\"       \"*\"      \n",
       "24  ( 1 ) \"*\"          \"*\"        \"*\"         \"*\"       \"*\"       \"*\"      \n",
       "          BedroomAbvGr KitchenAbvGr TotRmsAbvGrd GarageArea WoodDeckSF\n",
       "1  ( 1 )  \" \"          \" \"          \" \"          \" \"        \" \"       \n",
       "2  ( 1 )  \" \"          \" \"          \" \"          \" \"        \" \"       \n",
       "3  ( 1 )  \" \"          \" \"          \" \"          \" \"        \" \"       \n",
       "4  ( 1 )  \" \"          \" \"          \" \"          \" \"        \" \"       \n",
       "5  ( 1 )  \" \"          \" \"          \" \"          \"*\"        \" \"       \n",
       "6  ( 1 )  \" \"          \" \"          \" \"          \"*\"        \" \"       \n",
       "7  ( 1 )  \" \"          \" \"          \" \"          \"*\"        \" \"       \n",
       "8  ( 1 )  \"*\"          \" \"          \" \"          \"*\"        \" \"       \n",
       "9  ( 1 )  \"*\"          \" \"          \" \"          \"*\"        \" \"       \n",
       "10  ( 1 ) \"*\"          \" \"          \" \"          \"*\"        \" \"       \n",
       "11  ( 1 ) \"*\"          \" \"          \" \"          \"*\"        \"*\"       \n",
       "12  ( 1 ) \"*\"          \" \"          \"*\"          \"*\"        \"*\"       \n",
       "13  ( 1 ) \"*\"          \" \"          \"*\"          \"*\"        \"*\"       \n",
       "14  ( 1 ) \"*\"          \" \"          \"*\"          \"*\"        \"*\"       \n",
       "15  ( 1 ) \"*\"          \"*\"          \"*\"          \"*\"        \"*\"       \n",
       "16  ( 1 ) \"*\"          \"*\"          \"*\"          \"*\"        \"*\"       \n",
       "17  ( 1 ) \"*\"          \"*\"          \"*\"          \"*\"        \"*\"       \n",
       "18  ( 1 ) \"*\"          \"*\"          \"*\"          \"*\"        \"*\"       \n",
       "19  ( 1 ) \"*\"          \"*\"          \"*\"          \"*\"        \"*\"       \n",
       "20  ( 1 ) \"*\"          \"*\"          \"*\"          \"*\"        \"*\"       \n",
       "21  ( 1 ) \"*\"          \"*\"          \"*\"          \"*\"        \"*\"       \n",
       "22  ( 1 ) \"*\"          \"*\"          \"*\"          \"*\"        \"*\"       \n",
       "23  ( 1 ) \"*\"          \"*\"          \"*\"          \"*\"        \"*\"       \n",
       "24  ( 1 ) \"*\"          \"*\"          \"*\"          \"*\"        \"*\"       \n",
       "          OpenPorchSF EnclosedPorch X3SsnPorch ScreenPorch PoolArea MoSold\n",
       "1  ( 1 )  \" \"         \" \"           \" \"        \" \"         \" \"      \" \"   \n",
       "2  ( 1 )  \" \"         \" \"           \" \"        \" \"         \" \"      \" \"   \n",
       "3  ( 1 )  \" \"         \" \"           \" \"        \" \"         \" \"      \" \"   \n",
       "4  ( 1 )  \" \"         \" \"           \" \"        \" \"         \" \"      \" \"   \n",
       "5  ( 1 )  \" \"         \" \"           \" \"        \" \"         \" \"      \" \"   \n",
       "6  ( 1 )  \" \"         \" \"           \" \"        \" \"         \" \"      \" \"   \n",
       "7  ( 1 )  \" \"         \" \"           \" \"        \" \"         \" \"      \" \"   \n",
       "8  ( 1 )  \" \"         \" \"           \" \"        \" \"         \" \"      \" \"   \n",
       "9  ( 1 )  \" \"         \" \"           \" \"        \" \"         \" \"      \" \"   \n",
       "10  ( 1 ) \" \"         \" \"           \" \"        \" \"         \" \"      \" \"   \n",
       "11  ( 1 ) \" \"         \" \"           \" \"        \" \"         \" \"      \" \"   \n",
       "12  ( 1 ) \" \"         \" \"           \" \"        \" \"         \" \"      \" \"   \n",
       "13  ( 1 ) \" \"         \" \"           \" \"        \"*\"         \" \"      \" \"   \n",
       "14  ( 1 ) \" \"         \" \"           \" \"        \"*\"         \" \"      \" \"   \n",
       "15  ( 1 ) \" \"         \" \"           \" \"        \"*\"         \" \"      \" \"   \n",
       "16  ( 1 ) \" \"         \" \"           \" \"        \"*\"         \"*\"      \" \"   \n",
       "17  ( 1 ) \" \"         \" \"           \" \"        \"*\"         \"*\"      \" \"   \n",
       "18  ( 1 ) \" \"         \" \"           \" \"        \"*\"         \"*\"      \" \"   \n",
       "19  ( 1 ) \" \"         \" \"           \" \"        \"*\"         \"*\"      \" \"   \n",
       "20  ( 1 ) \" \"         \"*\"           \" \"        \"*\"         \"*\"      \" \"   \n",
       "21  ( 1 ) \" \"         \"*\"           \" \"        \"*\"         \"*\"      \" \"   \n",
       "22  ( 1 ) \" \"         \"*\"           \"*\"        \"*\"         \"*\"      \" \"   \n",
       "23  ( 1 ) \"*\"         \"*\"           \"*\"        \"*\"         \"*\"      \" \"   \n",
       "24  ( 1 ) \"*\"         \"*\"           \"*\"        \"*\"         \"*\"      \"*\"   \n",
       "          YrSold\n",
       "1  ( 1 )  \" \"   \n",
       "2  ( 1 )  \" \"   \n",
       "3  ( 1 )  \" \"   \n",
       "4  ( 1 )  \" \"   \n",
       "5  ( 1 )  \" \"   \n",
       "6  ( 1 )  \" \"   \n",
       "7  ( 1 )  \" \"   \n",
       "8  ( 1 )  \" \"   \n",
       "9  ( 1 )  \" \"   \n",
       "10  ( 1 ) \" \"   \n",
       "11  ( 1 ) \" \"   \n",
       "12  ( 1 ) \" \"   \n",
       "13  ( 1 ) \" \"   \n",
       "14  ( 1 ) \" \"   \n",
       "15  ( 1 ) \" \"   \n",
       "16  ( 1 ) \" \"   \n",
       "17  ( 1 ) \" \"   \n",
       "18  ( 1 ) \" \"   \n",
       "19  ( 1 ) \" \"   \n",
       "20  ( 1 ) \" \"   \n",
       "21  ( 1 ) \"*\"   \n",
       "22  ( 1 ) \"*\"   \n",
       "23  ( 1 ) \"*\"   \n",
       "24  ( 1 ) \"*\"   "
      ]
     },
     "metadata": {},
     "output_type": "display_data"
    }
   ],
   "source": [
    "summary(regfit.fwd)"
   ]
  },
  {
   "cell_type": "markdown",
   "metadata": {},
   "source": [
    "* Backward Selection"
   ]
  },
  {
   "cell_type": "code",
   "execution_count": 86,
   "metadata": {
    "collapsed": true
   },
   "outputs": [],
   "source": [
    "regfit.bcd = regsubsets(SalePrice ~ ., data = data_housing, method = \"backward\", nvmax =26)\n",
    "regfitbcd.summary <- summary(regfit.bcd)"
   ]
  },
  {
   "cell_type": "code",
   "execution_count": 87,
   "metadata": {},
   "outputs": [
    {
     "data": {
      "text/plain": [
       "Subset selection object\n",
       "Call: regsubsets.formula(SalePrice ~ ., data = data_housing, method = \"backward\", \n",
       "    nvmax = 26)\n",
       "24 Variables  (and intercept)\n",
       "              Forced in Forced out\n",
       "MSSubClass        FALSE      FALSE\n",
       "LotFrontage       FALSE      FALSE\n",
       "LotArea           FALSE      FALSE\n",
       "OverallQual       FALSE      FALSE\n",
       "OverallCond       FALSE      FALSE\n",
       "YearBuilt         FALSE      FALSE\n",
       "YearRemodAdd      FALSE      FALSE\n",
       "MasVnrArea        FALSE      FALSE\n",
       "TotalBsmtSF       FALSE      FALSE\n",
       "X1stFlrSF         FALSE      FALSE\n",
       "X2ndFlrSF         FALSE      FALSE\n",
       "GrLivArea         FALSE      FALSE\n",
       "BedroomAbvGr      FALSE      FALSE\n",
       "KitchenAbvGr      FALSE      FALSE\n",
       "TotRmsAbvGrd      FALSE      FALSE\n",
       "GarageArea        FALSE      FALSE\n",
       "WoodDeckSF        FALSE      FALSE\n",
       "OpenPorchSF       FALSE      FALSE\n",
       "EnclosedPorch     FALSE      FALSE\n",
       "X3SsnPorch        FALSE      FALSE\n",
       "ScreenPorch       FALSE      FALSE\n",
       "PoolArea          FALSE      FALSE\n",
       "MoSold            FALSE      FALSE\n",
       "YrSold            FALSE      FALSE\n",
       "1 subsets of each size up to 24\n",
       "Selection Algorithm: backward\n",
       "          MSSubClass LotFrontage LotArea OverallQual OverallCond YearBuilt\n",
       "1  ( 1 )  \" \"        \" \"         \" \"     \"*\"         \" \"         \" \"      \n",
       "2  ( 1 )  \" \"        \" \"         \" \"     \"*\"         \" \"         \" \"      \n",
       "3  ( 1 )  \" \"        \" \"         \" \"     \"*\"         \" \"         \" \"      \n",
       "4  ( 1 )  \" \"        \" \"         \" \"     \"*\"         \" \"         \"*\"      \n",
       "5  ( 1 )  \"*\"        \" \"         \" \"     \"*\"         \" \"         \"*\"      \n",
       "6  ( 1 )  \"*\"        \" \"         \" \"     \"*\"         \" \"         \"*\"      \n",
       "7  ( 1 )  \"*\"        \" \"         \" \"     \"*\"         \"*\"         \"*\"      \n",
       "8  ( 1 )  \"*\"        \" \"         \" \"     \"*\"         \"*\"         \"*\"      \n",
       "9  ( 1 )  \"*\"        \" \"         \"*\"     \"*\"         \"*\"         \"*\"      \n",
       "10  ( 1 ) \"*\"        \" \"         \"*\"     \"*\"         \"*\"         \"*\"      \n",
       "11  ( 1 ) \"*\"        \" \"         \"*\"     \"*\"         \"*\"         \"*\"      \n",
       "12  ( 1 ) \"*\"        \" \"         \"*\"     \"*\"         \"*\"         \"*\"      \n",
       "13  ( 1 ) \"*\"        \" \"         \"*\"     \"*\"         \"*\"         \"*\"      \n",
       "14  ( 1 ) \"*\"        \" \"         \"*\"     \"*\"         \"*\"         \"*\"      \n",
       "15  ( 1 ) \"*\"        \" \"         \"*\"     \"*\"         \"*\"         \"*\"      \n",
       "16  ( 1 ) \"*\"        \" \"         \"*\"     \"*\"         \"*\"         \"*\"      \n",
       "17  ( 1 ) \"*\"        \" \"         \"*\"     \"*\"         \"*\"         \"*\"      \n",
       "18  ( 1 ) \"*\"        \" \"         \"*\"     \"*\"         \"*\"         \"*\"      \n",
       "19  ( 1 ) \"*\"        \"*\"         \"*\"     \"*\"         \"*\"         \"*\"      \n",
       "20  ( 1 ) \"*\"        \"*\"         \"*\"     \"*\"         \"*\"         \"*\"      \n",
       "21  ( 1 ) \"*\"        \"*\"         \"*\"     \"*\"         \"*\"         \"*\"      \n",
       "22  ( 1 ) \"*\"        \"*\"         \"*\"     \"*\"         \"*\"         \"*\"      \n",
       "23  ( 1 ) \"*\"        \"*\"         \"*\"     \"*\"         \"*\"         \"*\"      \n",
       "24  ( 1 ) \"*\"        \"*\"         \"*\"     \"*\"         \"*\"         \"*\"      \n",
       "          YearRemodAdd MasVnrArea TotalBsmtSF X1stFlrSF X2ndFlrSF GrLivArea\n",
       "1  ( 1 )  \" \"          \" \"        \" \"         \" \"       \" \"       \" \"      \n",
       "2  ( 1 )  \" \"          \" \"        \" \"         \"*\"       \" \"       \" \"      \n",
       "3  ( 1 )  \" \"          \" \"        \" \"         \"*\"       \"*\"       \" \"      \n",
       "4  ( 1 )  \" \"          \" \"        \" \"         \"*\"       \"*\"       \" \"      \n",
       "5  ( 1 )  \" \"          \" \"        \" \"         \"*\"       \"*\"       \" \"      \n",
       "6  ( 1 )  \" \"          \" \"        \" \"         \"*\"       \"*\"       \" \"      \n",
       "7  ( 1 )  \" \"          \" \"        \" \"         \"*\"       \"*\"       \" \"      \n",
       "8  ( 1 )  \" \"          \"*\"        \" \"         \"*\"       \"*\"       \" \"      \n",
       "9  ( 1 )  \" \"          \"*\"        \" \"         \"*\"       \"*\"       \" \"      \n",
       "10  ( 1 ) \" \"          \"*\"        \" \"         \"*\"       \"*\"       \" \"      \n",
       "11  ( 1 ) \" \"          \"*\"        \" \"         \"*\"       \"*\"       \" \"      \n",
       "12  ( 1 ) \" \"          \"*\"        \" \"         \"*\"       \"*\"       \" \"      \n",
       "13  ( 1 ) \" \"          \"*\"        \"*\"         \"*\"       \"*\"       \" \"      \n",
       "14  ( 1 ) \" \"          \"*\"        \"*\"         \"*\"       \"*\"       \" \"      \n",
       "15  ( 1 ) \" \"          \"*\"        \"*\"         \"*\"       \"*\"       \" \"      \n",
       "16  ( 1 ) \"*\"          \"*\"        \"*\"         \"*\"       \"*\"       \" \"      \n",
       "17  ( 1 ) \"*\"          \"*\"        \"*\"         \"*\"       \"*\"       \"*\"      \n",
       "18  ( 1 ) \"*\"          \"*\"        \"*\"         \"*\"       \"*\"       \"*\"      \n",
       "19  ( 1 ) \"*\"          \"*\"        \"*\"         \"*\"       \"*\"       \"*\"      \n",
       "20  ( 1 ) \"*\"          \"*\"        \"*\"         \"*\"       \"*\"       \"*\"      \n",
       "21  ( 1 ) \"*\"          \"*\"        \"*\"         \"*\"       \"*\"       \"*\"      \n",
       "22  ( 1 ) \"*\"          \"*\"        \"*\"         \"*\"       \"*\"       \"*\"      \n",
       "23  ( 1 ) \"*\"          \"*\"        \"*\"         \"*\"       \"*\"       \"*\"      \n",
       "24  ( 1 ) \"*\"          \"*\"        \"*\"         \"*\"       \"*\"       \"*\"      \n",
       "          BedroomAbvGr KitchenAbvGr TotRmsAbvGrd GarageArea WoodDeckSF\n",
       "1  ( 1 )  \" \"          \" \"          \" \"          \" \"        \" \"       \n",
       "2  ( 1 )  \" \"          \" \"          \" \"          \" \"        \" \"       \n",
       "3  ( 1 )  \" \"          \" \"          \" \"          \" \"        \" \"       \n",
       "4  ( 1 )  \" \"          \" \"          \" \"          \" \"        \" \"       \n",
       "5  ( 1 )  \" \"          \" \"          \" \"          \" \"        \" \"       \n",
       "6  ( 1 )  \"*\"          \" \"          \" \"          \" \"        \" \"       \n",
       "7  ( 1 )  \"*\"          \" \"          \" \"          \" \"        \" \"       \n",
       "8  ( 1 )  \"*\"          \" \"          \" \"          \" \"        \" \"       \n",
       "9  ( 1 )  \"*\"          \" \"          \" \"          \" \"        \" \"       \n",
       "10  ( 1 ) \"*\"          \" \"          \" \"          \"*\"        \" \"       \n",
       "11  ( 1 ) \"*\"          \" \"          \" \"          \"*\"        \"*\"       \n",
       "12  ( 1 ) \"*\"          \" \"          \"*\"          \"*\"        \"*\"       \n",
       "13  ( 1 ) \"*\"          \" \"          \"*\"          \"*\"        \"*\"       \n",
       "14  ( 1 ) \"*\"          \" \"          \"*\"          \"*\"        \"*\"       \n",
       "15  ( 1 ) \"*\"          \"*\"          \"*\"          \"*\"        \"*\"       \n",
       "16  ( 1 ) \"*\"          \"*\"          \"*\"          \"*\"        \"*\"       \n",
       "17  ( 1 ) \"*\"          \"*\"          \"*\"          \"*\"        \"*\"       \n",
       "18  ( 1 ) \"*\"          \"*\"          \"*\"          \"*\"        \"*\"       \n",
       "19  ( 1 ) \"*\"          \"*\"          \"*\"          \"*\"        \"*\"       \n",
       "20  ( 1 ) \"*\"          \"*\"          \"*\"          \"*\"        \"*\"       \n",
       "21  ( 1 ) \"*\"          \"*\"          \"*\"          \"*\"        \"*\"       \n",
       "22  ( 1 ) \"*\"          \"*\"          \"*\"          \"*\"        \"*\"       \n",
       "23  ( 1 ) \"*\"          \"*\"          \"*\"          \"*\"        \"*\"       \n",
       "24  ( 1 ) \"*\"          \"*\"          \"*\"          \"*\"        \"*\"       \n",
       "          OpenPorchSF EnclosedPorch X3SsnPorch ScreenPorch PoolArea MoSold\n",
       "1  ( 1 )  \" \"         \" \"           \" \"        \" \"         \" \"      \" \"   \n",
       "2  ( 1 )  \" \"         \" \"           \" \"        \" \"         \" \"      \" \"   \n",
       "3  ( 1 )  \" \"         \" \"           \" \"        \" \"         \" \"      \" \"   \n",
       "4  ( 1 )  \" \"         \" \"           \" \"        \" \"         \" \"      \" \"   \n",
       "5  ( 1 )  \" \"         \" \"           \" \"        \" \"         \" \"      \" \"   \n",
       "6  ( 1 )  \" \"         \" \"           \" \"        \" \"         \" \"      \" \"   \n",
       "7  ( 1 )  \" \"         \" \"           \" \"        \" \"         \" \"      \" \"   \n",
       "8  ( 1 )  \" \"         \" \"           \" \"        \" \"         \" \"      \" \"   \n",
       "9  ( 1 )  \" \"         \" \"           \" \"        \" \"         \" \"      \" \"   \n",
       "10  ( 1 ) \" \"         \" \"           \" \"        \" \"         \" \"      \" \"   \n",
       "11  ( 1 ) \" \"         \" \"           \" \"        \" \"         \" \"      \" \"   \n",
       "12  ( 1 ) \" \"         \" \"           \" \"        \" \"         \" \"      \" \"   \n",
       "13  ( 1 ) \" \"         \" \"           \" \"        \" \"         \" \"      \" \"   \n",
       "14  ( 1 ) \" \"         \" \"           \" \"        \"*\"         \" \"      \" \"   \n",
       "15  ( 1 ) \" \"         \" \"           \" \"        \"*\"         \" \"      \" \"   \n",
       "16  ( 1 ) \" \"         \" \"           \" \"        \"*\"         \" \"      \" \"   \n",
       "17  ( 1 ) \" \"         \" \"           \" \"        \"*\"         \" \"      \" \"   \n",
       "18  ( 1 ) \" \"         \" \"           \" \"        \"*\"         \"*\"      \" \"   \n",
       "19  ( 1 ) \" \"         \" \"           \" \"        \"*\"         \"*\"      \" \"   \n",
       "20  ( 1 ) \" \"         \"*\"           \" \"        \"*\"         \"*\"      \" \"   \n",
       "21  ( 1 ) \" \"         \"*\"           \" \"        \"*\"         \"*\"      \" \"   \n",
       "22  ( 1 ) \" \"         \"*\"           \"*\"        \"*\"         \"*\"      \" \"   \n",
       "23  ( 1 ) \"*\"         \"*\"           \"*\"        \"*\"         \"*\"      \" \"   \n",
       "24  ( 1 ) \"*\"         \"*\"           \"*\"        \"*\"         \"*\"      \"*\"   \n",
       "          YrSold\n",
       "1  ( 1 )  \" \"   \n",
       "2  ( 1 )  \" \"   \n",
       "3  ( 1 )  \" \"   \n",
       "4  ( 1 )  \" \"   \n",
       "5  ( 1 )  \" \"   \n",
       "6  ( 1 )  \" \"   \n",
       "7  ( 1 )  \" \"   \n",
       "8  ( 1 )  \" \"   \n",
       "9  ( 1 )  \" \"   \n",
       "10  ( 1 ) \" \"   \n",
       "11  ( 1 ) \" \"   \n",
       "12  ( 1 ) \" \"   \n",
       "13  ( 1 ) \" \"   \n",
       "14  ( 1 ) \" \"   \n",
       "15  ( 1 ) \" \"   \n",
       "16  ( 1 ) \" \"   \n",
       "17  ( 1 ) \" \"   \n",
       "18  ( 1 ) \" \"   \n",
       "19  ( 1 ) \" \"   \n",
       "20  ( 1 ) \" \"   \n",
       "21  ( 1 ) \"*\"   \n",
       "22  ( 1 ) \"*\"   \n",
       "23  ( 1 ) \"*\"   \n",
       "24  ( 1 ) \"*\"   "
      ]
     },
     "metadata": {},
     "output_type": "display_data"
    }
   ],
   "source": [
    "summary(regfit.bcd)"
   ]
  },
  {
   "cell_type": "markdown",
   "metadata": {},
   "source": [
    "* Validation Set Evaluation"
   ]
  },
  {
   "cell_type": "code",
   "execution_count": 88,
   "metadata": {
    "collapsed": true
   },
   "outputs": [],
   "source": [
    "set.seed(1)"
   ]
  },
  {
   "cell_type": "code",
   "execution_count": 89,
   "metadata": {
    "collapsed": true
   },
   "outputs": [],
   "source": [
    "train = sample(c(TRUE, FALSE), nrow(data_housing), rep = TRUE)\n",
    "test = (!train)"
   ]
  },
  {
   "cell_type": "code",
   "execution_count": 90,
   "metadata": {
    "collapsed": true
   },
   "outputs": [],
   "source": [
    "regfit.best = regsubsets(SalePrice ~ ., data = data_housing[train,], nvmax =24)"
   ]
  },
  {
   "cell_type": "code",
   "execution_count": 91,
   "metadata": {
    "collapsed": true
   },
   "outputs": [],
   "source": [
    "test.mat = model.matrix (SalePrice ~ ., data = data_housing[test ,])"
   ]
  },
  {
   "cell_type": "code",
   "execution_count": 93,
   "metadata": {
    "collapsed": true
   },
   "outputs": [],
   "source": [
    "val.error = rep(NA, 24)\n",
    "for(i in 1:24){\n",
    "    coefi = coef(regfit.best, id = i)\n",
    "    pred = test.mat[, names(coefi)] %*% coefi\n",
    "    val.error[i] = mean((data_housing$SalePrice[test] - pred)^2)\n",
    "}"
   ]
  },
  {
   "cell_type": "code",
   "execution_count": 94,
   "metadata": {},
   "outputs": [
    {
     "data": {
      "text/html": [
       "16"
      ],
      "text/latex": [
       "16"
      ],
      "text/markdown": [
       "16"
      ],
      "text/plain": [
       "[1] 16"
      ]
     },
     "metadata": {},
     "output_type": "display_data"
    }
   ],
   "source": [
    "which.min(val.error)"
   ]
  },
  {
   "cell_type": "code",
   "execution_count": 95,
   "metadata": {},
   "outputs": [
    {
     "data": {
      "text/html": [
       "<dl class=dl-horizontal>\n",
       "\t<dt>(Intercept)</dt>\n",
       "\t\t<dd>26771.0218008816</dd>\n",
       "\t<dt>MSSubClass</dt>\n",
       "\t\t<dd>-202.815602495396</dd>\n",
       "\t<dt>LotFrontage</dt>\n",
       "\t\t<dd>-121.844615713949</dd>\n",
       "\t<dt>LotArea</dt>\n",
       "\t\t<dd>0.217283025081353</dd>\n",
       "\t<dt>OverallQual</dt>\n",
       "\t\t<dd>20179.0359635609</dd>\n",
       "\t<dt>OverallCond</dt>\n",
       "\t\t<dd>3266.64170024773</dd>\n",
       "\t<dt>YearBuilt</dt>\n",
       "\t\t<dd>422.690790472977</dd>\n",
       "\t<dt>YearRemodAdd</dt>\n",
       "\t\t<dd>183.063280979241</dd>\n",
       "\t<dt>MasVnrArea</dt>\n",
       "\t\t<dd>19.1959009040367</dd>\n",
       "\t<dt>TotalBsmtSF</dt>\n",
       "\t\t<dd>7.5307682113912</dd>\n",
       "\t<dt>X2ndFlrSF</dt>\n",
       "\t\t<dd>-7.31334239362607</dd>\n",
       "\t<dt>GrLivArea</dt>\n",
       "\t\t<dd>51.3661622475795</dd>\n",
       "\t<dt>BedroomAbvGr</dt>\n",
       "\t\t<dd>-8290.74657788089</dd>\n",
       "\t<dt>TotRmsAbvGrd</dt>\n",
       "\t\t<dd>3871.99828750813</dd>\n",
       "\t<dt>GarageArea</dt>\n",
       "\t\t<dd>30.8326949787665</dd>\n",
       "\t<dt>WoodDeckSF</dt>\n",
       "\t\t<dd>46.3302921447579</dd>\n",
       "\t<dt>EnclosedPorch</dt>\n",
       "\t\t<dd>37.5064512389869</dd>\n",
       "\t<dt>X3SsnPorch</dt>\n",
       "\t\t<dd>49.9612186266078</dd>\n",
       "\t<dt>ScreenPorch</dt>\n",
       "\t\t<dd>87.03821635029</dd>\n",
       "\t<dt>YrSold</dt>\n",
       "\t\t<dd>-634.407022004041</dd>\n",
       "</dl>\n"
      ],
      "text/latex": [
       "\\begin{description*}\n",
       "\\item[(Intercept)] 26771.0218008816\n",
       "\\item[MSSubClass] -202.815602495396\n",
       "\\item[LotFrontage] -121.844615713949\n",
       "\\item[LotArea] 0.217283025081353\n",
       "\\item[OverallQual] 20179.0359635609\n",
       "\\item[OverallCond] 3266.64170024773\n",
       "\\item[YearBuilt] 422.690790472977\n",
       "\\item[YearRemodAdd] 183.063280979241\n",
       "\\item[MasVnrArea] 19.1959009040367\n",
       "\\item[TotalBsmtSF] 7.5307682113912\n",
       "\\item[X2ndFlrSF] -7.31334239362607\n",
       "\\item[GrLivArea] 51.3661622475795\n",
       "\\item[BedroomAbvGr] -8290.74657788089\n",
       "\\item[TotRmsAbvGrd] 3871.99828750813\n",
       "\\item[GarageArea] 30.8326949787665\n",
       "\\item[WoodDeckSF] 46.3302921447579\n",
       "\\item[EnclosedPorch] 37.5064512389869\n",
       "\\item[X3SsnPorch] 49.9612186266078\n",
       "\\item[ScreenPorch] 87.03821635029\n",
       "\\item[YrSold] -634.407022004041\n",
       "\\end{description*}\n"
      ],
      "text/markdown": [
       "(Intercept)\n",
       ":   26771.0218008816MSSubClass\n",
       ":   -202.815602495396LotFrontage\n",
       ":   -121.844615713949LotArea\n",
       ":   0.217283025081353OverallQual\n",
       ":   20179.0359635609OverallCond\n",
       ":   3266.64170024773YearBuilt\n",
       ":   422.690790472977YearRemodAdd\n",
       ":   183.063280979241MasVnrArea\n",
       ":   19.1959009040367TotalBsmtSF\n",
       ":   7.5307682113912X2ndFlrSF\n",
       ":   -7.31334239362607GrLivArea\n",
       ":   51.3661622475795BedroomAbvGr\n",
       ":   -8290.74657788089TotRmsAbvGrd\n",
       ":   3871.99828750813GarageArea\n",
       ":   30.8326949787665WoodDeckSF\n",
       ":   46.3302921447579EnclosedPorch\n",
       ":   37.5064512389869X3SsnPorch\n",
       ":   49.9612186266078ScreenPorch\n",
       ":   87.03821635029YrSold\n",
       ":   -634.407022004041\n",
       "\n"
      ],
      "text/plain": [
       "  (Intercept)    MSSubClass   LotFrontage       LotArea   OverallQual \n",
       " 26771.021801   -202.815602   -121.844616      0.217283  20179.035964 \n",
       "  OverallCond     YearBuilt  YearRemodAdd    MasVnrArea   TotalBsmtSF \n",
       "  3266.641700    422.690790    183.063281     19.195901      7.530768 \n",
       "    X2ndFlrSF     GrLivArea  BedroomAbvGr  TotRmsAbvGrd    GarageArea \n",
       "    -7.313342     51.366162  -8290.746578   3871.998288     30.832695 \n",
       "   WoodDeckSF EnclosedPorch    X3SsnPorch   ScreenPorch        YrSold \n",
       "    46.330292     37.506451     49.961219     87.038216   -634.407022 "
      ]
     },
     "metadata": {},
     "output_type": "display_data"
    }
   ],
   "source": [
    "coef(regfit.best, 19)"
   ]
  },
  {
   "cell_type": "markdown",
   "metadata": {},
   "source": [
    "* k-fold Cross Validation"
   ]
  },
  {
   "cell_type": "code",
   "execution_count": 173,
   "metadata": {
    "collapsed": true
   },
   "outputs": [],
   "source": [
    "predict.regsubset = function(object, newdata, id){\n",
    "    form = as.formula(object$call[[2]])\n",
    "    mat = model.matrix(form, newdata)\n",
    "    coefi = coef(object, id = id)\n",
    "    xvar = names(coefi)\n",
    "    mat[, xvar] %*% coefi\n",
    "}"
   ]
  },
  {
   "cell_type": "code",
   "execution_count": 169,
   "metadata": {
    "collapsed": true
   },
   "outputs": [],
   "source": [
    "k = 10\n",
    "set.seed(10)\n",
    "folds = sample(1:k, nrow(data_housing), replace = TRUE)\n",
    "cv.error = matrix(NA, k, 24, dimnames = list(NULL, paste (1:24)))"
   ]
  },
  {
   "cell_type": "code",
   "execution_count": 177,
   "metadata": {
    "collapsed": true
   },
   "outputs": [],
   "source": [
    "for(j in 1:k){\n",
    "    regfit.best = regsubsets(SalePrice ~ ., data = data_housing[folds != j,], \n",
    "                             nvmax =24)\n",
    "    for (i in 1:24){\n",
    "        pred = predict.regsubset(regfit.best, data_housing[folds == j,], id = i)\n",
    "        cv.error[j, i] = mean((data_housing$SalePrice[folds == j] - pred)^2)\n",
    "    }\n",
    "}"
   ]
  },
  {
   "cell_type": "code",
   "execution_count": 178,
   "metadata": {},
   "outputs": [
    {
     "data": {
      "text/html": [
       "<table>\n",
       "<thead><tr><th scope=col>1</th><th scope=col>2</th><th scope=col>3</th><th scope=col>4</th><th scope=col>5</th><th scope=col>6</th><th scope=col>7</th><th scope=col>8</th><th scope=col>9</th><th scope=col>10</th><th scope=col>⋯</th><th scope=col>15</th><th scope=col>16</th><th scope=col>17</th><th scope=col>18</th><th scope=col>19</th><th scope=col>20</th><th scope=col>21</th><th scope=col>22</th><th scope=col>23</th><th scope=col>24</th></tr></thead>\n",
       "<tbody>\n",
       "\t<tr><td>2332458090</td><td>1799598146</td><td>1403941261</td><td>1510858606</td><td>1337088943</td><td>1297074251</td><td>1274630778</td><td>1266491173</td><td>1193118661</td><td>1100997482</td><td>⋯         </td><td>1072042462</td><td>1079684542</td><td>1080221734</td><td>1075179969</td><td>1075658827</td><td>1075988311</td><td>1075633744</td><td>1078505159</td><td>1082858710</td><td>1082847895</td></tr>\n",
       "\t<tr><td>2199365420</td><td>1549194739</td><td>1393681811</td><td>1297054646</td><td>1242581120</td><td>1191767407</td><td>1112081197</td><td>1101220030</td><td>1058555259</td><td>1013753351</td><td>⋯         </td><td> 950973150</td><td> 957810224</td><td> 970364109</td><td> 965711633</td><td> 968624805</td><td> 965664587</td><td> 974855696</td><td> 975093471</td><td> 978339862</td><td> 975254365</td></tr>\n",
       "\t<tr><td>3155200387</td><td>3110878790</td><td>3887873270</td><td>3811964597</td><td>3711948214</td><td>3678382685</td><td>3808014950</td><td>3657643297</td><td>3635307426</td><td>4203676032</td><td>⋯         </td><td>4435449380</td><td>4407267590</td><td>4314370123</td><td>4319557747</td><td>4300016369</td><td>4304653361</td><td>4310066220</td><td>4306733461</td><td>4309137010</td><td>4310377301</td></tr>\n",
       "\t<tr><td>2409878406</td><td>1653612768</td><td>1540430556</td><td>1334936556</td><td>1325587916</td><td>1228307263</td><td>1209399527</td><td>1178019225</td><td>1045914215</td><td> 946349554</td><td>⋯         </td><td> 944949976</td><td> 960873855</td><td> 975121412</td><td> 970395982</td><td> 972614491</td><td> 975238090</td><td> 974454744</td><td> 969612855</td><td> 970527706</td><td> 970517699</td></tr>\n",
       "\t<tr><td>3102326741</td><td>1972092302</td><td>1694098352</td><td>1700303722</td><td>1603825907</td><td>1586111348</td><td>1565913832</td><td>1540925160</td><td>1462519242</td><td>1417246380</td><td>⋯         </td><td>1876842684</td><td>1889279901</td><td>1902423268</td><td>1906288302</td><td>1915005235</td><td>1922028784</td><td>1924617837</td><td>1915451581</td><td>1919034324</td><td>1923862285</td></tr>\n",
       "\t<tr><td>1557207885</td><td>1260670030</td><td>1127397042</td><td>1046299153</td><td> 987905313</td><td> 955459105</td><td> 947083093</td><td> 929590903</td><td> 919364253</td><td> 862982010</td><td>⋯         </td><td> 868736829</td><td> 876673928</td><td> 879078570</td><td> 879384900</td><td> 879991988</td><td> 882639812</td><td> 874563639</td><td> 872154416</td><td> 873350347</td><td> 874381514</td></tr>\n",
       "\t<tr><td>2888317863</td><td>1768374072</td><td>1558849430</td><td>1691110742</td><td>1671441414</td><td>1537501519</td><td>1505520569</td><td>1396221918</td><td>1378620134</td><td>1291349564</td><td>⋯         </td><td>1313662123</td><td>1287977320</td><td>1321377540</td><td>1328677554</td><td>1339833537</td><td>1338047242</td><td>1344324689</td><td>1341180266</td><td>1335788035</td><td>1336884279</td></tr>\n",
       "\t<tr><td>1906639842</td><td>1466599878</td><td>1406796176</td><td>1190798406</td><td>1122041895</td><td>1151036118</td><td>1164486805</td><td>1101782475</td><td>1020639542</td><td> 944095716</td><td>⋯         </td><td> 899625503</td><td> 912911728</td><td> 913316469</td><td> 917670761</td><td> 914632584</td><td> 919181391</td><td> 919049316</td><td> 918988676</td><td> 919063548</td><td> 919217864</td></tr>\n",
       "\t<tr><td>1938083706</td><td>1327242231</td><td>1111119075</td><td>1064447541</td><td>1079063110</td><td>1050086422</td><td>1006626082</td><td> 930151893</td><td> 894766487</td><td> 830853030</td><td>⋯         </td><td> 790247612</td><td> 788313307</td><td> 787061823</td><td> 780409237</td><td> 780000956</td><td> 780281337</td><td> 782186272</td><td> 779298764</td><td> 781171323</td><td> 778216404</td></tr>\n",
       "\t<tr><td>2189168567</td><td>2240652049</td><td>2144550957</td><td>1935601957</td><td>1884401421</td><td>1882927498</td><td>1897518981</td><td>1840780981</td><td>1833033055</td><td>1738248391</td><td>⋯         </td><td>1637167217</td><td>1653710645</td><td>1660681940</td><td>1674579946</td><td>1674901988</td><td>1674022944</td><td>1670981641</td><td>1669777087</td><td>1672472771</td><td>1673140906</td></tr>\n",
       "</tbody>\n",
       "</table>\n"
      ],
      "text/latex": [
       "\\begin{tabular}{llllllllllllllllllllllll}\n",
       " 1 & 2 & 3 & 4 & 5 & 6 & 7 & 8 & 9 & 10 & ⋯ & 15 & 16 & 17 & 18 & 19 & 20 & 21 & 22 & 23 & 24\\\\\n",
       "\\hline\n",
       "\t 2332458090 & 1799598146 & 1403941261 & 1510858606 & 1337088943 & 1297074251 & 1274630778 & 1266491173 & 1193118661 & 1100997482 & ⋯          & 1072042462 & 1079684542 & 1080221734 & 1075179969 & 1075658827 & 1075988311 & 1075633744 & 1078505159 & 1082858710 & 1082847895\\\\\n",
       "\t 2199365420 & 1549194739 & 1393681811 & 1297054646 & 1242581120 & 1191767407 & 1112081197 & 1101220030 & 1058555259 & 1013753351 & ⋯          &  950973150 &  957810224 &  970364109 &  965711633 &  968624805 &  965664587 &  974855696 &  975093471 &  978339862 &  975254365\\\\\n",
       "\t 3155200387 & 3110878790 & 3887873270 & 3811964597 & 3711948214 & 3678382685 & 3808014950 & 3657643297 & 3635307426 & 4203676032 & ⋯          & 4435449380 & 4407267590 & 4314370123 & 4319557747 & 4300016369 & 4304653361 & 4310066220 & 4306733461 & 4309137010 & 4310377301\\\\\n",
       "\t 2409878406 & 1653612768 & 1540430556 & 1334936556 & 1325587916 & 1228307263 & 1209399527 & 1178019225 & 1045914215 &  946349554 & ⋯          &  944949976 &  960873855 &  975121412 &  970395982 &  972614491 &  975238090 &  974454744 &  969612855 &  970527706 &  970517699\\\\\n",
       "\t 3102326741 & 1972092302 & 1694098352 & 1700303722 & 1603825907 & 1586111348 & 1565913832 & 1540925160 & 1462519242 & 1417246380 & ⋯          & 1876842684 & 1889279901 & 1902423268 & 1906288302 & 1915005235 & 1922028784 & 1924617837 & 1915451581 & 1919034324 & 1923862285\\\\\n",
       "\t 1557207885 & 1260670030 & 1127397042 & 1046299153 &  987905313 &  955459105 &  947083093 &  929590903 &  919364253 &  862982010 & ⋯          &  868736829 &  876673928 &  879078570 &  879384900 &  879991988 &  882639812 &  874563639 &  872154416 &  873350347 &  874381514\\\\\n",
       "\t 2888317863 & 1768374072 & 1558849430 & 1691110742 & 1671441414 & 1537501519 & 1505520569 & 1396221918 & 1378620134 & 1291349564 & ⋯          & 1313662123 & 1287977320 & 1321377540 & 1328677554 & 1339833537 & 1338047242 & 1344324689 & 1341180266 & 1335788035 & 1336884279\\\\\n",
       "\t 1906639842 & 1466599878 & 1406796176 & 1190798406 & 1122041895 & 1151036118 & 1164486805 & 1101782475 & 1020639542 &  944095716 & ⋯          &  899625503 &  912911728 &  913316469 &  917670761 &  914632584 &  919181391 &  919049316 &  918988676 &  919063548 &  919217864\\\\\n",
       "\t 1938083706 & 1327242231 & 1111119075 & 1064447541 & 1079063110 & 1050086422 & 1006626082 &  930151893 &  894766487 &  830853030 & ⋯          &  790247612 &  788313307 &  787061823 &  780409237 &  780000956 &  780281337 &  782186272 &  779298764 &  781171323 &  778216404\\\\\n",
       "\t 2189168567 & 2240652049 & 2144550957 & 1935601957 & 1884401421 & 1882927498 & 1897518981 & 1840780981 & 1833033055 & 1738248391 & ⋯          & 1637167217 & 1653710645 & 1660681940 & 1674579946 & 1674901988 & 1674022944 & 1670981641 & 1669777087 & 1672472771 & 1673140906\\\\\n",
       "\\end{tabular}\n"
      ],
      "text/markdown": [
       "\n",
       "1 | 2 | 3 | 4 | 5 | 6 | 7 | 8 | 9 | 10 | ⋯ | 15 | 16 | 17 | 18 | 19 | 20 | 21 | 22 | 23 | 24 | \n",
       "|---|---|---|---|---|---|---|---|---|---|\n",
       "| 2332458090 | 1799598146 | 1403941261 | 1510858606 | 1337088943 | 1297074251 | 1274630778 | 1266491173 | 1193118661 | 1100997482 | ⋯          | 1072042462 | 1079684542 | 1080221734 | 1075179969 | 1075658827 | 1075988311 | 1075633744 | 1078505159 | 1082858710 | 1082847895 | \n",
       "| 2199365420 | 1549194739 | 1393681811 | 1297054646 | 1242581120 | 1191767407 | 1112081197 | 1101220030 | 1058555259 | 1013753351 | ⋯          |  950973150 |  957810224 |  970364109 |  965711633 |  968624805 |  965664587 |  974855696 |  975093471 |  978339862 |  975254365 | \n",
       "| 3155200387 | 3110878790 | 3887873270 | 3811964597 | 3711948214 | 3678382685 | 3808014950 | 3657643297 | 3635307426 | 4203676032 | ⋯          | 4435449380 | 4407267590 | 4314370123 | 4319557747 | 4300016369 | 4304653361 | 4310066220 | 4306733461 | 4309137010 | 4310377301 | \n",
       "| 2409878406 | 1653612768 | 1540430556 | 1334936556 | 1325587916 | 1228307263 | 1209399527 | 1178019225 | 1045914215 |  946349554 | ⋯          |  944949976 |  960873855 |  975121412 |  970395982 |  972614491 |  975238090 |  974454744 |  969612855 |  970527706 |  970517699 | \n",
       "| 3102326741 | 1972092302 | 1694098352 | 1700303722 | 1603825907 | 1586111348 | 1565913832 | 1540925160 | 1462519242 | 1417246380 | ⋯          | 1876842684 | 1889279901 | 1902423268 | 1906288302 | 1915005235 | 1922028784 | 1924617837 | 1915451581 | 1919034324 | 1923862285 | \n",
       "| 1557207885 | 1260670030 | 1127397042 | 1046299153 |  987905313 |  955459105 |  947083093 |  929590903 |  919364253 |  862982010 | ⋯          |  868736829 |  876673928 |  879078570 |  879384900 |  879991988 |  882639812 |  874563639 |  872154416 |  873350347 |  874381514 | \n",
       "| 2888317863 | 1768374072 | 1558849430 | 1691110742 | 1671441414 | 1537501519 | 1505520569 | 1396221918 | 1378620134 | 1291349564 | ⋯          | 1313662123 | 1287977320 | 1321377540 | 1328677554 | 1339833537 | 1338047242 | 1344324689 | 1341180266 | 1335788035 | 1336884279 | \n",
       "| 1906639842 | 1466599878 | 1406796176 | 1190798406 | 1122041895 | 1151036118 | 1164486805 | 1101782475 | 1020639542 |  944095716 | ⋯          |  899625503 |  912911728 |  913316469 |  917670761 |  914632584 |  919181391 |  919049316 |  918988676 |  919063548 |  919217864 | \n",
       "| 1938083706 | 1327242231 | 1111119075 | 1064447541 | 1079063110 | 1050086422 | 1006626082 |  930151893 |  894766487 |  830853030 | ⋯          |  790247612 |  788313307 |  787061823 |  780409237 |  780000956 |  780281337 |  782186272 |  779298764 |  781171323 |  778216404 | \n",
       "| 2189168567 | 2240652049 | 2144550957 | 1935601957 | 1884401421 | 1882927498 | 1897518981 | 1840780981 | 1833033055 | 1738248391 | ⋯          | 1637167217 | 1653710645 | 1660681940 | 1674579946 | 1674901988 | 1674022944 | 1670981641 | 1669777087 | 1672472771 | 1673140906 | \n",
       "\n",
       "\n"
      ],
      "text/plain": [
       "      1          2          3          4          5          6         \n",
       " [1,] 2332458090 1799598146 1403941261 1510858606 1337088943 1297074251\n",
       " [2,] 2199365420 1549194739 1393681811 1297054646 1242581120 1191767407\n",
       " [3,] 3155200387 3110878790 3887873270 3811964597 3711948214 3678382685\n",
       " [4,] 2409878406 1653612768 1540430556 1334936556 1325587916 1228307263\n",
       " [5,] 3102326741 1972092302 1694098352 1700303722 1603825907 1586111348\n",
       " [6,] 1557207885 1260670030 1127397042 1046299153  987905313  955459105\n",
       " [7,] 2888317863 1768374072 1558849430 1691110742 1671441414 1537501519\n",
       " [8,] 1906639842 1466599878 1406796176 1190798406 1122041895 1151036118\n",
       " [9,] 1938083706 1327242231 1111119075 1064447541 1079063110 1050086422\n",
       "[10,] 2189168567 2240652049 2144550957 1935601957 1884401421 1882927498\n",
       "      7          8          9          10         ⋯ 15         16        \n",
       " [1,] 1274630778 1266491173 1193118661 1100997482 ⋯ 1072042462 1079684542\n",
       " [2,] 1112081197 1101220030 1058555259 1013753351 ⋯  950973150  957810224\n",
       " [3,] 3808014950 3657643297 3635307426 4203676032 ⋯ 4435449380 4407267590\n",
       " [4,] 1209399527 1178019225 1045914215  946349554 ⋯  944949976  960873855\n",
       " [5,] 1565913832 1540925160 1462519242 1417246380 ⋯ 1876842684 1889279901\n",
       " [6,]  947083093  929590903  919364253  862982010 ⋯  868736829  876673928\n",
       " [7,] 1505520569 1396221918 1378620134 1291349564 ⋯ 1313662123 1287977320\n",
       " [8,] 1164486805 1101782475 1020639542  944095716 ⋯  899625503  912911728\n",
       " [9,] 1006626082  930151893  894766487  830853030 ⋯  790247612  788313307\n",
       "[10,] 1897518981 1840780981 1833033055 1738248391 ⋯ 1637167217 1653710645\n",
       "      17         18         19         20         21         22        \n",
       " [1,] 1080221734 1075179969 1075658827 1075988311 1075633744 1078505159\n",
       " [2,]  970364109  965711633  968624805  965664587  974855696  975093471\n",
       " [3,] 4314370123 4319557747 4300016369 4304653361 4310066220 4306733461\n",
       " [4,]  975121412  970395982  972614491  975238090  974454744  969612855\n",
       " [5,] 1902423268 1906288302 1915005235 1922028784 1924617837 1915451581\n",
       " [6,]  879078570  879384900  879991988  882639812  874563639  872154416\n",
       " [7,] 1321377540 1328677554 1339833537 1338047242 1344324689 1341180266\n",
       " [8,]  913316469  917670761  914632584  919181391  919049316  918988676\n",
       " [9,]  787061823  780409237  780000956  780281337  782186272  779298764\n",
       "[10,] 1660681940 1674579946 1674901988 1674022944 1670981641 1669777087\n",
       "      23         24        \n",
       " [1,] 1082858710 1082847895\n",
       " [2,]  978339862  975254365\n",
       " [3,] 4309137010 4310377301\n",
       " [4,]  970527706  970517699\n",
       " [5,] 1919034324 1923862285\n",
       " [6,]  873350347  874381514\n",
       " [7,] 1335788035 1336884279\n",
       " [8,]  919063548  919217864\n",
       " [9,]  781171323  778216404\n",
       "[10,] 1672472771 1673140906"
      ]
     },
     "metadata": {},
     "output_type": "display_data"
    }
   ],
   "source": [
    "cv.error"
   ]
  },
  {
   "cell_type": "code",
   "execution_count": 180,
   "metadata": {},
   "outputs": [
    {
     "data": {
      "text/html": [
       "<strong>10:</strong> 10"
      ],
      "text/latex": [
       "\\textbf{10:} 10"
      ],
      "text/markdown": [
       "**10:** 10"
      ],
      "text/plain": [
       "10 \n",
       "10 "
      ]
     },
     "metadata": {},
     "output_type": "display_data"
    }
   ],
   "source": [
    "which.min(colMeans(cv.error))"
   ]
  },
  {
   "cell_type": "code",
   "execution_count": 182,
   "metadata": {},
   "outputs": [
    {
     "data": {
      "text/html": [
       "<ol class=list-inline>\n",
       "\t<li>'(Intercept)'</li>\n",
       "\t<li>'MSSubClass'</li>\n",
       "\t<li>'LotArea'</li>\n",
       "\t<li>'OverallQual'</li>\n",
       "\t<li>'OverallCond'</li>\n",
       "\t<li>'YearBuilt'</li>\n",
       "\t<li>'MasVnrArea'</li>\n",
       "\t<li>'TotalBsmtSF'</li>\n",
       "\t<li>'GrLivArea'</li>\n",
       "\t<li>'BedroomAbvGr'</li>\n",
       "\t<li>'GarageArea'</li>\n",
       "</ol>\n"
      ],
      "text/latex": [
       "\\begin{enumerate*}\n",
       "\\item '(Intercept)'\n",
       "\\item 'MSSubClass'\n",
       "\\item 'LotArea'\n",
       "\\item 'OverallQual'\n",
       "\\item 'OverallCond'\n",
       "\\item 'YearBuilt'\n",
       "\\item 'MasVnrArea'\n",
       "\\item 'TotalBsmtSF'\n",
       "\\item 'GrLivArea'\n",
       "\\item 'BedroomAbvGr'\n",
       "\\item 'GarageArea'\n",
       "\\end{enumerate*}\n"
      ],
      "text/markdown": [
       "1. '(Intercept)'\n",
       "2. 'MSSubClass'\n",
       "3. 'LotArea'\n",
       "4. 'OverallQual'\n",
       "5. 'OverallCond'\n",
       "6. 'YearBuilt'\n",
       "7. 'MasVnrArea'\n",
       "8. 'TotalBsmtSF'\n",
       "9. 'GrLivArea'\n",
       "10. 'BedroomAbvGr'\n",
       "11. 'GarageArea'\n",
       "\n",
       "\n"
      ],
      "text/plain": [
       " [1] \"(Intercept)\"  \"MSSubClass\"   \"LotArea\"      \"OverallQual\"  \"OverallCond\" \n",
       " [6] \"YearBuilt\"    \"MasVnrArea\"   \"TotalBsmtSF\"  \"GrLivArea\"    \"BedroomAbvGr\"\n",
       "[11] \"GarageArea\"  "
      ]
     },
     "metadata": {},
     "output_type": "display_data"
    }
   ],
   "source": [
    "names(coef(regfit.best, 10))"
   ]
  },
  {
   "cell_type": "code",
   "execution_count": null,
   "metadata": {
    "collapsed": true
   },
   "outputs": [],
   "source": []
  },
  {
   "cell_type": "code",
   "execution_count": null,
   "metadata": {
    "collapsed": true
   },
   "outputs": [],
   "source": []
  },
  {
   "cell_type": "markdown",
   "metadata": {},
   "source": [
    "### Lasso Regression"
   ]
  },
  {
   "cell_type": "code",
   "execution_count": 183,
   "metadata": {
    "collapsed": true
   },
   "outputs": [],
   "source": [
    "library(glmnet)"
   ]
  },
  {
   "cell_type": "code",
   "execution_count": 190,
   "metadata": {
    "collapsed": true
   },
   "outputs": [],
   "source": [
    "x = model.matrix(SalePrice ~ ., data_housing)[, -1]\n",
    "y = data_housing$SalePrice"
   ]
  },
  {
   "cell_type": "code",
   "execution_count": 200,
   "metadata": {
    "collapsed": true
   },
   "outputs": [],
   "source": [
    "grid = c(10000, 3000, 1000, 300, 100, 30, 10, 3, 1, 0.3, 0.1)\n",
    "lasso.mod = glmnet(x, y, alpha = 1, lambda = grid, standardize = TRUE)"
   ]
  },
  {
   "cell_type": "code",
   "execution_count": 201,
   "metadata": {},
   "outputs": [
    {
     "data": {
      "text/plain": [
       "\n",
       "Call:  glmnet(x = x, y = y, alpha = 1, lambda = grid, standardize = TRUE) \n",
       "\n",
       "      Df   %Dev Lambda\n",
       " [1,]  8 0.7408  1e+04\n",
       " [2,] 14 0.7854  3e+03\n",
       " [3,] 16 0.7996  1e+03\n",
       " [4,] 21 0.8018  3e+02\n",
       " [5,] 23 0.8022  1e+02\n",
       " [6,] 23 0.8024  3e+01\n",
       " [7,] 24 0.8024  1e+01\n",
       " [8,] 24 0.8024  3e+00\n",
       " [9,] 24 0.8024  1e+00\n",
       "[10,] 24 0.8024  3e-01\n",
       "[11,] 24 0.8024  1e-01"
      ]
     },
     "metadata": {},
     "output_type": "display_data"
    }
   ],
   "source": [
    "lasso.mod"
   ]
  },
  {
   "cell_type": "markdown",
   "metadata": {},
   "source": [
    "* Validation Set"
   ]
  },
  {
   "cell_type": "code",
   "execution_count": 202,
   "metadata": {
    "collapsed": true
   },
   "outputs": [],
   "source": [
    "train = sample(c(TRUE, FALSE), nrow(data_housing), rep = TRUE)\n",
    "test = (!train)"
   ]
  },
  {
   "cell_type": "code",
   "execution_count": 203,
   "metadata": {
    "collapsed": true
   },
   "outputs": [],
   "source": [
    "y.test = y[test]"
   ]
  },
  {
   "cell_type": "code",
   "execution_count": 206,
   "metadata": {
    "collapsed": true
   },
   "outputs": [],
   "source": [
    "grid = c(100000, 30000, 10000, 3000, 1000, 300, 100, 30, 10, 3, 1, 0.3, 0.1)\n",
    "lasso.mod = glmnet(x[train, ], y[train], alpha = 1, lambda = grid, standardize = TRUE)"
   ]
  },
  {
   "cell_type": "code",
   "execution_count": 208,
   "metadata": {
    "collapsed": true
   },
   "outputs": [],
   "source": [
    "lasso.score <- rep(NA, length(grid))\n",
    "for (i in 1:length(grid)){\n",
    "    lasso.pred = predict(lasso.mod, s = grid[i], newx = x[test, ])\n",
    "    lasso.score[i] = mean((lasso.pred - y.test)^2)\n",
    "}"
   ]
  },
  {
   "cell_type": "markdown",
   "metadata": {},
   "source": [
    "* K-Fold Cross Validation"
   ]
  },
  {
   "cell_type": "code",
   "execution_count": 213,
   "metadata": {
    "collapsed": true
   },
   "outputs": [],
   "source": [
    "set.seed(1)\n",
    "lasso.cv = cv.glmnet(x, y, alpha = 1, lambda = grid, standardize = TRUE)\n",
    "bestlam = lasso.cv$lambda.min"
   ]
  },
  {
   "cell_type": "code",
   "execution_count": 220,
   "metadata": {},
   "outputs": [
    {
     "data": {
      "text/html": [
       "1000"
      ],
      "text/latex": [
       "1000"
      ],
      "text/markdown": [
       "1000"
      ],
      "text/plain": [
       "[1] 1000"
      ]
     },
     "metadata": {},
     "output_type": "display_data"
    }
   ],
   "source": [
    "bestlam"
   ]
  },
  {
   "cell_type": "code",
   "execution_count": 221,
   "metadata": {
    "collapsed": true
   },
   "outputs": [],
   "source": [
    "lasso.best = glmnet(x, y, alpha = 1, lambda = bestlam, standardize = TRUE)"
   ]
  },
  {
   "cell_type": "code",
   "execution_count": 223,
   "metadata": {},
   "outputs": [
    {
     "data": {
      "text/plain": [
       "24 x 1 sparse Matrix of class \"dgCMatrix\"\n",
       "                         s0\n",
       "MSSubClass     -118.4019159\n",
       "LotFrontage       .        \n",
       "LotArea           0.4694331\n",
       "OverallQual   18664.9214350\n",
       "OverallCond    3134.6894438\n",
       "YearBuilt       326.2965487\n",
       "YearRemodAdd    191.1737986\n",
       "MasVnrArea       30.6848052\n",
       "TotalBsmtSF      13.9447028\n",
       "X1stFlrSF         6.2931177\n",
       "X2ndFlrSF         .        \n",
       "GrLivArea        47.9070642\n",
       "BedroomAbvGr  -7128.2038116\n",
       "KitchenAbvGr  -9572.5558163\n",
       "TotRmsAbvGrd   2798.1056817\n",
       "GarageArea       31.6183767\n",
       "WoodDeckSF       28.7513666\n",
       "OpenPorchSF       .        \n",
       "EnclosedPorch     .        \n",
       "X3SsnPorch        .        \n",
       "ScreenPorch      44.2764672\n",
       "PoolArea          .        \n",
       "MoSold            .        \n",
       "YrSold            .        "
      ]
     },
     "metadata": {},
     "output_type": "display_data"
    }
   ],
   "source": [
    "lasso.best$beta"
   ]
  },
  {
   "cell_type": "code",
   "execution_count": null,
   "metadata": {
    "collapsed": true
   },
   "outputs": [],
   "source": []
  },
  {
   "cell_type": "code",
   "execution_count": null,
   "metadata": {
    "collapsed": true
   },
   "outputs": [],
   "source": []
  }
 ],
 "metadata": {
  "kernelspec": {
   "display_name": "R",
   "language": "R",
   "name": "ir"
  },
  "language_info": {
   "codemirror_mode": "r",
   "file_extension": ".r",
   "mimetype": "text/x-r-source",
   "name": "R",
   "pygments_lexer": "r",
   "version": "3.4.1"
  }
 },
 "nbformat": 4,
 "nbformat_minor": 2
}
